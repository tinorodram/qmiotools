{
 "cells": [
  {
   "cell_type": "code",
   "execution_count": 1,
   "id": "e3659971",
   "metadata": {
    "scrolled": true
   },
   "outputs": [],
   "source": [
    "%load_ext autoreload\n",
    "%autoreload 2\n",
    "%matplotlib inline\n"
   ]
  },
  {
   "cell_type": "markdown",
   "id": "ce98fa6e",
   "metadata": {},
   "source": [
    "### Import the QmioBackend code"
   ]
  },
  {
   "cell_type": "code",
   "execution_count": 2,
   "id": "f09547f1",
   "metadata": {
    "scrolled": true
   },
   "outputs": [
    {
     "name": "stderr",
     "output_type": "stream",
     "text": [
      "/home/cesga/agomez/QMIO/githib/qmiotools/qmiotools/integrations/qiskitqmio/qmiobackend.py:17: UserWarning: Using a Qiskit version that does not support pulses. Pulses will not be available\n",
      "  warnings.warn(\"Using a Qiskit version that does not support pulses. Pulses will not be available\")\n"
     ]
    }
   ],
   "source": [
    "from qmiotools.integrations.qiskitqmio import QmioBackend"
   ]
  },
  {
   "cell_type": "code",
   "execution_count": null,
   "id": "cc2edece-bb65-4cde-b063-81d92dce51f7",
   "metadata": {},
   "outputs": [],
   "source": []
  },
  {
   "cell_type": "code",
   "execution_count": 17,
   "id": "6e0d1cde",
   "metadata": {},
   "outputs": [],
   "source": [
    "from qiskit.circuit import QuantumCircuit\n",
    "from qiskit import transpile\n",
    "from qiskit.visualization import plot_gate_map, plot_error_map"
   ]
  },
  {
   "cell_type": "markdown",
   "id": "4837b5d6",
   "metadata": {},
   "source": [
    "### Create an instance of the QMIO backend, loading the last calibration from the directory given by the QMIO_CALIBRATIONS environ"
   ]
  },
  {
   "cell_type": "code",
   "execution_count": 18,
   "id": "ea1b709f",
   "metadata": {},
   "outputs": [
    {
     "name": "stdout",
     "output_type": "stream",
     "text": [
      "2025-05-27 19:07:29,603 - QmioBackend/0.2.0 - INFO - Logging started:\n"
     ]
    },
    {
     "name": "stderr",
     "output_type": "stream",
     "text": [
      "2025-05-27 19:07:29,603 - QmioBackend/0.2.0 - INFO - Logging started:\n"
     ]
    },
    {
     "name": "stdout",
     "output_type": "stream",
     "text": [
      "2025-05-27 19:07:29,605 - QmioBackend/0.2.0 - INFO - Loading calibrations\n"
     ]
    },
    {
     "name": "stderr",
     "output_type": "stream",
     "text": [
      "2025-05-27 19:07:29,605 - QmioBackend/0.2.0 - INFO - Loading calibrations\n"
     ]
    },
    {
     "name": "stdout",
     "output_type": "stream",
     "text": [
      "Importing calibrations from  /opt/cesga/qmio/hpc/calibrations/2025_05_27__12_00_02.json\n",
      "2025-05-27 19:07:29,668 - QmioBackend/0.2.0 - DEBUG - Qubit:q[0], T1=0.000040548, T2=0.000049913, Drive Freq:4372600000.000000\n"
     ]
    },
    {
     "name": "stderr",
     "output_type": "stream",
     "text": [
      "2025-05-27 19:07:29,668 - QmioBackend/0.2.0 - DEBUG - Qubit:q[0], T1=0.000040548, T2=0.000049913, Drive Freq:4372600000.000000\n"
     ]
    },
    {
     "name": "stdout",
     "output_type": "stream",
     "text": [
      "2025-05-27 19:07:29,671 - QmioBackend/0.2.0 - DEBUG - Qubit:q[1], T1=0.000080737, T2=0.000127980, Drive Freq:4257400000.000000\n"
     ]
    },
    {
     "name": "stderr",
     "output_type": "stream",
     "text": [
      "2025-05-27 19:07:29,671 - QmioBackend/0.2.0 - DEBUG - Qubit:q[1], T1=0.000080737, T2=0.000127980, Drive Freq:4257400000.000000\n"
     ]
    },
    {
     "name": "stdout",
     "output_type": "stream",
     "text": [
      "2025-05-27 19:07:29,673 - QmioBackend/0.2.0 - DEBUG - Qubit:q[2], T1=0.000172600, T2=0.000082485, Drive Freq:4369400000.000000\n"
     ]
    },
    {
     "name": "stderr",
     "output_type": "stream",
     "text": [
      "2025-05-27 19:07:29,673 - QmioBackend/0.2.0 - DEBUG - Qubit:q[2], T1=0.000172600, T2=0.000082485, Drive Freq:4369400000.000000\n"
     ]
    },
    {
     "name": "stdout",
     "output_type": "stream",
     "text": [
      "2025-05-27 19:07:29,675 - QmioBackend/0.2.0 - DEBUG - Qubit:q[3], T1=0.000039442, T2=0.000087420, Drive Freq:4220000000.000000\n"
     ]
    },
    {
     "name": "stderr",
     "output_type": "stream",
     "text": [
      "2025-05-27 19:07:29,675 - QmioBackend/0.2.0 - DEBUG - Qubit:q[3], T1=0.000039442, T2=0.000087420, Drive Freq:4220000000.000000\n"
     ]
    },
    {
     "name": "stdout",
     "output_type": "stream",
     "text": [
      "2025-05-27 19:07:29,676 - QmioBackend/0.2.0 - DEBUG - Qubit:q[4], T1=0.000063660, T2=0.000076300, Drive Freq:4340900000.000000\n"
     ]
    },
    {
     "name": "stderr",
     "output_type": "stream",
     "text": [
      "2025-05-27 19:07:29,676 - QmioBackend/0.2.0 - DEBUG - Qubit:q[4], T1=0.000063660, T2=0.000076300, Drive Freq:4340900000.000000\n"
     ]
    },
    {
     "name": "stdout",
     "output_type": "stream",
     "text": [
      "2025-05-27 19:07:29,677 - QmioBackend/0.2.0 - DEBUG - Qubit:q[5], T1=0.000074690, T2=0.000110900, Drive Freq:4398400000.000000\n"
     ]
    },
    {
     "name": "stderr",
     "output_type": "stream",
     "text": [
      "2025-05-27 19:07:29,677 - QmioBackend/0.2.0 - DEBUG - Qubit:q[5], T1=0.000074690, T2=0.000110900, Drive Freq:4398400000.000000\n"
     ]
    },
    {
     "name": "stdout",
     "output_type": "stream",
     "text": [
      "2025-05-27 19:07:29,678 - QmioBackend/0.2.0 - DEBUG - Qubit:q[6], T1=0.000078653, T2=0.000166340, Drive Freq:4411400000.000000\n"
     ]
    },
    {
     "name": "stderr",
     "output_type": "stream",
     "text": [
      "2025-05-27 19:07:29,678 - QmioBackend/0.2.0 - DEBUG - Qubit:q[6], T1=0.000078653, T2=0.000166340, Drive Freq:4411400000.000000\n"
     ]
    },
    {
     "name": "stdout",
     "output_type": "stream",
     "text": [
      "2025-05-27 19:07:29,680 - QmioBackend/0.2.0 - DEBUG - Qubit:q[7], T1=0.000049444, T2=0.000031378, Drive Freq:4420500000.000000\n"
     ]
    },
    {
     "name": "stderr",
     "output_type": "stream",
     "text": [
      "2025-05-27 19:07:29,680 - QmioBackend/0.2.0 - DEBUG - Qubit:q[7], T1=0.000049444, T2=0.000031378, Drive Freq:4420500000.000000\n"
     ]
    },
    {
     "name": "stdout",
     "output_type": "stream",
     "text": [
      "2025-05-27 19:07:29,681 - QmioBackend/0.2.0 - DEBUG - Qubit:q[8], T1=0.000058720, T2=0.000188300, Drive Freq:4280400000.000000\n"
     ]
    },
    {
     "name": "stderr",
     "output_type": "stream",
     "text": [
      "2025-05-27 19:07:29,681 - QmioBackend/0.2.0 - DEBUG - Qubit:q[8], T1=0.000058720, T2=0.000188300, Drive Freq:4280400000.000000\n"
     ]
    },
    {
     "name": "stdout",
     "output_type": "stream",
     "text": [
      "2025-05-27 19:07:29,682 - QmioBackend/0.2.0 - DEBUG - Qubit:q[9], T1=0.000051361, T2=0.000039921, Drive Freq:4412800000.000000\n"
     ]
    },
    {
     "name": "stderr",
     "output_type": "stream",
     "text": [
      "2025-05-27 19:07:29,682 - QmioBackend/0.2.0 - DEBUG - Qubit:q[9], T1=0.000051361, T2=0.000039921, Drive Freq:4412800000.000000\n"
     ]
    },
    {
     "name": "stdout",
     "output_type": "stream",
     "text": [
      "2025-05-27 19:07:29,683 - QmioBackend/0.2.0 - DEBUG - Qubit:q[10], T1=0.000063244, T2=0.000063007, Drive Freq:4241300000.000000\n"
     ]
    },
    {
     "name": "stderr",
     "output_type": "stream",
     "text": [
      "2025-05-27 19:07:29,683 - QmioBackend/0.2.0 - DEBUG - Qubit:q[10], T1=0.000063244, T2=0.000063007, Drive Freq:4241300000.000000\n"
     ]
    },
    {
     "name": "stdout",
     "output_type": "stream",
     "text": [
      "2025-05-27 19:07:29,684 - QmioBackend/0.2.0 - DEBUG - Qubit:q[11], T1=0.000056049, T2=0.000153810, Drive Freq:4364900000.000000\n"
     ]
    },
    {
     "name": "stderr",
     "output_type": "stream",
     "text": [
      "2025-05-27 19:07:29,684 - QmioBackend/0.2.0 - DEBUG - Qubit:q[11], T1=0.000056049, T2=0.000153810, Drive Freq:4364900000.000000\n"
     ]
    },
    {
     "name": "stdout",
     "output_type": "stream",
     "text": [
      "2025-05-27 19:07:29,685 - QmioBackend/0.2.0 - DEBUG - Qubit:q[12], T1=0.000029916, T2=0.000027305, Drive Freq:4283200000.000000\n"
     ]
    },
    {
     "name": "stderr",
     "output_type": "stream",
     "text": [
      "2025-05-27 19:07:29,685 - QmioBackend/0.2.0 - DEBUG - Qubit:q[12], T1=0.000029916, T2=0.000027305, Drive Freq:4283200000.000000\n"
     ]
    },
    {
     "name": "stdout",
     "output_type": "stream",
     "text": [
      "2025-05-27 19:07:29,686 - QmioBackend/0.2.0 - DEBUG - Qubit:q[13], T1=0.000055214, T2=0.000068868, Drive Freq:4408700000.000000\n"
     ]
    },
    {
     "name": "stderr",
     "output_type": "stream",
     "text": [
      "2025-05-27 19:07:29,686 - QmioBackend/0.2.0 - DEBUG - Qubit:q[13], T1=0.000055214, T2=0.000068868, Drive Freq:4408700000.000000\n"
     ]
    },
    {
     "name": "stdout",
     "output_type": "stream",
     "text": [
      "2025-05-27 19:07:29,687 - QmioBackend/0.2.0 - DEBUG - Qubit:q[14], T1=0.000058985, T2=0.000251240, Drive Freq:4398100000.000000\n"
     ]
    },
    {
     "name": "stderr",
     "output_type": "stream",
     "text": [
      "2025-05-27 19:07:29,687 - QmioBackend/0.2.0 - DEBUG - Qubit:q[14], T1=0.000058985, T2=0.000251240, Drive Freq:4398100000.000000\n"
     ]
    },
    {
     "name": "stdout",
     "output_type": "stream",
     "text": [
      "2025-05-27 19:07:29,687 - QmioBackend/0.2.0 - DEBUG - Qubit:q[15], T1=0.000077424, T2=0.000115000, Drive Freq:4377400000.000000\n"
     ]
    },
    {
     "name": "stderr",
     "output_type": "stream",
     "text": [
      "2025-05-27 19:07:29,687 - QmioBackend/0.2.0 - DEBUG - Qubit:q[15], T1=0.000077424, T2=0.000115000, Drive Freq:4377400000.000000\n"
     ]
    },
    {
     "name": "stdout",
     "output_type": "stream",
     "text": [
      "2025-05-27 19:07:29,688 - QmioBackend/0.2.0 - DEBUG - Qubit:q[16], T1=0.000060363, T2=0.000099788, Drive Freq:4317300000.000000\n"
     ]
    },
    {
     "name": "stderr",
     "output_type": "stream",
     "text": [
      "2025-05-27 19:07:29,688 - QmioBackend/0.2.0 - DEBUG - Qubit:q[16], T1=0.000060363, T2=0.000099788, Drive Freq:4317300000.000000\n"
     ]
    },
    {
     "name": "stdout",
     "output_type": "stream",
     "text": [
      "2025-05-27 19:07:29,689 - QmioBackend/0.2.0 - DEBUG - Qubit:q[17], T1=0.000046729, T2=0.000092928, Drive Freq:4290900000.000000\n"
     ]
    },
    {
     "name": "stderr",
     "output_type": "stream",
     "text": [
      "2025-05-27 19:07:29,689 - QmioBackend/0.2.0 - DEBUG - Qubit:q[17], T1=0.000046729, T2=0.000092928, Drive Freq:4290900000.000000\n"
     ]
    },
    {
     "name": "stdout",
     "output_type": "stream",
     "text": [
      "2025-05-27 19:07:29,690 - QmioBackend/0.2.0 - DEBUG - Qubit:q[18], T1=0.000044036, T2=0.000042170, Drive Freq:4311000000.000000\n"
     ]
    },
    {
     "name": "stderr",
     "output_type": "stream",
     "text": [
      "2025-05-27 19:07:29,690 - QmioBackend/0.2.0 - DEBUG - Qubit:q[18], T1=0.000044036, T2=0.000042170, Drive Freq:4311000000.000000\n"
     ]
    },
    {
     "name": "stdout",
     "output_type": "stream",
     "text": [
      "2025-05-27 19:07:29,691 - QmioBackend/0.2.0 - DEBUG - Qubit:q[19], T1=0.000060697, T2=0.000267300, Drive Freq:4253800000.000000\n"
     ]
    },
    {
     "name": "stderr",
     "output_type": "stream",
     "text": [
      "2025-05-27 19:07:29,691 - QmioBackend/0.2.0 - DEBUG - Qubit:q[19], T1=0.000060697, T2=0.000267300, Drive Freq:4253800000.000000\n"
     ]
    },
    {
     "name": "stdout",
     "output_type": "stream",
     "text": [
      "2025-05-27 19:07:29,692 - QmioBackend/0.2.0 - DEBUG - Qubit:q[20], T1=0.000043023, T2=0.000108690, Drive Freq:4328300000.000000\n"
     ]
    },
    {
     "name": "stderr",
     "output_type": "stream",
     "text": [
      "2025-05-27 19:07:29,692 - QmioBackend/0.2.0 - DEBUG - Qubit:q[20], T1=0.000043023, T2=0.000108690, Drive Freq:4328300000.000000\n"
     ]
    },
    {
     "name": "stdout",
     "output_type": "stream",
     "text": [
      "2025-05-27 19:07:29,692 - QmioBackend/0.2.0 - DEBUG - Qubit:q[21], T1=0.000051252, T2=0.000065342, Drive Freq:4314300000.000000\n"
     ]
    },
    {
     "name": "stderr",
     "output_type": "stream",
     "text": [
      "2025-05-27 19:07:29,692 - QmioBackend/0.2.0 - DEBUG - Qubit:q[21], T1=0.000051252, T2=0.000065342, Drive Freq:4314300000.000000\n"
     ]
    },
    {
     "name": "stdout",
     "output_type": "stream",
     "text": [
      "2025-05-27 19:07:29,693 - QmioBackend/0.2.0 - DEBUG - Qubit:q[22], T1=0.000029462, T2=0.000049631, Drive Freq:4393400000.000000\n"
     ]
    },
    {
     "name": "stderr",
     "output_type": "stream",
     "text": [
      "2025-05-27 19:07:29,693 - QmioBackend/0.2.0 - DEBUG - Qubit:q[22], T1=0.000029462, T2=0.000049631, Drive Freq:4393400000.000000\n"
     ]
    },
    {
     "name": "stdout",
     "output_type": "stream",
     "text": [
      "2025-05-27 19:07:29,694 - QmioBackend/0.2.0 - DEBUG - Qubit:q[23], T1=0.317000000, T2=0.000078868, Drive Freq:4395400000.000000\n"
     ]
    },
    {
     "name": "stderr",
     "output_type": "stream",
     "text": [
      "2025-05-27 19:07:29,694 - QmioBackend/0.2.0 - DEBUG - Qubit:q[23], T1=0.317000000, T2=0.000078868, Drive Freq:4395400000.000000\n"
     ]
    },
    {
     "name": "stdout",
     "output_type": "stream",
     "text": [
      "2025-05-27 19:07:29,695 - QmioBackend/0.2.0 - DEBUG - Qubit:q[24], T1=0.000059279, T2=0.000024124, Drive Freq:4481300000.000000\n"
     ]
    },
    {
     "name": "stderr",
     "output_type": "stream",
     "text": [
      "2025-05-27 19:07:29,695 - QmioBackend/0.2.0 - DEBUG - Qubit:q[24], T1=0.000059279, T2=0.000024124, Drive Freq:4481300000.000000\n"
     ]
    },
    {
     "name": "stdout",
     "output_type": "stream",
     "text": [
      "2025-05-27 19:07:29,696 - QmioBackend/0.2.0 - DEBUG - Qubit:q[25], T1=0.000108050, T2=0.300950000, Drive Freq:4449600000.000000\n"
     ]
    },
    {
     "name": "stderr",
     "output_type": "stream",
     "text": [
      "2025-05-27 19:07:29,696 - QmioBackend/0.2.0 - DEBUG - Qubit:q[25], T1=0.000108050, T2=0.300950000, Drive Freq:4449600000.000000\n"
     ]
    },
    {
     "name": "stdout",
     "output_type": "stream",
     "text": [
      "2025-05-27 19:07:29,697 - QmioBackend/0.2.0 - DEBUG - Qubit:q[26], T1=0.000050996, T2=0.000051789, Drive Freq:4362600000.000000\n"
     ]
    },
    {
     "name": "stderr",
     "output_type": "stream",
     "text": [
      "2025-05-27 19:07:29,697 - QmioBackend/0.2.0 - DEBUG - Qubit:q[26], T1=0.000050996, T2=0.000051789, Drive Freq:4362600000.000000\n"
     ]
    },
    {
     "name": "stdout",
     "output_type": "stream",
     "text": [
      "2025-05-27 19:07:29,698 - QmioBackend/0.2.0 - DEBUG - Qubit:q[27], T1=0.000061076, T2=0.000118110, Drive Freq:4267100000.000000\n"
     ]
    },
    {
     "name": "stderr",
     "output_type": "stream",
     "text": [
      "2025-05-27 19:07:29,698 - QmioBackend/0.2.0 - DEBUG - Qubit:q[27], T1=0.000061076, T2=0.000118110, Drive Freq:4267100000.000000\n"
     ]
    },
    {
     "name": "stdout",
     "output_type": "stream",
     "text": [
      "2025-05-27 19:07:29,698 - QmioBackend/0.2.0 - DEBUG - Qubit:q[28], T1=0.000076454, T2=0.000154740, Drive Freq:4278900000.000000\n"
     ]
    },
    {
     "name": "stderr",
     "output_type": "stream",
     "text": [
      "2025-05-27 19:07:29,698 - QmioBackend/0.2.0 - DEBUG - Qubit:q[28], T1=0.000076454, T2=0.000154740, Drive Freq:4278900000.000000\n"
     ]
    },
    {
     "name": "stdout",
     "output_type": "stream",
     "text": [
      "2025-05-27 19:07:29,699 - QmioBackend/0.2.0 - DEBUG - Qubit:q[29], T1=0.000051567, T2=0.000074256, Drive Freq:4250900000.000000\n"
     ]
    },
    {
     "name": "stderr",
     "output_type": "stream",
     "text": [
      "2025-05-27 19:07:29,699 - QmioBackend/0.2.0 - DEBUG - Qubit:q[29], T1=0.000051567, T2=0.000074256, Drive Freq:4250900000.000000\n"
     ]
    },
    {
     "name": "stdout",
     "output_type": "stream",
     "text": [
      "2025-05-27 19:07:29,700 - QmioBackend/0.2.0 - DEBUG - Qubit:q[30], T1=0.000048786, T2=0.000060141, Drive Freq:4289900000.000000\n"
     ]
    },
    {
     "name": "stderr",
     "output_type": "stream",
     "text": [
      "2025-05-27 19:07:29,700 - QmioBackend/0.2.0 - DEBUG - Qubit:q[30], T1=0.000048786, T2=0.000060141, Drive Freq:4289900000.000000\n"
     ]
    },
    {
     "name": "stdout",
     "output_type": "stream",
     "text": [
      "2025-05-27 19:07:29,701 - QmioBackend/0.2.0 - DEBUG - Qubit:q[31], T1=0.000041488, T2=0.000066302, Drive Freq:4165600000.000000\n"
     ]
    },
    {
     "name": "stderr",
     "output_type": "stream",
     "text": [
      "2025-05-27 19:07:29,701 - QmioBackend/0.2.0 - DEBUG - Qubit:q[31], T1=0.000041488, T2=0.000066302, Drive Freq:4165600000.000000\n"
     ]
    },
    {
     "name": "stdout",
     "output_type": "stream",
     "text": [
      "2025-05-27 19:07:29,702 - QmioBackend/0.2.0 - INFO - Number of loaded qubits 32\n"
     ]
    },
    {
     "name": "stderr",
     "output_type": "stream",
     "text": [
      "2025-05-27 19:07:29,702 - QmioBackend/0.2.0 - INFO - Number of loaded qubits 32\n"
     ]
    },
    {
     "name": "stdout",
     "output_type": "stream",
     "text": [
      "2025-05-27 19:07:29,703 - QmioBackend/0.2.0 - DEBUG - Added SX[0]- Duration 0.0000000640s - error 0.007270\n"
     ]
    },
    {
     "name": "stderr",
     "output_type": "stream",
     "text": [
      "2025-05-27 19:07:29,703 - QmioBackend/0.2.0 - DEBUG - Added SX[0]- Duration 0.0000000640s - error 0.007270\n"
     ]
    },
    {
     "name": "stdout",
     "output_type": "stream",
     "text": [
      "2025-05-27 19:07:29,705 - QmioBackend/0.2.0 - DEBUG - Added SX[1]- Duration 0.0000000320s - error 0.000660\n"
     ]
    },
    {
     "name": "stderr",
     "output_type": "stream",
     "text": [
      "2025-05-27 19:07:29,705 - QmioBackend/0.2.0 - DEBUG - Added SX[1]- Duration 0.0000000320s - error 0.000660\n"
     ]
    },
    {
     "name": "stdout",
     "output_type": "stream",
     "text": [
      "2025-05-27 19:07:29,706 - QmioBackend/0.2.0 - DEBUG - Added SX[2]- Duration 0.0000000960s - error 0.007980\n"
     ]
    },
    {
     "name": "stderr",
     "output_type": "stream",
     "text": [
      "2025-05-27 19:07:29,706 - QmioBackend/0.2.0 - DEBUG - Added SX[2]- Duration 0.0000000960s - error 0.007980\n"
     ]
    },
    {
     "name": "stdout",
     "output_type": "stream",
     "text": [
      "2025-05-27 19:07:29,707 - QmioBackend/0.2.0 - DEBUG - Added SX[3]- Duration 0.0000000320s - error 0.001960\n"
     ]
    },
    {
     "name": "stderr",
     "output_type": "stream",
     "text": [
      "2025-05-27 19:07:29,707 - QmioBackend/0.2.0 - DEBUG - Added SX[3]- Duration 0.0000000320s - error 0.001960\n"
     ]
    },
    {
     "name": "stdout",
     "output_type": "stream",
     "text": [
      "2025-05-27 19:07:29,708 - QmioBackend/0.2.0 - DEBUG - Added SX[4]- Duration 0.0000000640s - error 0.000280\n"
     ]
    },
    {
     "name": "stderr",
     "output_type": "stream",
     "text": [
      "2025-05-27 19:07:29,708 - QmioBackend/0.2.0 - DEBUG - Added SX[4]- Duration 0.0000000640s - error 0.000280\n"
     ]
    },
    {
     "name": "stdout",
     "output_type": "stream",
     "text": [
      "2025-05-27 19:07:29,709 - QmioBackend/0.2.0 - DEBUG - Added SX[5]- Duration 0.0000000960s - error 0.003260\n"
     ]
    },
    {
     "name": "stderr",
     "output_type": "stream",
     "text": [
      "2025-05-27 19:07:29,709 - QmioBackend/0.2.0 - DEBUG - Added SX[5]- Duration 0.0000000960s - error 0.003260\n"
     ]
    },
    {
     "name": "stdout",
     "output_type": "stream",
     "text": [
      "2025-05-27 19:07:29,710 - QmioBackend/0.2.0 - DEBUG - Added SX[6]- Duration 0.0000000320s - error 0.001270\n"
     ]
    },
    {
     "name": "stderr",
     "output_type": "stream",
     "text": [
      "2025-05-27 19:07:29,710 - QmioBackend/0.2.0 - DEBUG - Added SX[6]- Duration 0.0000000320s - error 0.001270\n"
     ]
    },
    {
     "name": "stdout",
     "output_type": "stream",
     "text": [
      "2025-05-27 19:07:29,711 - QmioBackend/0.2.0 - DEBUG - Added SX[7]- Duration 0.0000001280s - error 0.012210\n"
     ]
    },
    {
     "name": "stderr",
     "output_type": "stream",
     "text": [
      "2025-05-27 19:07:29,711 - QmioBackend/0.2.0 - DEBUG - Added SX[7]- Duration 0.0000001280s - error 0.012210\n"
     ]
    },
    {
     "name": "stdout",
     "output_type": "stream",
     "text": [
      "2025-05-27 19:07:29,712 - QmioBackend/0.2.0 - DEBUG - Added SX[8]- Duration 0.0000000320s - error 0.001010\n"
     ]
    },
    {
     "name": "stderr",
     "output_type": "stream",
     "text": [
      "2025-05-27 19:07:29,712 - QmioBackend/0.2.0 - DEBUG - Added SX[8]- Duration 0.0000000320s - error 0.001010\n"
     ]
    },
    {
     "name": "stdout",
     "output_type": "stream",
     "text": [
      "2025-05-27 19:07:29,721 - QmioBackend/0.2.0 - DEBUG - Added SX[9]- Duration 0.0000001280s - error 0.009380\n"
     ]
    },
    {
     "name": "stderr",
     "output_type": "stream",
     "text": [
      "2025-05-27 19:07:29,721 - QmioBackend/0.2.0 - DEBUG - Added SX[9]- Duration 0.0000001280s - error 0.009380\n"
     ]
    },
    {
     "name": "stdout",
     "output_type": "stream",
     "text": [
      "2025-05-27 19:07:29,722 - QmioBackend/0.2.0 - DEBUG - Added SX[10]- Duration 0.0000000320s - error 0.000640\n"
     ]
    },
    {
     "name": "stderr",
     "output_type": "stream",
     "text": [
      "2025-05-27 19:07:29,722 - QmioBackend/0.2.0 - DEBUG - Added SX[10]- Duration 0.0000000320s - error 0.000640\n"
     ]
    },
    {
     "name": "stdout",
     "output_type": "stream",
     "text": [
      "2025-05-27 19:07:29,723 - QmioBackend/0.2.0 - DEBUG - Added SX[11]- Duration 0.0000000320s - error 0.002920\n"
     ]
    },
    {
     "name": "stderr",
     "output_type": "stream",
     "text": [
      "2025-05-27 19:07:29,723 - QmioBackend/0.2.0 - DEBUG - Added SX[11]- Duration 0.0000000320s - error 0.002920\n"
     ]
    },
    {
     "name": "stdout",
     "output_type": "stream",
     "text": [
      "2025-05-27 19:07:29,724 - QmioBackend/0.2.0 - DEBUG - Added SX[12]- Duration 0.0000000960s - error 0.017260\n"
     ]
    },
    {
     "name": "stderr",
     "output_type": "stream",
     "text": [
      "2025-05-27 19:07:29,724 - QmioBackend/0.2.0 - DEBUG - Added SX[12]- Duration 0.0000000960s - error 0.017260\n"
     ]
    },
    {
     "name": "stdout",
     "output_type": "stream",
     "text": [
      "2025-05-27 19:07:29,725 - QmioBackend/0.2.0 - DEBUG - Added SX[13]- Duration 0.0000000320s - error 0.005140\n"
     ]
    },
    {
     "name": "stderr",
     "output_type": "stream",
     "text": [
      "2025-05-27 19:07:29,725 - QmioBackend/0.2.0 - DEBUG - Added SX[13]- Duration 0.0000000320s - error 0.005140\n"
     ]
    },
    {
     "name": "stdout",
     "output_type": "stream",
     "text": [
      "2025-05-27 19:07:29,726 - QmioBackend/0.2.0 - DEBUG - Added SX[14]- Duration 0.0000000320s - error 0.002550\n"
     ]
    },
    {
     "name": "stderr",
     "output_type": "stream",
     "text": [
      "2025-05-27 19:07:29,726 - QmioBackend/0.2.0 - DEBUG - Added SX[14]- Duration 0.0000000320s - error 0.002550\n"
     ]
    },
    {
     "name": "stdout",
     "output_type": "stream",
     "text": [
      "2025-05-27 19:07:29,726 - QmioBackend/0.2.0 - DEBUG - Added SX[15]- Duration 0.0000000320s - error 0.000490\n"
     ]
    },
    {
     "name": "stderr",
     "output_type": "stream",
     "text": [
      "2025-05-27 19:07:29,726 - QmioBackend/0.2.0 - DEBUG - Added SX[15]- Duration 0.0000000320s - error 0.000490\n"
     ]
    },
    {
     "name": "stdout",
     "output_type": "stream",
     "text": [
      "2025-05-27 19:07:29,727 - QmioBackend/0.2.0 - DEBUG - Added SX[16]- Duration 0.0000000320s - error 0.000000\n"
     ]
    },
    {
     "name": "stderr",
     "output_type": "stream",
     "text": [
      "2025-05-27 19:07:29,727 - QmioBackend/0.2.0 - DEBUG - Added SX[16]- Duration 0.0000000320s - error 0.000000\n"
     ]
    },
    {
     "name": "stdout",
     "output_type": "stream",
     "text": [
      "2025-05-27 19:07:29,728 - QmioBackend/0.2.0 - DEBUG - Added SX[17]- Duration 0.0000001280s - error 0.041810\n"
     ]
    },
    {
     "name": "stderr",
     "output_type": "stream",
     "text": [
      "2025-05-27 19:07:29,728 - QmioBackend/0.2.0 - DEBUG - Added SX[17]- Duration 0.0000001280s - error 0.041810\n"
     ]
    },
    {
     "name": "stdout",
     "output_type": "stream",
     "text": [
      "2025-05-27 19:07:29,729 - QmioBackend/0.2.0 - DEBUG - Added SX[18]- Duration 0.0000000320s - error 0.004500\n"
     ]
    },
    {
     "name": "stderr",
     "output_type": "stream",
     "text": [
      "2025-05-27 19:07:29,729 - QmioBackend/0.2.0 - DEBUG - Added SX[18]- Duration 0.0000000320s - error 0.004500\n"
     ]
    },
    {
     "name": "stdout",
     "output_type": "stream",
     "text": [
      "2025-05-27 19:07:29,730 - QmioBackend/0.2.0 - DEBUG - Added SX[19]- Duration 0.0000000320s - error 0.000000\n"
     ]
    },
    {
     "name": "stderr",
     "output_type": "stream",
     "text": [
      "2025-05-27 19:07:29,730 - QmioBackend/0.2.0 - DEBUG - Added SX[19]- Duration 0.0000000320s - error 0.000000\n"
     ]
    },
    {
     "name": "stdout",
     "output_type": "stream",
     "text": [
      "2025-05-27 19:07:29,730 - QmioBackend/0.2.0 - DEBUG - Added SX[20]- Duration 0.0000000320s - error 0.000660\n"
     ]
    },
    {
     "name": "stderr",
     "output_type": "stream",
     "text": [
      "2025-05-27 19:07:29,730 - QmioBackend/0.2.0 - DEBUG - Added SX[20]- Duration 0.0000000320s - error 0.000660\n"
     ]
    },
    {
     "name": "stdout",
     "output_type": "stream",
     "text": [
      "2025-05-27 19:07:29,731 - QmioBackend/0.2.0 - DEBUG - Added SX[21]- Duration 0.0000000320s - error 0.001100\n"
     ]
    },
    {
     "name": "stderr",
     "output_type": "stream",
     "text": [
      "2025-05-27 19:07:29,731 - QmioBackend/0.2.0 - DEBUG - Added SX[21]- Duration 0.0000000320s - error 0.001100\n"
     ]
    },
    {
     "name": "stdout",
     "output_type": "stream",
     "text": [
      "2025-05-27 19:07:29,732 - QmioBackend/0.2.0 - DEBUG - Added SX[22]- Duration 0.0000000320s - error 0.000870\n"
     ]
    },
    {
     "name": "stderr",
     "output_type": "stream",
     "text": [
      "2025-05-27 19:07:29,732 - QmioBackend/0.2.0 - DEBUG - Added SX[22]- Duration 0.0000000320s - error 0.000870\n"
     ]
    },
    {
     "name": "stdout",
     "output_type": "stream",
     "text": [
      "2025-05-27 19:07:29,733 - QmioBackend/0.2.0 - DEBUG - Added SX[23]- Duration 0.0000000320s - error 0.000520\n"
     ]
    },
    {
     "name": "stderr",
     "output_type": "stream",
     "text": [
      "2025-05-27 19:07:29,733 - QmioBackend/0.2.0 - DEBUG - Added SX[23]- Duration 0.0000000320s - error 0.000520\n"
     ]
    },
    {
     "name": "stdout",
     "output_type": "stream",
     "text": [
      "2025-05-27 19:07:29,734 - QmioBackend/0.2.0 - DEBUG - Added SX[24]- Duration 0.0000000320s - error 0.034840\n"
     ]
    },
    {
     "name": "stderr",
     "output_type": "stream",
     "text": [
      "2025-05-27 19:07:29,734 - QmioBackend/0.2.0 - DEBUG - Added SX[24]- Duration 0.0000000320s - error 0.034840\n"
     ]
    },
    {
     "name": "stdout",
     "output_type": "stream",
     "text": [
      "2025-05-27 19:07:29,734 - QmioBackend/0.2.0 - DEBUG - Added SX[25]- Duration 0.0000000320s - error 0.000150\n"
     ]
    },
    {
     "name": "stderr",
     "output_type": "stream",
     "text": [
      "2025-05-27 19:07:29,734 - QmioBackend/0.2.0 - DEBUG - Added SX[25]- Duration 0.0000000320s - error 0.000150\n"
     ]
    },
    {
     "name": "stdout",
     "output_type": "stream",
     "text": [
      "2025-05-27 19:07:29,735 - QmioBackend/0.2.0 - DEBUG - Added SX[26]- Duration 0.0000000320s - error 0.002050\n"
     ]
    },
    {
     "name": "stderr",
     "output_type": "stream",
     "text": [
      "2025-05-27 19:07:29,735 - QmioBackend/0.2.0 - DEBUG - Added SX[26]- Duration 0.0000000320s - error 0.002050\n"
     ]
    },
    {
     "name": "stdout",
     "output_type": "stream",
     "text": [
      "2025-05-27 19:07:29,736 - QmioBackend/0.2.0 - DEBUG - Added SX[27]- Duration 0.0000000960s - error 0.004730\n"
     ]
    },
    {
     "name": "stderr",
     "output_type": "stream",
     "text": [
      "2025-05-27 19:07:29,736 - QmioBackend/0.2.0 - DEBUG - Added SX[27]- Duration 0.0000000960s - error 0.004730\n"
     ]
    },
    {
     "name": "stdout",
     "output_type": "stream",
     "text": [
      "2025-05-27 19:07:29,737 - QmioBackend/0.2.0 - DEBUG - Added SX[28]- Duration 0.0000000320s - error 0.020050\n"
     ]
    },
    {
     "name": "stderr",
     "output_type": "stream",
     "text": [
      "2025-05-27 19:07:29,737 - QmioBackend/0.2.0 - DEBUG - Added SX[28]- Duration 0.0000000320s - error 0.020050\n"
     ]
    },
    {
     "name": "stdout",
     "output_type": "stream",
     "text": [
      "2025-05-27 19:07:29,738 - QmioBackend/0.2.0 - DEBUG - Added SX[29]- Duration 0.0000000320s - error 0.002720\n"
     ]
    },
    {
     "name": "stderr",
     "output_type": "stream",
     "text": [
      "2025-05-27 19:07:29,738 - QmioBackend/0.2.0 - DEBUG - Added SX[29]- Duration 0.0000000320s - error 0.002720\n"
     ]
    },
    {
     "name": "stdout",
     "output_type": "stream",
     "text": [
      "2025-05-27 19:07:29,739 - QmioBackend/0.2.0 - DEBUG - Added SX[30]- Duration 0.0000000960s - error 0.003380\n"
     ]
    },
    {
     "name": "stderr",
     "output_type": "stream",
     "text": [
      "2025-05-27 19:07:29,739 - QmioBackend/0.2.0 - DEBUG - Added SX[30]- Duration 0.0000000960s - error 0.003380\n"
     ]
    },
    {
     "name": "stdout",
     "output_type": "stream",
     "text": [
      "2025-05-27 19:07:29,739 - QmioBackend/0.2.0 - DEBUG - Added SX[31]- Duration 0.0000000320s - error 0.000000\n"
     ]
    },
    {
     "name": "stderr",
     "output_type": "stream",
     "text": [
      "2025-05-27 19:07:29,739 - QmioBackend/0.2.0 - DEBUG - Added SX[31]- Duration 0.0000000320s - error 0.000000\n"
     ]
    },
    {
     "name": "stdout",
     "output_type": "stream",
     "text": [
      "2025-05-27 19:07:29,740 - QmioBackend/0.2.0 - DEBUG - Added X[0]- Duration 0.0000001280s - error 0.007270\n"
     ]
    },
    {
     "name": "stderr",
     "output_type": "stream",
     "text": [
      "2025-05-27 19:07:29,740 - QmioBackend/0.2.0 - DEBUG - Added X[0]- Duration 0.0000001280s - error 0.007270\n"
     ]
    },
    {
     "name": "stdout",
     "output_type": "stream",
     "text": [
      "2025-05-27 19:07:29,741 - QmioBackend/0.2.0 - DEBUG - Added X[1]- Duration 0.0000000640s - error 0.000660\n"
     ]
    },
    {
     "name": "stderr",
     "output_type": "stream",
     "text": [
      "2025-05-27 19:07:29,741 - QmioBackend/0.2.0 - DEBUG - Added X[1]- Duration 0.0000000640s - error 0.000660\n"
     ]
    },
    {
     "name": "stdout",
     "output_type": "stream",
     "text": [
      "2025-05-27 19:07:29,742 - QmioBackend/0.2.0 - DEBUG - Added X[2]- Duration 0.0000001920s - error 0.007980\n"
     ]
    },
    {
     "name": "stderr",
     "output_type": "stream",
     "text": [
      "2025-05-27 19:07:29,742 - QmioBackend/0.2.0 - DEBUG - Added X[2]- Duration 0.0000001920s - error 0.007980\n"
     ]
    },
    {
     "name": "stdout",
     "output_type": "stream",
     "text": [
      "2025-05-27 19:07:29,743 - QmioBackend/0.2.0 - DEBUG - Added X[3]- Duration 0.0000000640s - error 0.001960\n"
     ]
    },
    {
     "name": "stderr",
     "output_type": "stream",
     "text": [
      "2025-05-27 19:07:29,743 - QmioBackend/0.2.0 - DEBUG - Added X[3]- Duration 0.0000000640s - error 0.001960\n"
     ]
    },
    {
     "name": "stdout",
     "output_type": "stream",
     "text": [
      "2025-05-27 19:07:29,743 - QmioBackend/0.2.0 - DEBUG - Added X[4]- Duration 0.0000001280s - error 0.000280\n"
     ]
    },
    {
     "name": "stderr",
     "output_type": "stream",
     "text": [
      "2025-05-27 19:07:29,743 - QmioBackend/0.2.0 - DEBUG - Added X[4]- Duration 0.0000001280s - error 0.000280\n"
     ]
    },
    {
     "name": "stdout",
     "output_type": "stream",
     "text": [
      "2025-05-27 19:07:29,744 - QmioBackend/0.2.0 - DEBUG - Added X[5]- Duration 0.0000001920s - error 0.003260\n"
     ]
    },
    {
     "name": "stderr",
     "output_type": "stream",
     "text": [
      "2025-05-27 19:07:29,744 - QmioBackend/0.2.0 - DEBUG - Added X[5]- Duration 0.0000001920s - error 0.003260\n"
     ]
    },
    {
     "name": "stdout",
     "output_type": "stream",
     "text": [
      "2025-05-27 19:07:29,745 - QmioBackend/0.2.0 - DEBUG - Added X[6]- Duration 0.0000000640s - error 0.001270\n"
     ]
    },
    {
     "name": "stderr",
     "output_type": "stream",
     "text": [
      "2025-05-27 19:07:29,745 - QmioBackend/0.2.0 - DEBUG - Added X[6]- Duration 0.0000000640s - error 0.001270\n"
     ]
    },
    {
     "name": "stdout",
     "output_type": "stream",
     "text": [
      "2025-05-27 19:07:29,746 - QmioBackend/0.2.0 - DEBUG - Added X[7]- Duration 0.0000002560s - error 0.012210\n"
     ]
    },
    {
     "name": "stderr",
     "output_type": "stream",
     "text": [
      "2025-05-27 19:07:29,746 - QmioBackend/0.2.0 - DEBUG - Added X[7]- Duration 0.0000002560s - error 0.012210\n"
     ]
    },
    {
     "name": "stdout",
     "output_type": "stream",
     "text": [
      "2025-05-27 19:07:29,747 - QmioBackend/0.2.0 - DEBUG - Added X[8]- Duration 0.0000000640s - error 0.001010\n"
     ]
    },
    {
     "name": "stderr",
     "output_type": "stream",
     "text": [
      "2025-05-27 19:07:29,747 - QmioBackend/0.2.0 - DEBUG - Added X[8]- Duration 0.0000000640s - error 0.001010\n"
     ]
    },
    {
     "name": "stdout",
     "output_type": "stream",
     "text": [
      "2025-05-27 19:07:29,747 - QmioBackend/0.2.0 - DEBUG - Added X[9]- Duration 0.0000002560s - error 0.009380\n"
     ]
    },
    {
     "name": "stderr",
     "output_type": "stream",
     "text": [
      "2025-05-27 19:07:29,747 - QmioBackend/0.2.0 - DEBUG - Added X[9]- Duration 0.0000002560s - error 0.009380\n"
     ]
    },
    {
     "name": "stdout",
     "output_type": "stream",
     "text": [
      "2025-05-27 19:07:29,748 - QmioBackend/0.2.0 - DEBUG - Added X[10]- Duration 0.0000000640s - error 0.000640\n"
     ]
    },
    {
     "name": "stderr",
     "output_type": "stream",
     "text": [
      "2025-05-27 19:07:29,748 - QmioBackend/0.2.0 - DEBUG - Added X[10]- Duration 0.0000000640s - error 0.000640\n"
     ]
    },
    {
     "name": "stdout",
     "output_type": "stream",
     "text": [
      "2025-05-27 19:07:29,749 - QmioBackend/0.2.0 - DEBUG - Added X[11]- Duration 0.0000000640s - error 0.002920\n"
     ]
    },
    {
     "name": "stderr",
     "output_type": "stream",
     "text": [
      "2025-05-27 19:07:29,749 - QmioBackend/0.2.0 - DEBUG - Added X[11]- Duration 0.0000000640s - error 0.002920\n"
     ]
    },
    {
     "name": "stdout",
     "output_type": "stream",
     "text": [
      "2025-05-27 19:07:29,750 - QmioBackend/0.2.0 - DEBUG - Added X[12]- Duration 0.0000001920s - error 0.017260\n"
     ]
    },
    {
     "name": "stderr",
     "output_type": "stream",
     "text": [
      "2025-05-27 19:07:29,750 - QmioBackend/0.2.0 - DEBUG - Added X[12]- Duration 0.0000001920s - error 0.017260\n"
     ]
    },
    {
     "name": "stdout",
     "output_type": "stream",
     "text": [
      "2025-05-27 19:07:29,751 - QmioBackend/0.2.0 - DEBUG - Added X[13]- Duration 0.0000000640s - error 0.005140\n"
     ]
    },
    {
     "name": "stderr",
     "output_type": "stream",
     "text": [
      "2025-05-27 19:07:29,751 - QmioBackend/0.2.0 - DEBUG - Added X[13]- Duration 0.0000000640s - error 0.005140\n"
     ]
    },
    {
     "name": "stdout",
     "output_type": "stream",
     "text": [
      "2025-05-27 19:07:29,751 - QmioBackend/0.2.0 - DEBUG - Added X[14]- Duration 0.0000000640s - error 0.002550\n"
     ]
    },
    {
     "name": "stderr",
     "output_type": "stream",
     "text": [
      "2025-05-27 19:07:29,751 - QmioBackend/0.2.0 - DEBUG - Added X[14]- Duration 0.0000000640s - error 0.002550\n"
     ]
    },
    {
     "name": "stdout",
     "output_type": "stream",
     "text": [
      "2025-05-27 19:07:29,752 - QmioBackend/0.2.0 - DEBUG - Added X[15]- Duration 0.0000000640s - error 0.000490\n"
     ]
    },
    {
     "name": "stderr",
     "output_type": "stream",
     "text": [
      "2025-05-27 19:07:29,752 - QmioBackend/0.2.0 - DEBUG - Added X[15]- Duration 0.0000000640s - error 0.000490\n"
     ]
    },
    {
     "name": "stdout",
     "output_type": "stream",
     "text": [
      "2025-05-27 19:07:29,753 - QmioBackend/0.2.0 - DEBUG - Added X[16]- Duration 0.0000000640s - error 0.000000\n"
     ]
    },
    {
     "name": "stderr",
     "output_type": "stream",
     "text": [
      "2025-05-27 19:07:29,753 - QmioBackend/0.2.0 - DEBUG - Added X[16]- Duration 0.0000000640s - error 0.000000\n"
     ]
    },
    {
     "name": "stdout",
     "output_type": "stream",
     "text": [
      "2025-05-27 19:07:29,754 - QmioBackend/0.2.0 - DEBUG - Added X[17]- Duration 0.0000002560s - error 0.041810\n"
     ]
    },
    {
     "name": "stderr",
     "output_type": "stream",
     "text": [
      "2025-05-27 19:07:29,754 - QmioBackend/0.2.0 - DEBUG - Added X[17]- Duration 0.0000002560s - error 0.041810\n"
     ]
    },
    {
     "name": "stdout",
     "output_type": "stream",
     "text": [
      "2025-05-27 19:07:29,755 - QmioBackend/0.2.0 - DEBUG - Added X[18]- Duration 0.0000000640s - error 0.004500\n"
     ]
    },
    {
     "name": "stderr",
     "output_type": "stream",
     "text": [
      "2025-05-27 19:07:29,755 - QmioBackend/0.2.0 - DEBUG - Added X[18]- Duration 0.0000000640s - error 0.004500\n"
     ]
    },
    {
     "name": "stdout",
     "output_type": "stream",
     "text": [
      "2025-05-27 19:07:29,755 - QmioBackend/0.2.0 - DEBUG - Added X[19]- Duration 0.0000000640s - error 0.000000\n"
     ]
    },
    {
     "name": "stderr",
     "output_type": "stream",
     "text": [
      "2025-05-27 19:07:29,755 - QmioBackend/0.2.0 - DEBUG - Added X[19]- Duration 0.0000000640s - error 0.000000\n"
     ]
    },
    {
     "name": "stdout",
     "output_type": "stream",
     "text": [
      "2025-05-27 19:07:29,756 - QmioBackend/0.2.0 - DEBUG - Added X[20]- Duration 0.0000000640s - error 0.000660\n"
     ]
    },
    {
     "name": "stderr",
     "output_type": "stream",
     "text": [
      "2025-05-27 19:07:29,756 - QmioBackend/0.2.0 - DEBUG - Added X[20]- Duration 0.0000000640s - error 0.000660\n"
     ]
    },
    {
     "name": "stdout",
     "output_type": "stream",
     "text": [
      "2025-05-27 19:07:29,757 - QmioBackend/0.2.0 - DEBUG - Added X[21]- Duration 0.0000000640s - error 0.001100\n"
     ]
    },
    {
     "name": "stderr",
     "output_type": "stream",
     "text": [
      "2025-05-27 19:07:29,757 - QmioBackend/0.2.0 - DEBUG - Added X[21]- Duration 0.0000000640s - error 0.001100\n"
     ]
    },
    {
     "name": "stdout",
     "output_type": "stream",
     "text": [
      "2025-05-27 19:07:29,770 - QmioBackend/0.2.0 - DEBUG - Added X[22]- Duration 0.0000000640s - error 0.000870\n"
     ]
    },
    {
     "name": "stderr",
     "output_type": "stream",
     "text": [
      "2025-05-27 19:07:29,770 - QmioBackend/0.2.0 - DEBUG - Added X[22]- Duration 0.0000000640s - error 0.000870\n"
     ]
    },
    {
     "name": "stdout",
     "output_type": "stream",
     "text": [
      "2025-05-27 19:07:29,771 - QmioBackend/0.2.0 - DEBUG - Added X[23]- Duration 0.0000000640s - error 0.000520\n"
     ]
    },
    {
     "name": "stderr",
     "output_type": "stream",
     "text": [
      "2025-05-27 19:07:29,771 - QmioBackend/0.2.0 - DEBUG - Added X[23]- Duration 0.0000000640s - error 0.000520\n"
     ]
    },
    {
     "name": "stdout",
     "output_type": "stream",
     "text": [
      "2025-05-27 19:07:29,772 - QmioBackend/0.2.0 - DEBUG - Added X[24]- Duration 0.0000000640s - error 0.034840\n"
     ]
    },
    {
     "name": "stderr",
     "output_type": "stream",
     "text": [
      "2025-05-27 19:07:29,772 - QmioBackend/0.2.0 - DEBUG - Added X[24]- Duration 0.0000000640s - error 0.034840\n"
     ]
    },
    {
     "name": "stdout",
     "output_type": "stream",
     "text": [
      "2025-05-27 19:07:29,773 - QmioBackend/0.2.0 - DEBUG - Added X[25]- Duration 0.0000000640s - error 0.000150\n"
     ]
    },
    {
     "name": "stderr",
     "output_type": "stream",
     "text": [
      "2025-05-27 19:07:29,773 - QmioBackend/0.2.0 - DEBUG - Added X[25]- Duration 0.0000000640s - error 0.000150\n"
     ]
    },
    {
     "name": "stdout",
     "output_type": "stream",
     "text": [
      "2025-05-27 19:07:29,774 - QmioBackend/0.2.0 - DEBUG - Added X[26]- Duration 0.0000000640s - error 0.002050\n"
     ]
    },
    {
     "name": "stderr",
     "output_type": "stream",
     "text": [
      "2025-05-27 19:07:29,774 - QmioBackend/0.2.0 - DEBUG - Added X[26]- Duration 0.0000000640s - error 0.002050\n"
     ]
    },
    {
     "name": "stdout",
     "output_type": "stream",
     "text": [
      "2025-05-27 19:07:29,774 - QmioBackend/0.2.0 - DEBUG - Added X[27]- Duration 0.0000001920s - error 0.004730\n"
     ]
    },
    {
     "name": "stderr",
     "output_type": "stream",
     "text": [
      "2025-05-27 19:07:29,774 - QmioBackend/0.2.0 - DEBUG - Added X[27]- Duration 0.0000001920s - error 0.004730\n"
     ]
    },
    {
     "name": "stdout",
     "output_type": "stream",
     "text": [
      "2025-05-27 19:07:29,775 - QmioBackend/0.2.0 - DEBUG - Added X[28]- Duration 0.0000000640s - error 0.020050\n"
     ]
    },
    {
     "name": "stderr",
     "output_type": "stream",
     "text": [
      "2025-05-27 19:07:29,775 - QmioBackend/0.2.0 - DEBUG - Added X[28]- Duration 0.0000000640s - error 0.020050\n"
     ]
    },
    {
     "name": "stdout",
     "output_type": "stream",
     "text": [
      "2025-05-27 19:07:29,776 - QmioBackend/0.2.0 - DEBUG - Added X[29]- Duration 0.0000000640s - error 0.002720\n"
     ]
    },
    {
     "name": "stderr",
     "output_type": "stream",
     "text": [
      "2025-05-27 19:07:29,776 - QmioBackend/0.2.0 - DEBUG - Added X[29]- Duration 0.0000000640s - error 0.002720\n"
     ]
    },
    {
     "name": "stdout",
     "output_type": "stream",
     "text": [
      "2025-05-27 19:07:29,777 - QmioBackend/0.2.0 - DEBUG - Added X[30]- Duration 0.0000001920s - error 0.003380\n"
     ]
    },
    {
     "name": "stderr",
     "output_type": "stream",
     "text": [
      "2025-05-27 19:07:29,777 - QmioBackend/0.2.0 - DEBUG - Added X[30]- Duration 0.0000001920s - error 0.003380\n"
     ]
    },
    {
     "name": "stdout",
     "output_type": "stream",
     "text": [
      "2025-05-27 19:07:29,778 - QmioBackend/0.2.0 - DEBUG - Added X[31]- Duration 0.0000000640s - error 0.000000\n"
     ]
    },
    {
     "name": "stderr",
     "output_type": "stream",
     "text": [
      "2025-05-27 19:07:29,778 - QmioBackend/0.2.0 - DEBUG - Added X[31]- Duration 0.0000000640s - error 0.000000\n"
     ]
    },
    {
     "name": "stdout",
     "output_type": "stream",
     "text": [
      "2025-05-27 19:07:29,779 - QmioBackend/0.2.0 - DEBUG - Added rz[0]- Duration 0.0000000000s - error 0.000000\n"
     ]
    },
    {
     "name": "stderr",
     "output_type": "stream",
     "text": [
      "2025-05-27 19:07:29,779 - QmioBackend/0.2.0 - DEBUG - Added rz[0]- Duration 0.0000000000s - error 0.000000\n"
     ]
    },
    {
     "name": "stdout",
     "output_type": "stream",
     "text": [
      "2025-05-27 19:07:29,780 - QmioBackend/0.2.0 - DEBUG - Added rz[1]- Duration 0.0000000000s - error 0.000000\n"
     ]
    },
    {
     "name": "stderr",
     "output_type": "stream",
     "text": [
      "2025-05-27 19:07:29,780 - QmioBackend/0.2.0 - DEBUG - Added rz[1]- Duration 0.0000000000s - error 0.000000\n"
     ]
    },
    {
     "name": "stdout",
     "output_type": "stream",
     "text": [
      "2025-05-27 19:07:29,780 - QmioBackend/0.2.0 - DEBUG - Added rz[2]- Duration 0.0000000000s - error 0.000000\n"
     ]
    },
    {
     "name": "stderr",
     "output_type": "stream",
     "text": [
      "2025-05-27 19:07:29,780 - QmioBackend/0.2.0 - DEBUG - Added rz[2]- Duration 0.0000000000s - error 0.000000\n"
     ]
    },
    {
     "name": "stdout",
     "output_type": "stream",
     "text": [
      "2025-05-27 19:07:29,781 - QmioBackend/0.2.0 - DEBUG - Added rz[3]- Duration 0.0000000000s - error 0.000000\n"
     ]
    },
    {
     "name": "stderr",
     "output_type": "stream",
     "text": [
      "2025-05-27 19:07:29,781 - QmioBackend/0.2.0 - DEBUG - Added rz[3]- Duration 0.0000000000s - error 0.000000\n"
     ]
    },
    {
     "name": "stdout",
     "output_type": "stream",
     "text": [
      "2025-05-27 19:07:29,782 - QmioBackend/0.2.0 - DEBUG - Added rz[4]- Duration 0.0000000000s - error 0.000000\n"
     ]
    },
    {
     "name": "stderr",
     "output_type": "stream",
     "text": [
      "2025-05-27 19:07:29,782 - QmioBackend/0.2.0 - DEBUG - Added rz[4]- Duration 0.0000000000s - error 0.000000\n"
     ]
    },
    {
     "name": "stdout",
     "output_type": "stream",
     "text": [
      "2025-05-27 19:07:29,783 - QmioBackend/0.2.0 - DEBUG - Added rz[5]- Duration 0.0000000000s - error 0.000000\n"
     ]
    },
    {
     "name": "stderr",
     "output_type": "stream",
     "text": [
      "2025-05-27 19:07:29,783 - QmioBackend/0.2.0 - DEBUG - Added rz[5]- Duration 0.0000000000s - error 0.000000\n"
     ]
    },
    {
     "name": "stdout",
     "output_type": "stream",
     "text": [
      "2025-05-27 19:07:29,784 - QmioBackend/0.2.0 - DEBUG - Added rz[6]- Duration 0.0000000000s - error 0.000000\n"
     ]
    },
    {
     "name": "stderr",
     "output_type": "stream",
     "text": [
      "2025-05-27 19:07:29,784 - QmioBackend/0.2.0 - DEBUG - Added rz[6]- Duration 0.0000000000s - error 0.000000\n"
     ]
    },
    {
     "name": "stdout",
     "output_type": "stream",
     "text": [
      "2025-05-27 19:07:29,785 - QmioBackend/0.2.0 - DEBUG - Added rz[7]- Duration 0.0000000000s - error 0.000000\n"
     ]
    },
    {
     "name": "stderr",
     "output_type": "stream",
     "text": [
      "2025-05-27 19:07:29,785 - QmioBackend/0.2.0 - DEBUG - Added rz[7]- Duration 0.0000000000s - error 0.000000\n"
     ]
    },
    {
     "name": "stdout",
     "output_type": "stream",
     "text": [
      "2025-05-27 19:07:29,786 - QmioBackend/0.2.0 - DEBUG - Added rz[8]- Duration 0.0000000000s - error 0.000000\n"
     ]
    },
    {
     "name": "stderr",
     "output_type": "stream",
     "text": [
      "2025-05-27 19:07:29,786 - QmioBackend/0.2.0 - DEBUG - Added rz[8]- Duration 0.0000000000s - error 0.000000\n"
     ]
    },
    {
     "name": "stdout",
     "output_type": "stream",
     "text": [
      "2025-05-27 19:07:29,786 - QmioBackend/0.2.0 - DEBUG - Added rz[9]- Duration 0.0000000000s - error 0.000000\n"
     ]
    },
    {
     "name": "stderr",
     "output_type": "stream",
     "text": [
      "2025-05-27 19:07:29,786 - QmioBackend/0.2.0 - DEBUG - Added rz[9]- Duration 0.0000000000s - error 0.000000\n"
     ]
    },
    {
     "name": "stdout",
     "output_type": "stream",
     "text": [
      "2025-05-27 19:07:29,787 - QmioBackend/0.2.0 - DEBUG - Added rz[10]- Duration 0.0000000000s - error 0.000000\n"
     ]
    },
    {
     "name": "stderr",
     "output_type": "stream",
     "text": [
      "2025-05-27 19:07:29,787 - QmioBackend/0.2.0 - DEBUG - Added rz[10]- Duration 0.0000000000s - error 0.000000\n"
     ]
    },
    {
     "name": "stdout",
     "output_type": "stream",
     "text": [
      "2025-05-27 19:07:29,788 - QmioBackend/0.2.0 - DEBUG - Added rz[11]- Duration 0.0000000000s - error 0.000000\n"
     ]
    },
    {
     "name": "stderr",
     "output_type": "stream",
     "text": [
      "2025-05-27 19:07:29,788 - QmioBackend/0.2.0 - DEBUG - Added rz[11]- Duration 0.0000000000s - error 0.000000\n"
     ]
    },
    {
     "name": "stdout",
     "output_type": "stream",
     "text": [
      "2025-05-27 19:07:29,789 - QmioBackend/0.2.0 - DEBUG - Added rz[12]- Duration 0.0000000000s - error 0.000000\n"
     ]
    },
    {
     "name": "stderr",
     "output_type": "stream",
     "text": [
      "2025-05-27 19:07:29,789 - QmioBackend/0.2.0 - DEBUG - Added rz[12]- Duration 0.0000000000s - error 0.000000\n"
     ]
    },
    {
     "name": "stdout",
     "output_type": "stream",
     "text": [
      "2025-05-27 19:07:29,790 - QmioBackend/0.2.0 - DEBUG - Added rz[13]- Duration 0.0000000000s - error 0.000000\n"
     ]
    },
    {
     "name": "stderr",
     "output_type": "stream",
     "text": [
      "2025-05-27 19:07:29,790 - QmioBackend/0.2.0 - DEBUG - Added rz[13]- Duration 0.0000000000s - error 0.000000\n"
     ]
    },
    {
     "name": "stdout",
     "output_type": "stream",
     "text": [
      "2025-05-27 19:07:29,790 - QmioBackend/0.2.0 - DEBUG - Added rz[14]- Duration 0.0000000000s - error 0.000000\n"
     ]
    },
    {
     "name": "stderr",
     "output_type": "stream",
     "text": [
      "2025-05-27 19:07:29,790 - QmioBackend/0.2.0 - DEBUG - Added rz[14]- Duration 0.0000000000s - error 0.000000\n"
     ]
    },
    {
     "name": "stdout",
     "output_type": "stream",
     "text": [
      "2025-05-27 19:07:29,791 - QmioBackend/0.2.0 - DEBUG - Added rz[15]- Duration 0.0000000000s - error 0.000000\n"
     ]
    },
    {
     "name": "stderr",
     "output_type": "stream",
     "text": [
      "2025-05-27 19:07:29,791 - QmioBackend/0.2.0 - DEBUG - Added rz[15]- Duration 0.0000000000s - error 0.000000\n"
     ]
    },
    {
     "name": "stdout",
     "output_type": "stream",
     "text": [
      "2025-05-27 19:07:29,792 - QmioBackend/0.2.0 - DEBUG - Added rz[16]- Duration 0.0000000000s - error 0.000000\n"
     ]
    },
    {
     "name": "stderr",
     "output_type": "stream",
     "text": [
      "2025-05-27 19:07:29,792 - QmioBackend/0.2.0 - DEBUG - Added rz[16]- Duration 0.0000000000s - error 0.000000\n"
     ]
    },
    {
     "name": "stdout",
     "output_type": "stream",
     "text": [
      "2025-05-27 19:07:29,793 - QmioBackend/0.2.0 - DEBUG - Added rz[17]- Duration 0.0000000000s - error 0.000000\n"
     ]
    },
    {
     "name": "stderr",
     "output_type": "stream",
     "text": [
      "2025-05-27 19:07:29,793 - QmioBackend/0.2.0 - DEBUG - Added rz[17]- Duration 0.0000000000s - error 0.000000\n"
     ]
    },
    {
     "name": "stdout",
     "output_type": "stream",
     "text": [
      "2025-05-27 19:07:29,794 - QmioBackend/0.2.0 - DEBUG - Added rz[18]- Duration 0.0000000000s - error 0.000000\n"
     ]
    },
    {
     "name": "stderr",
     "output_type": "stream",
     "text": [
      "2025-05-27 19:07:29,794 - QmioBackend/0.2.0 - DEBUG - Added rz[18]- Duration 0.0000000000s - error 0.000000\n"
     ]
    },
    {
     "name": "stdout",
     "output_type": "stream",
     "text": [
      "2025-05-27 19:07:29,794 - QmioBackend/0.2.0 - DEBUG - Added rz[19]- Duration 0.0000000000s - error 0.000000\n"
     ]
    },
    {
     "name": "stderr",
     "output_type": "stream",
     "text": [
      "2025-05-27 19:07:29,794 - QmioBackend/0.2.0 - DEBUG - Added rz[19]- Duration 0.0000000000s - error 0.000000\n"
     ]
    },
    {
     "name": "stdout",
     "output_type": "stream",
     "text": [
      "2025-05-27 19:07:29,802 - QmioBackend/0.2.0 - DEBUG - Added rz[20]- Duration 0.0000000000s - error 0.000000\n"
     ]
    },
    {
     "name": "stderr",
     "output_type": "stream",
     "text": [
      "2025-05-27 19:07:29,802 - QmioBackend/0.2.0 - DEBUG - Added rz[20]- Duration 0.0000000000s - error 0.000000\n"
     ]
    },
    {
     "name": "stdout",
     "output_type": "stream",
     "text": [
      "2025-05-27 19:07:29,803 - QmioBackend/0.2.0 - DEBUG - Added rz[21]- Duration 0.0000000000s - error 0.000000\n"
     ]
    },
    {
     "name": "stderr",
     "output_type": "stream",
     "text": [
      "2025-05-27 19:07:29,803 - QmioBackend/0.2.0 - DEBUG - Added rz[21]- Duration 0.0000000000s - error 0.000000\n"
     ]
    },
    {
     "name": "stdout",
     "output_type": "stream",
     "text": [
      "2025-05-27 19:07:29,804 - QmioBackend/0.2.0 - DEBUG - Added rz[22]- Duration 0.0000000000s - error 0.000000\n"
     ]
    },
    {
     "name": "stderr",
     "output_type": "stream",
     "text": [
      "2025-05-27 19:07:29,804 - QmioBackend/0.2.0 - DEBUG - Added rz[22]- Duration 0.0000000000s - error 0.000000\n"
     ]
    },
    {
     "name": "stdout",
     "output_type": "stream",
     "text": [
      "2025-05-27 19:07:29,804 - QmioBackend/0.2.0 - DEBUG - Added rz[23]- Duration 0.0000000000s - error 0.000000\n"
     ]
    },
    {
     "name": "stderr",
     "output_type": "stream",
     "text": [
      "2025-05-27 19:07:29,804 - QmioBackend/0.2.0 - DEBUG - Added rz[23]- Duration 0.0000000000s - error 0.000000\n"
     ]
    },
    {
     "name": "stdout",
     "output_type": "stream",
     "text": [
      "2025-05-27 19:07:29,805 - QmioBackend/0.2.0 - DEBUG - Added rz[24]- Duration 0.0000000000s - error 0.000000\n"
     ]
    },
    {
     "name": "stderr",
     "output_type": "stream",
     "text": [
      "2025-05-27 19:07:29,805 - QmioBackend/0.2.0 - DEBUG - Added rz[24]- Duration 0.0000000000s - error 0.000000\n"
     ]
    },
    {
     "name": "stdout",
     "output_type": "stream",
     "text": [
      "2025-05-27 19:07:29,806 - QmioBackend/0.2.0 - DEBUG - Added rz[25]- Duration 0.0000000000s - error 0.000000\n"
     ]
    },
    {
     "name": "stderr",
     "output_type": "stream",
     "text": [
      "2025-05-27 19:07:29,806 - QmioBackend/0.2.0 - DEBUG - Added rz[25]- Duration 0.0000000000s - error 0.000000\n"
     ]
    },
    {
     "name": "stdout",
     "output_type": "stream",
     "text": [
      "2025-05-27 19:07:29,807 - QmioBackend/0.2.0 - DEBUG - Added rz[26]- Duration 0.0000000000s - error 0.000000\n"
     ]
    },
    {
     "name": "stderr",
     "output_type": "stream",
     "text": [
      "2025-05-27 19:07:29,807 - QmioBackend/0.2.0 - DEBUG - Added rz[26]- Duration 0.0000000000s - error 0.000000\n"
     ]
    },
    {
     "name": "stdout",
     "output_type": "stream",
     "text": [
      "2025-05-27 19:07:29,808 - QmioBackend/0.2.0 - DEBUG - Added rz[27]- Duration 0.0000000000s - error 0.000000\n"
     ]
    },
    {
     "name": "stderr",
     "output_type": "stream",
     "text": [
      "2025-05-27 19:07:29,808 - QmioBackend/0.2.0 - DEBUG - Added rz[27]- Duration 0.0000000000s - error 0.000000\n"
     ]
    },
    {
     "name": "stdout",
     "output_type": "stream",
     "text": [
      "2025-05-27 19:07:29,808 - QmioBackend/0.2.0 - DEBUG - Added rz[28]- Duration 0.0000000000s - error 0.000000\n"
     ]
    },
    {
     "name": "stderr",
     "output_type": "stream",
     "text": [
      "2025-05-27 19:07:29,808 - QmioBackend/0.2.0 - DEBUG - Added rz[28]- Duration 0.0000000000s - error 0.000000\n"
     ]
    },
    {
     "name": "stdout",
     "output_type": "stream",
     "text": [
      "2025-05-27 19:07:29,809 - QmioBackend/0.2.0 - DEBUG - Added rz[29]- Duration 0.0000000000s - error 0.000000\n"
     ]
    },
    {
     "name": "stderr",
     "output_type": "stream",
     "text": [
      "2025-05-27 19:07:29,809 - QmioBackend/0.2.0 - DEBUG - Added rz[29]- Duration 0.0000000000s - error 0.000000\n"
     ]
    },
    {
     "name": "stdout",
     "output_type": "stream",
     "text": [
      "2025-05-27 19:07:29,810 - QmioBackend/0.2.0 - DEBUG - Added rz[30]- Duration 0.0000000000s - error 0.000000\n"
     ]
    },
    {
     "name": "stderr",
     "output_type": "stream",
     "text": [
      "2025-05-27 19:07:29,810 - QmioBackend/0.2.0 - DEBUG - Added rz[30]- Duration 0.0000000000s - error 0.000000\n"
     ]
    },
    {
     "name": "stdout",
     "output_type": "stream",
     "text": [
      "2025-05-27 19:07:29,811 - QmioBackend/0.2.0 - DEBUG - Added rz[31]- Duration 0.0000000000s - error 0.000000\n"
     ]
    },
    {
     "name": "stderr",
     "output_type": "stream",
     "text": [
      "2025-05-27 19:07:29,811 - QmioBackend/0.2.0 - DEBUG - Added rz[31]- Duration 0.0000000000s - error 0.000000\n"
     ]
    },
    {
     "name": "stdout",
     "output_type": "stream",
     "text": [
      "2025-05-27 19:07:29,812 - QmioBackend/0.2.0 - DEBUG - Added ecr_inst[(0,1) - duration 0.0000004160s - error 0.026920]\n"
     ]
    },
    {
     "name": "stderr",
     "output_type": "stream",
     "text": [
      "2025-05-27 19:07:29,812 - QmioBackend/0.2.0 - DEBUG - Added ecr_inst[(0,1) - duration 0.0000004160s - error 0.026920]\n"
     ]
    },
    {
     "name": "stdout",
     "output_type": "stream",
     "text": [
      "2025-05-27 19:07:29,813 - QmioBackend/0.2.0 - DEBUG - Added ecr_inst[(2,1) - duration 0.0000007680s - error 0.046130]\n"
     ]
    },
    {
     "name": "stderr",
     "output_type": "stream",
     "text": [
      "2025-05-27 19:07:29,813 - QmioBackend/0.2.0 - DEBUG - Added ecr_inst[(2,1) - duration 0.0000007680s - error 0.046130]\n"
     ]
    },
    {
     "name": "stdout",
     "output_type": "stream",
     "text": [
      "2025-05-27 19:07:29,814 - QmioBackend/0.2.0 - DEBUG - Added ecr_inst[(2,3) - duration 0.0000007680s - error 0.070830]\n"
     ]
    },
    {
     "name": "stderr",
     "output_type": "stream",
     "text": [
      "2025-05-27 19:07:29,814 - QmioBackend/0.2.0 - DEBUG - Added ecr_inst[(2,3) - duration 0.0000007680s - error 0.070830]\n"
     ]
    },
    {
     "name": "stdout",
     "output_type": "stream",
     "text": [
      "2025-05-27 19:07:29,815 - QmioBackend/0.2.0 - DEBUG - Added ecr_inst[(4,3) - duration 0.0000004160s - error 0.023960]\n"
     ]
    },
    {
     "name": "stderr",
     "output_type": "stream",
     "text": [
      "2025-05-27 19:07:29,815 - QmioBackend/0.2.0 - DEBUG - Added ecr_inst[(4,3) - duration 0.0000004160s - error 0.023960]\n"
     ]
    },
    {
     "name": "stdout",
     "output_type": "stream",
     "text": [
      "2025-05-27 19:07:29,815 - QmioBackend/0.2.0 - DEBUG - Added ecr_inst[(5,4) - duration 0.0000005440s - error 0.028920]\n"
     ]
    },
    {
     "name": "stderr",
     "output_type": "stream",
     "text": [
      "2025-05-27 19:07:29,815 - QmioBackend/0.2.0 - DEBUG - Added ecr_inst[(5,4) - duration 0.0000005440s - error 0.028920]\n"
     ]
    },
    {
     "name": "stdout",
     "output_type": "stream",
     "text": [
      "2025-05-27 19:07:29,816 - QmioBackend/0.2.0 - DEBUG - Added ecr_inst[(6,3) - duration 0.0000005920s - error 0.044330]\n"
     ]
    },
    {
     "name": "stderr",
     "output_type": "stream",
     "text": [
      "2025-05-27 19:07:29,816 - QmioBackend/0.2.0 - DEBUG - Added ecr_inst[(6,3) - duration 0.0000005920s - error 0.044330]\n"
     ]
    },
    {
     "name": "stdout",
     "output_type": "stream",
     "text": [
      "2025-05-27 19:07:29,817 - QmioBackend/0.2.0 - DEBUG - Added ecr_inst[(6,12) - duration 0.0000003520s - error 0.047500]\n"
     ]
    },
    {
     "name": "stderr",
     "output_type": "stream",
     "text": [
      "2025-05-27 19:07:29,817 - QmioBackend/0.2.0 - DEBUG - Added ecr_inst[(6,12) - duration 0.0000003520s - error 0.047500]\n"
     ]
    },
    {
     "name": "stdout",
     "output_type": "stream",
     "text": [
      "2025-05-27 19:07:29,818 - QmioBackend/0.2.0 - DEBUG - Added ecr_inst[(7,0) - duration 0.0000005440s - error 0.750000]\n"
     ]
    },
    {
     "name": "stderr",
     "output_type": "stream",
     "text": [
      "2025-05-27 19:07:29,818 - QmioBackend/0.2.0 - DEBUG - Added ecr_inst[(7,0) - duration 0.0000005440s - error 0.750000]\n"
     ]
    },
    {
     "name": "stdout",
     "output_type": "stream",
     "text": [
      "2025-05-27 19:07:29,819 - QmioBackend/0.2.0 - DEBUG - Added ecr_inst[(7,9) - duration 0.0000006720s - error 0.257310]\n"
     ]
    },
    {
     "name": "stderr",
     "output_type": "stream",
     "text": [
      "2025-05-27 19:07:29,819 - QmioBackend/0.2.0 - DEBUG - Added ecr_inst[(7,9) - duration 0.0000006720s - error 0.257310]\n"
     ]
    },
    {
     "name": "stdout",
     "output_type": "stream",
     "text": [
      "2025-05-27 19:07:29,820 - QmioBackend/0.2.0 - DEBUG - Added ecr_inst[(9,10) - duration 0.0000006240s - error 0.255680]\n"
     ]
    },
    {
     "name": "stderr",
     "output_type": "stream",
     "text": [
      "2025-05-27 19:07:29,820 - QmioBackend/0.2.0 - DEBUG - Added ecr_inst[(9,10) - duration 0.0000006240s - error 0.255680]\n"
     ]
    },
    {
     "name": "stdout",
     "output_type": "stream",
     "text": [
      "2025-05-27 19:07:29,820 - QmioBackend/0.2.0 - DEBUG - Added ecr_inst[(11,10) - duration 0.0000003520s - error 0.016410]\n"
     ]
    },
    {
     "name": "stderr",
     "output_type": "stream",
     "text": [
      "2025-05-27 19:07:29,820 - QmioBackend/0.2.0 - DEBUG - Added ecr_inst[(11,10) - duration 0.0000003520s - error 0.016410]\n"
     ]
    },
    {
     "name": "stdout",
     "output_type": "stream",
     "text": [
      "2025-05-27 19:07:29,821 - QmioBackend/0.2.0 - DEBUG - Added ecr_inst[(11,12) - duration 0.0000004160s - error 0.069780]\n"
     ]
    },
    {
     "name": "stderr",
     "output_type": "stream",
     "text": [
      "2025-05-27 19:07:29,821 - QmioBackend/0.2.0 - DEBUG - Added ecr_inst[(11,12) - duration 0.0000004160s - error 0.069780]\n"
     ]
    },
    {
     "name": "stdout",
     "output_type": "stream",
     "text": [
      "2025-05-27 19:07:29,822 - QmioBackend/0.2.0 - DEBUG - Added ecr_inst[(13,21) - duration 0.0000004480s - error 0.037770]\n"
     ]
    },
    {
     "name": "stderr",
     "output_type": "stream",
     "text": [
      "2025-05-27 19:07:29,822 - QmioBackend/0.2.0 - DEBUG - Added ecr_inst[(13,21) - duration 0.0000004480s - error 0.037770]\n"
     ]
    },
    {
     "name": "stdout",
     "output_type": "stream",
     "text": [
      "2025-05-27 19:07:29,823 - QmioBackend/0.2.0 - DEBUG - Added ecr_inst[(14,11) - duration 0.0000003200s - error 0.013780]\n"
     ]
    },
    {
     "name": "stderr",
     "output_type": "stream",
     "text": [
      "2025-05-27 19:07:29,823 - QmioBackend/0.2.0 - DEBUG - Added ecr_inst[(14,11) - duration 0.0000003200s - error 0.013780]\n"
     ]
    },
    {
     "name": "stdout",
     "output_type": "stream",
     "text": [
      "2025-05-27 19:07:29,824 - QmioBackend/0.2.0 - DEBUG - Added ecr_inst[(14,18) - duration 0.0000004960s - error 0.145140]\n"
     ]
    },
    {
     "name": "stderr",
     "output_type": "stream",
     "text": [
      "2025-05-27 19:07:29,824 - QmioBackend/0.2.0 - DEBUG - Added ecr_inst[(14,18) - duration 0.0000004960s - error 0.145140]\n"
     ]
    },
    {
     "name": "stdout",
     "output_type": "stream",
     "text": [
      "2025-05-27 19:07:29,825 - QmioBackend/0.2.0 - DEBUG - Added ecr_inst[(15,8) - duration 0.0000006400s - error 0.018670]\n"
     ]
    },
    {
     "name": "stderr",
     "output_type": "stream",
     "text": [
      "2025-05-27 19:07:29,825 - QmioBackend/0.2.0 - DEBUG - Added ecr_inst[(15,8) - duration 0.0000006400s - error 0.018670]\n"
     ]
    },
    {
     "name": "stdout",
     "output_type": "stream",
     "text": [
      "2025-05-27 19:07:29,826 - QmioBackend/0.2.0 - DEBUG - Added ecr_inst[(15,16) - duration 0.0000006400s - error 0.023090]\n"
     ]
    },
    {
     "name": "stderr",
     "output_type": "stream",
     "text": [
      "2025-05-27 19:07:29,826 - QmioBackend/0.2.0 - DEBUG - Added ecr_inst[(15,16) - duration 0.0000006400s - error 0.023090]\n"
     ]
    },
    {
     "name": "stdout",
     "output_type": "stream",
     "text": [
      "2025-05-27 19:07:29,826 - QmioBackend/0.2.0 - DEBUG - Added ecr_inst[(18,17) - duration 0.0000004000s - error 0.053420]\n"
     ]
    },
    {
     "name": "stderr",
     "output_type": "stream",
     "text": [
      "2025-05-27 19:07:29,826 - QmioBackend/0.2.0 - DEBUG - Added ecr_inst[(18,17) - duration 0.0000004000s - error 0.053420]\n"
     ]
    },
    {
     "name": "stdout",
     "output_type": "stream",
     "text": [
      "2025-05-27 19:07:29,827 - QmioBackend/0.2.0 - DEBUG - Added ecr_inst[(18,19) - duration 0.0000003520s - error 0.027700]\n"
     ]
    },
    {
     "name": "stderr",
     "output_type": "stream",
     "text": [
      "2025-05-27 19:07:29,827 - QmioBackend/0.2.0 - DEBUG - Added ecr_inst[(18,19) - duration 0.0000003520s - error 0.027700]\n"
     ]
    },
    {
     "name": "stdout",
     "output_type": "stream",
     "text": [
      "2025-05-27 19:07:29,828 - QmioBackend/0.2.0 - DEBUG - Added ecr_inst[(20,19) - duration 0.0000003520s - error 0.012330]\n"
     ]
    },
    {
     "name": "stderr",
     "output_type": "stream",
     "text": [
      "2025-05-27 19:07:29,828 - QmioBackend/0.2.0 - DEBUG - Added ecr_inst[(20,19) - duration 0.0000003520s - error 0.012330]\n"
     ]
    },
    {
     "name": "stdout",
     "output_type": "stream",
     "text": [
      "2025-05-27 19:07:29,829 - QmioBackend/0.2.0 - DEBUG - Added ecr_inst[(22,21) - duration 0.0000003520s - error 0.016440]\n"
     ]
    },
    {
     "name": "stderr",
     "output_type": "stream",
     "text": [
      "2025-05-27 19:07:29,829 - QmioBackend/0.2.0 - DEBUG - Added ecr_inst[(22,21) - duration 0.0000003520s - error 0.016440]\n"
     ]
    },
    {
     "name": "stdout",
     "output_type": "stream",
     "text": [
      "2025-05-27 19:07:29,830 - QmioBackend/0.2.0 - DEBUG - Added ecr_inst[(22,31) - duration 0.0000006400s - error 0.020600]\n"
     ]
    },
    {
     "name": "stderr",
     "output_type": "stream",
     "text": [
      "2025-05-27 19:07:29,830 - QmioBackend/0.2.0 - DEBUG - Added ecr_inst[(22,31) - duration 0.0000006400s - error 0.020600]\n"
     ]
    },
    {
     "name": "stdout",
     "output_type": "stream",
     "text": [
      "2025-05-27 19:07:29,830 - QmioBackend/0.2.0 - DEBUG - Added ecr_inst[(23,20) - duration 0.0000003520s - error 0.022540]\n"
     ]
    },
    {
     "name": "stderr",
     "output_type": "stream",
     "text": [
      "2025-05-27 19:07:29,830 - QmioBackend/0.2.0 - DEBUG - Added ecr_inst[(23,20) - duration 0.0000003520s - error 0.022540]\n"
     ]
    },
    {
     "name": "stdout",
     "output_type": "stream",
     "text": [
      "2025-05-27 19:07:29,831 - QmioBackend/0.2.0 - DEBUG - Added ecr_inst[(23,30) - duration 0.0000003520s - error 0.032100]\n"
     ]
    },
    {
     "name": "stderr",
     "output_type": "stream",
     "text": [
      "2025-05-27 19:07:29,831 - QmioBackend/0.2.0 - DEBUG - Added ecr_inst[(23,30) - duration 0.0000003520s - error 0.032100]\n"
     ]
    },
    {
     "name": "stdout",
     "output_type": "stream",
     "text": [
      "2025-05-27 19:07:29,832 - QmioBackend/0.2.0 - DEBUG - Added ecr_inst[(24,17) - duration 0.0000006720s - error 0.448900]\n"
     ]
    },
    {
     "name": "stderr",
     "output_type": "stream",
     "text": [
      "2025-05-27 19:07:29,832 - QmioBackend/0.2.0 - DEBUG - Added ecr_inst[(24,17) - duration 0.0000006720s - error 0.448900]\n"
     ]
    },
    {
     "name": "stdout",
     "output_type": "stream",
     "text": [
      "2025-05-27 19:07:29,833 - QmioBackend/0.2.0 - DEBUG - Added ecr_inst[(24,27) - duration 0.0000007040s - error 0.061260]\n"
     ]
    },
    {
     "name": "stderr",
     "output_type": "stream",
     "text": [
      "2025-05-27 19:07:29,833 - QmioBackend/0.2.0 - DEBUG - Added ecr_inst[(24,27) - duration 0.0000007040s - error 0.061260]\n"
     ]
    },
    {
     "name": "stdout",
     "output_type": "stream",
     "text": [
      "2025-05-27 19:07:29,834 - QmioBackend/0.2.0 - DEBUG - Added ecr_inst[(25,16) - duration 0.0000003520s - error 0.011670]\n"
     ]
    },
    {
     "name": "stderr",
     "output_type": "stream",
     "text": [
      "2025-05-27 19:07:29,834 - QmioBackend/0.2.0 - DEBUG - Added ecr_inst[(25,16) - duration 0.0000003520s - error 0.011670]\n"
     ]
    },
    {
     "name": "stdout",
     "output_type": "stream",
     "text": [
      "2025-05-27 19:07:29,834 - QmioBackend/0.2.0 - DEBUG - Added ecr_inst[(25,26) - duration 0.0000004160s - error 0.022590]\n"
     ]
    },
    {
     "name": "stderr",
     "output_type": "stream",
     "text": [
      "2025-05-27 19:07:29,834 - QmioBackend/0.2.0 - DEBUG - Added ecr_inst[(25,26) - duration 0.0000004160s - error 0.022590]\n"
     ]
    },
    {
     "name": "stdout",
     "output_type": "stream",
     "text": [
      "2025-05-27 19:07:29,835 - QmioBackend/0.2.0 - DEBUG - Added ecr_inst[(26,27) - duration 0.0000006720s - error 0.029160]\n"
     ]
    },
    {
     "name": "stderr",
     "output_type": "stream",
     "text": [
      "2025-05-27 19:07:29,835 - QmioBackend/0.2.0 - DEBUG - Added ecr_inst[(26,27) - duration 0.0000006720s - error 0.029160]\n"
     ]
    },
    {
     "name": "stdout",
     "output_type": "stream",
     "text": [
      "2025-05-27 19:07:29,836 - QmioBackend/0.2.0 - DEBUG - Added ecr_inst[(28,27) - duration 0.0000006400s - error 0.137180]\n"
     ]
    },
    {
     "name": "stderr",
     "output_type": "stream",
     "text": [
      "2025-05-27 19:07:29,836 - QmioBackend/0.2.0 - DEBUG - Added ecr_inst[(28,27) - duration 0.0000006400s - error 0.137180]\n"
     ]
    },
    {
     "name": "stdout",
     "output_type": "stream",
     "text": [
      "2025-05-27 19:07:29,837 - QmioBackend/0.2.0 - DEBUG - Added ecr_inst[(28,29) - duration 0.0000005120s - error 0.070480]\n"
     ]
    },
    {
     "name": "stderr",
     "output_type": "stream",
     "text": [
      "2025-05-27 19:07:29,837 - QmioBackend/0.2.0 - DEBUG - Added ecr_inst[(28,29) - duration 0.0000005120s - error 0.070480]\n"
     ]
    },
    {
     "name": "stdout",
     "output_type": "stream",
     "text": [
      "2025-05-27 19:07:29,838 - QmioBackend/0.2.0 - DEBUG - Added ecr_inst[(30,29) - duration 0.0000004800s - error 0.038620]\n"
     ]
    },
    {
     "name": "stderr",
     "output_type": "stream",
     "text": [
      "2025-05-27 19:07:29,838 - QmioBackend/0.2.0 - DEBUG - Added ecr_inst[(30,29) - duration 0.0000004800s - error 0.038620]\n"
     ]
    },
    {
     "name": "stdout",
     "output_type": "stream",
     "text": [
      "2025-05-27 19:07:29,838 - QmioBackend/0.2.0 - DEBUG - Added ecr_inst[(30,31) - duration 0.0000004800s - error 0.071630]\n"
     ]
    },
    {
     "name": "stderr",
     "output_type": "stream",
     "text": [
      "2025-05-27 19:07:29,838 - QmioBackend/0.2.0 - DEBUG - Added ecr_inst[(30,31) - duration 0.0000004800s - error 0.071630]\n"
     ]
    },
    {
     "name": "stdout",
     "output_type": "stream",
     "text": [
      "2025-05-27 19:07:29,839 - QmioBackend/0.2.0 - DEBUG - measures[0] - duration 0.0000028599s - error 0.169500\n"
     ]
    },
    {
     "name": "stderr",
     "output_type": "stream",
     "text": [
      "2025-05-27 19:07:29,839 - QmioBackend/0.2.0 - DEBUG - measures[0] - duration 0.0000028599s - error 0.169500\n"
     ]
    },
    {
     "name": "stdout",
     "output_type": "stream",
     "text": [
      "2025-05-27 19:07:29,840 - QmioBackend/0.2.0 - DEBUG - measures[1] - duration 0.0000057492s - error 0.085700\n"
     ]
    },
    {
     "name": "stderr",
     "output_type": "stream",
     "text": [
      "2025-05-27 19:07:29,840 - QmioBackend/0.2.0 - DEBUG - measures[1] - duration 0.0000057492s - error 0.085700\n"
     ]
    },
    {
     "name": "stdout",
     "output_type": "stream",
     "text": [
      "2025-05-27 19:07:29,841 - QmioBackend/0.2.0 - DEBUG - measures[2] - duration 0.0000103540s - error 0.084200\n"
     ]
    },
    {
     "name": "stderr",
     "output_type": "stream",
     "text": [
      "2025-05-27 19:07:29,841 - QmioBackend/0.2.0 - DEBUG - measures[2] - duration 0.0000103540s - error 0.084200\n"
     ]
    },
    {
     "name": "stdout",
     "output_type": "stream",
     "text": [
      "2025-05-27 19:07:29,842 - QmioBackend/0.2.0 - DEBUG - measures[3] - duration 0.0000056687s - error 0.090100\n"
     ]
    },
    {
     "name": "stderr",
     "output_type": "stream",
     "text": [
      "2025-05-27 19:07:29,842 - QmioBackend/0.2.0 - DEBUG - measures[3] - duration 0.0000056687s - error 0.090100\n"
     ]
    },
    {
     "name": "stdout",
     "output_type": "stream",
     "text": [
      "2025-05-27 19:07:29,843 - QmioBackend/0.2.0 - DEBUG - measures[4] - duration 0.0000059770s - error 0.148000\n"
     ]
    },
    {
     "name": "stderr",
     "output_type": "stream",
     "text": [
      "2025-05-27 19:07:29,843 - QmioBackend/0.2.0 - DEBUG - measures[4] - duration 0.0000059770s - error 0.148000\n"
     ]
    },
    {
     "name": "stdout",
     "output_type": "stream",
     "text": [
      "2025-05-27 19:07:29,844 - QmioBackend/0.2.0 - DEBUG - measures[5] - duration 0.0000160000s - error 0.098500\n"
     ]
    },
    {
     "name": "stderr",
     "output_type": "stream",
     "text": [
      "2025-05-27 19:07:29,844 - QmioBackend/0.2.0 - DEBUG - measures[5] - duration 0.0000160000s - error 0.098500\n"
     ]
    },
    {
     "name": "stdout",
     "output_type": "stream",
     "text": [
      "2025-05-27 19:07:29,844 - QmioBackend/0.2.0 - DEBUG - measures[6] - duration 0.0000061752s - error 0.072400\n"
     ]
    },
    {
     "name": "stderr",
     "output_type": "stream",
     "text": [
      "2025-05-27 19:07:29,844 - QmioBackend/0.2.0 - DEBUG - measures[6] - duration 0.0000061752s - error 0.072400\n"
     ]
    },
    {
     "name": "stdout",
     "output_type": "stream",
     "text": [
      "2025-05-27 19:07:29,845 - QmioBackend/0.2.0 - DEBUG - measures[7] - duration 0.0000120000s - error 0.193700\n"
     ]
    },
    {
     "name": "stderr",
     "output_type": "stream",
     "text": [
      "2025-05-27 19:07:29,845 - QmioBackend/0.2.0 - DEBUG - measures[7] - duration 0.0000120000s - error 0.193700\n"
     ]
    },
    {
     "name": "stdout",
     "output_type": "stream",
     "text": [
      "2025-05-27 19:07:29,846 - QmioBackend/0.2.0 - DEBUG - measures[8] - duration 0.0000106760s - error 0.100300\n"
     ]
    },
    {
     "name": "stderr",
     "output_type": "stream",
     "text": [
      "2025-05-27 19:07:29,846 - QmioBackend/0.2.0 - DEBUG - measures[8] - duration 0.0000106760s - error 0.100300\n"
     ]
    },
    {
     "name": "stdout",
     "output_type": "stream",
     "text": [
      "2025-05-27 19:07:29,847 - QmioBackend/0.2.0 - DEBUG - measures[9] - duration 0.0000079825s - error 0.104700\n"
     ]
    },
    {
     "name": "stderr",
     "output_type": "stream",
     "text": [
      "2025-05-27 19:07:29,847 - QmioBackend/0.2.0 - DEBUG - measures[9] - duration 0.0000079825s - error 0.104700\n"
     ]
    },
    {
     "name": "stdout",
     "output_type": "stream",
     "text": [
      "2025-05-27 19:07:29,848 - QmioBackend/0.2.0 - DEBUG - measures[10] - duration 0.0000120000s - error 0.067100\n"
     ]
    },
    {
     "name": "stderr",
     "output_type": "stream",
     "text": [
      "2025-05-27 19:07:29,848 - QmioBackend/0.2.0 - DEBUG - measures[10] - duration 0.0000120000s - error 0.067100\n"
     ]
    },
    {
     "name": "stdout",
     "output_type": "stream",
     "text": [
      "2025-05-27 19:07:29,862 - QmioBackend/0.2.0 - DEBUG - measures[11] - duration 0.0000091887s - error 0.089700\n"
     ]
    },
    {
     "name": "stderr",
     "output_type": "stream",
     "text": [
      "2025-05-27 19:07:29,862 - QmioBackend/0.2.0 - DEBUG - measures[11] - duration 0.0000091887s - error 0.089700\n"
     ]
    },
    {
     "name": "stdout",
     "output_type": "stream",
     "text": [
      "2025-05-27 19:07:29,864 - QmioBackend/0.2.0 - DEBUG - measures[12] - duration 0.0000053809s - error 0.163600\n"
     ]
    },
    {
     "name": "stderr",
     "output_type": "stream",
     "text": [
      "2025-05-27 19:07:29,864 - QmioBackend/0.2.0 - DEBUG - measures[12] - duration 0.0000053809s - error 0.163600\n"
     ]
    },
    {
     "name": "stdout",
     "output_type": "stream",
     "text": [
      "2025-05-27 19:07:29,865 - QmioBackend/0.2.0 - DEBUG - measures[13] - duration 0.0000059680s - error 0.106300\n"
     ]
    },
    {
     "name": "stderr",
     "output_type": "stream",
     "text": [
      "2025-05-27 19:07:29,865 - QmioBackend/0.2.0 - DEBUG - measures[13] - duration 0.0000059680s - error 0.106300\n"
     ]
    },
    {
     "name": "stdout",
     "output_type": "stream",
     "text": [
      "2025-05-27 19:07:29,866 - QmioBackend/0.2.0 - DEBUG - measures[14] - duration 0.0000146040s - error 0.115200\n"
     ]
    },
    {
     "name": "stderr",
     "output_type": "stream",
     "text": [
      "2025-05-27 19:07:29,866 - QmioBackend/0.2.0 - DEBUG - measures[14] - duration 0.0000146040s - error 0.115200\n"
     ]
    },
    {
     "name": "stdout",
     "output_type": "stream",
     "text": [
      "2025-05-27 19:07:29,867 - QmioBackend/0.2.0 - DEBUG - measures[15] - duration 0.0000134550s - error 0.091100\n"
     ]
    },
    {
     "name": "stderr",
     "output_type": "stream",
     "text": [
      "2025-05-27 19:07:29,867 - QmioBackend/0.2.0 - DEBUG - measures[15] - duration 0.0000134550s - error 0.091100\n"
     ]
    },
    {
     "name": "stdout",
     "output_type": "stream",
     "text": [
      "2025-05-27 19:07:29,868 - QmioBackend/0.2.0 - DEBUG - measures[16] - duration 0.0000049434s - error 0.057900\n"
     ]
    },
    {
     "name": "stderr",
     "output_type": "stream",
     "text": [
      "2025-05-27 19:07:29,868 - QmioBackend/0.2.0 - DEBUG - measures[16] - duration 0.0000049434s - error 0.057900\n"
     ]
    },
    {
     "name": "stdout",
     "output_type": "stream",
     "text": [
      "2025-05-27 19:07:29,869 - QmioBackend/0.2.0 - DEBUG - measures[17] - duration 0.0000180000s - error 0.459700\n"
     ]
    },
    {
     "name": "stderr",
     "output_type": "stream",
     "text": [
      "2025-05-27 19:07:29,869 - QmioBackend/0.2.0 - DEBUG - measures[17] - duration 0.0000180000s - error 0.459700\n"
     ]
    },
    {
     "name": "stdout",
     "output_type": "stream",
     "text": [
      "2025-05-27 19:07:29,869 - QmioBackend/0.2.0 - DEBUG - measures[18] - duration 0.0000126330s - error 0.268600\n"
     ]
    },
    {
     "name": "stderr",
     "output_type": "stream",
     "text": [
      "2025-05-27 19:07:29,869 - QmioBackend/0.2.0 - DEBUG - measures[18] - duration 0.0000126330s - error 0.268600\n"
     ]
    },
    {
     "name": "stdout",
     "output_type": "stream",
     "text": [
      "2025-05-27 19:07:29,870 - QmioBackend/0.2.0 - DEBUG - measures[19] - duration 0.0000049895s - error 0.050400\n"
     ]
    },
    {
     "name": "stderr",
     "output_type": "stream",
     "text": [
      "2025-05-27 19:07:29,870 - QmioBackend/0.2.0 - DEBUG - measures[19] - duration 0.0000049895s - error 0.050400\n"
     ]
    },
    {
     "name": "stdout",
     "output_type": "stream",
     "text": [
      "2025-05-27 19:07:29,871 - QmioBackend/0.2.0 - DEBUG - measures[20] - duration 0.0000069810s - error 0.084100\n"
     ]
    },
    {
     "name": "stderr",
     "output_type": "stream",
     "text": [
      "2025-05-27 19:07:29,871 - QmioBackend/0.2.0 - DEBUG - measures[20] - duration 0.0000069810s - error 0.084100\n"
     ]
    },
    {
     "name": "stdout",
     "output_type": "stream",
     "text": [
      "2025-05-27 19:07:29,872 - QmioBackend/0.2.0 - DEBUG - measures[21] - duration 0.0000049550s - error 0.070500\n"
     ]
    },
    {
     "name": "stderr",
     "output_type": "stream",
     "text": [
      "2025-05-27 19:07:29,872 - QmioBackend/0.2.0 - DEBUG - measures[21] - duration 0.0000049550s - error 0.070500\n"
     ]
    },
    {
     "name": "stdout",
     "output_type": "stream",
     "text": [
      "2025-05-27 19:07:29,873 - QmioBackend/0.2.0 - DEBUG - measures[22] - duration 0.0000091221s - error 0.095500\n"
     ]
    },
    {
     "name": "stderr",
     "output_type": "stream",
     "text": [
      "2025-05-27 19:07:29,873 - QmioBackend/0.2.0 - DEBUG - measures[22] - duration 0.0000091221s - error 0.095500\n"
     ]
    },
    {
     "name": "stdout",
     "output_type": "stream",
     "text": [
      "2025-05-27 19:07:29,874 - QmioBackend/0.2.0 - DEBUG - measures[23] - duration 0.0000100550s - error 0.106800\n"
     ]
    },
    {
     "name": "stderr",
     "output_type": "stream",
     "text": [
      "2025-05-27 19:07:29,874 - QmioBackend/0.2.0 - DEBUG - measures[23] - duration 0.0000100550s - error 0.106800\n"
     ]
    },
    {
     "name": "stdout",
     "output_type": "stream",
     "text": [
      "2025-05-27 19:07:29,874 - QmioBackend/0.2.0 - DEBUG - measures[24] - duration 0.0000148670s - error 0.261800\n"
     ]
    },
    {
     "name": "stderr",
     "output_type": "stream",
     "text": [
      "2025-05-27 19:07:29,874 - QmioBackend/0.2.0 - DEBUG - measures[24] - duration 0.0000148670s - error 0.261800\n"
     ]
    },
    {
     "name": "stdout",
     "output_type": "stream",
     "text": [
      "2025-05-27 19:07:29,875 - QmioBackend/0.2.0 - DEBUG - measures[25] - duration 0.0000160000s - error 0.072800\n"
     ]
    },
    {
     "name": "stderr",
     "output_type": "stream",
     "text": [
      "2025-05-27 19:07:29,875 - QmioBackend/0.2.0 - DEBUG - measures[25] - duration 0.0000160000s - error 0.072800\n"
     ]
    },
    {
     "name": "stdout",
     "output_type": "stream",
     "text": [
      "2025-05-27 19:07:29,876 - QmioBackend/0.2.0 - DEBUG - measures[26] - duration 0.0000119190s - error 0.121400\n"
     ]
    },
    {
     "name": "stderr",
     "output_type": "stream",
     "text": [
      "2025-05-27 19:07:29,876 - QmioBackend/0.2.0 - DEBUG - measures[26] - duration 0.0000119190s - error 0.121400\n"
     ]
    },
    {
     "name": "stdout",
     "output_type": "stream",
     "text": [
      "2025-05-27 19:07:29,877 - QmioBackend/0.2.0 - DEBUG - measures[27] - duration 0.0000048283s - error 0.098400\n"
     ]
    },
    {
     "name": "stderr",
     "output_type": "stream",
     "text": [
      "2025-05-27 19:07:29,877 - QmioBackend/0.2.0 - DEBUG - measures[27] - duration 0.0000048283s - error 0.098400\n"
     ]
    },
    {
     "name": "stdout",
     "output_type": "stream",
     "text": [
      "2025-05-27 19:07:29,878 - QmioBackend/0.2.0 - DEBUG - measures[28] - duration 0.0000129740s - error 0.117300\n"
     ]
    },
    {
     "name": "stderr",
     "output_type": "stream",
     "text": [
      "2025-05-27 19:07:29,878 - QmioBackend/0.2.0 - DEBUG - measures[28] - duration 0.0000129740s - error 0.117300\n"
     ]
    },
    {
     "name": "stdout",
     "output_type": "stream",
     "text": [
      "2025-05-27 19:07:29,878 - QmioBackend/0.2.0 - DEBUG - measures[29] - duration 0.0000095020s - error 0.134200\n"
     ]
    },
    {
     "name": "stderr",
     "output_type": "stream",
     "text": [
      "2025-05-27 19:07:29,878 - QmioBackend/0.2.0 - DEBUG - measures[29] - duration 0.0000095020s - error 0.134200\n"
     ]
    },
    {
     "name": "stdout",
     "output_type": "stream",
     "text": [
      "2025-05-27 19:07:29,879 - QmioBackend/0.2.0 - DEBUG - measures[30] - duration 0.0000096286s - error 0.099900\n"
     ]
    },
    {
     "name": "stderr",
     "output_type": "stream",
     "text": [
      "2025-05-27 19:07:29,879 - QmioBackend/0.2.0 - DEBUG - measures[30] - duration 0.0000096286s - error 0.099900\n"
     ]
    },
    {
     "name": "stdout",
     "output_type": "stream",
     "text": [
      "2025-05-27 19:07:29,880 - QmioBackend/0.2.0 - DEBUG - measures[31] - duration 0.0000120000s - error 0.140200\n"
     ]
    },
    {
     "name": "stderr",
     "output_type": "stream",
     "text": [
      "2025-05-27 19:07:29,880 - QmioBackend/0.2.0 - DEBUG - measures[31] - duration 0.0000120000s - error 0.140200\n"
     ]
    },
    {
     "name": "stdout",
     "output_type": "stream",
     "text": [
      "2025-05-27 19:07:29,881 - QmioBackend/0.2.0 - INFO - Default options Options(shots=10000, memory=False, repetition_period=None, res_format='binary_count', output_qasm3=False)\n"
     ]
    },
    {
     "name": "stderr",
     "output_type": "stream",
     "text": [
      "2025-05-27 19:07:29,881 - QmioBackend/0.2.0 - INFO - Default options Options(shots=10000, memory=False, repetition_period=None, res_format='binary_count', output_qasm3=False)\n"
     ]
    },
    {
     "name": "stdout",
     "output_type": "stream",
     "text": [
      "2025-05-27 19:07:29,882 - QmioBackend/0.2.0 - INFO - VERSION 0.2.0\n"
     ]
    },
    {
     "name": "stderr",
     "output_type": "stream",
     "text": [
      "2025-05-27 19:07:29,882 - QmioBackend/0.2.0 - INFO - VERSION 0.2.0\n"
     ]
    },
    {
     "name": "stdout",
     "output_type": "stream",
     "text": [
      "2025-05-27 19:07:29,883 - QmioBackend/0.2.0 - INFO - MAX CIRCUITS 1000\n"
     ]
    },
    {
     "name": "stderr",
     "output_type": "stream",
     "text": [
      "2025-05-27 19:07:29,883 - QmioBackend/0.2.0 - INFO - MAX CIRCUITS 1000\n"
     ]
    },
    {
     "name": "stdout",
     "output_type": "stream",
     "text": [
      "2025-05-27 19:07:29,884 - QmioBackend/0.2.0 - INFO - MAX SHOTS PER STEP 100000\n"
     ]
    },
    {
     "name": "stderr",
     "output_type": "stream",
     "text": [
      "2025-05-27 19:07:29,884 - QmioBackend/0.2.0 - INFO - MAX SHOTS PER STEP 100000\n"
     ]
    },
    {
     "name": "stdout",
     "output_type": "stream",
     "text": [
      "2025-05-27 19:07:29,884 - QmioBackend/0.2.0 - INFO - MAX SHOTS PER JOB 100000000\n"
     ]
    },
    {
     "name": "stderr",
     "output_type": "stream",
     "text": [
      "2025-05-27 19:07:29,884 - QmioBackend/0.2.0 - INFO - MAX SHOTS PER JOB 100000000\n"
     ]
    }
   ],
   "source": [
    "backend=QmioBackend(logging_level=3)"
   ]
  },
  {
   "cell_type": "code",
   "execution_count": 5,
   "id": "81c8bd1d",
   "metadata": {},
   "outputs": [
    {
     "data": {
      "text/html": [
       "<pre style=\"word-wrap: normal;white-space: pre;background: #fff0;line-height: 1.1;font-family: &quot;Courier New&quot;,Courier,monospace\">        ┌───┐      ░ ┌─┐   \n",
       "   q_0: ┤ H ├──■───░─┤M├───\n",
       "        └───┘┌─┴─┐ ░ └╥┘┌─┐\n",
       "   q_1: ─────┤ X ├─░──╫─┤M├\n",
       "             └───┘ ░  ║ └╥┘\n",
       "meas: 2/══════════════╩══╩═\n",
       "                      0  1 </pre>"
      ],
      "text/plain": [
       "        ┌───┐      ░ ┌─┐   \n",
       "   q_0: ┤ H ├──■───░─┤M├───\n",
       "        └───┘┌─┴─┐ ░ └╥┘┌─┐\n",
       "   q_1: ─────┤ X ├─░──╫─┤M├\n",
       "             └───┘ ░  ║ └╥┘\n",
       "meas: 2/══════════════╩══╩═\n",
       "                      0  1 "
      ]
     },
     "execution_count": 5,
     "metadata": {},
     "output_type": "execute_result"
    }
   ],
   "source": [
    "%matplotlib inline\n",
    "c=QuantumCircuit(2)\n",
    "c.h(0)\n",
    "c.cx(0,1)\n",
    "c.measure_all()\n",
    "#c.draw(output=\"mpl\")\n",
    "c.draw()"
   ]
  },
  {
   "cell_type": "code",
   "execution_count": 6,
   "id": "ec89c5ce",
   "metadata": {},
   "outputs": [
    {
     "ename": "MissingOptionalLibraryError",
     "evalue": "\"The 'pylatexenc' library is required to use 'MatplotlibDrawer'. You can install it with 'pip install pylatexenc'.\"",
     "output_type": "error",
     "traceback": [
      "\u001b[0;31m---------------------------------------------------------------------------\u001b[0m",
      "\u001b[0;31mMissingOptionalLibraryError\u001b[0m               Traceback (most recent call last)",
      "\u001b[0;32m/tmp/ipykernel_2593181/3282094458.py\u001b[0m in \u001b[0;36m<module>\u001b[0;34m\u001b[0m\n\u001b[1;32m      1\u001b[0m \u001b[0md\u001b[0m\u001b[0;34m=\u001b[0m\u001b[0mc\u001b[0m\u001b[0;34m.\u001b[0m\u001b[0mcopy\u001b[0m\u001b[0;34m(\u001b[0m\u001b[0;34m)\u001b[0m\u001b[0;34m\u001b[0m\u001b[0;34m\u001b[0m\u001b[0m\n\u001b[1;32m      2\u001b[0m \u001b[0md\u001b[0m\u001b[0;34m.\u001b[0m\u001b[0mname\u001b[0m\u001b[0;34m=\u001b[0m\u001b[0;34m\"Copy\"\u001b[0m\u001b[0;34m\u001b[0m\u001b[0;34m\u001b[0m\u001b[0m\n\u001b[0;32m----> 3\u001b[0;31m \u001b[0md\u001b[0m\u001b[0;34m.\u001b[0m\u001b[0mdraw\u001b[0m\u001b[0;34m(\u001b[0m\u001b[0moutput\u001b[0m\u001b[0;34m=\u001b[0m\u001b[0;34m\"mpl\"\u001b[0m\u001b[0;34m)\u001b[0m\u001b[0;34m\u001b[0m\u001b[0;34m\u001b[0m\u001b[0m\n\u001b[0m",
      "\u001b[0;32m~/.local/lib/python3.9/site-packages/qiskit/circuit/quantumcircuit.py\u001b[0m in \u001b[0;36mdraw\u001b[0;34m(self, output, scale, filename, style, interactive, plot_barriers, reverse_bits, justify, vertical_compression, idle_wires, with_layout, fold, ax, initial_state, cregbundle, wire_order, expr_len)\u001b[0m\n\u001b[1;32m   3798\u001b[0m         \u001b[0;32mfrom\u001b[0m \u001b[0mqiskit\u001b[0m\u001b[0;34m.\u001b[0m\u001b[0mvisualization\u001b[0m \u001b[0;32mimport\u001b[0m \u001b[0mcircuit_drawer\u001b[0m\u001b[0;34m\u001b[0m\u001b[0;34m\u001b[0m\u001b[0m\n\u001b[1;32m   3799\u001b[0m \u001b[0;34m\u001b[0m\u001b[0m\n\u001b[0;32m-> 3800\u001b[0;31m         return circuit_drawer(\n\u001b[0m\u001b[1;32m   3801\u001b[0m             \u001b[0mself\u001b[0m\u001b[0;34m,\u001b[0m\u001b[0;34m\u001b[0m\u001b[0;34m\u001b[0m\u001b[0m\n\u001b[1;32m   3802\u001b[0m             \u001b[0mscale\u001b[0m\u001b[0;34m=\u001b[0m\u001b[0mscale\u001b[0m\u001b[0;34m,\u001b[0m\u001b[0;34m\u001b[0m\u001b[0;34m\u001b[0m\u001b[0m\n",
      "\u001b[0;32m~/.local/lib/python3.9/site-packages/qiskit/visualization/circuit/circuit_visualization.py\u001b[0m in \u001b[0;36mcircuit_drawer\u001b[0;34m(circuit, scale, filename, style, output, interactive, plot_barriers, reverse_bits, justify, vertical_compression, idle_wires, with_layout, fold, ax, initial_state, cregbundle, wire_order, expr_len)\u001b[0m\n\u001b[1;32m    337\u001b[0m         )\n\u001b[1;32m    338\u001b[0m     \u001b[0;32melif\u001b[0m \u001b[0moutput\u001b[0m \u001b[0;34m==\u001b[0m \u001b[0;34m\"mpl\"\u001b[0m\u001b[0;34m:\u001b[0m\u001b[0;34m\u001b[0m\u001b[0;34m\u001b[0m\u001b[0m\n\u001b[0;32m--> 339\u001b[0;31m         image = _matplotlib_circuit_drawer(\n\u001b[0m\u001b[1;32m    340\u001b[0m             \u001b[0mcircuit\u001b[0m\u001b[0;34m,\u001b[0m\u001b[0;34m\u001b[0m\u001b[0;34m\u001b[0m\u001b[0m\n\u001b[1;32m    341\u001b[0m             \u001b[0mscale\u001b[0m\u001b[0;34m=\u001b[0m\u001b[0mscale\u001b[0m\u001b[0;34m,\u001b[0m\u001b[0;34m\u001b[0m\u001b[0;34m\u001b[0m\u001b[0m\n",
      "\u001b[0;32m~/.local/lib/python3.9/site-packages/qiskit/visualization/circuit/circuit_visualization.py\u001b[0m in \u001b[0;36m_matplotlib_circuit_drawer\u001b[0;34m(circuit, scale, filename, style, plot_barriers, reverse_bits, justify, idle_wires, with_layout, fold, ax, initial_state, cregbundle, wire_order, expr_len)\u001b[0m\n\u001b[1;32m    717\u001b[0m         \u001b[0mfold\u001b[0m \u001b[0;34m=\u001b[0m \u001b[0;36m25\u001b[0m\u001b[0;34m\u001b[0m\u001b[0;34m\u001b[0m\u001b[0m\n\u001b[1;32m    718\u001b[0m \u001b[0;34m\u001b[0m\u001b[0m\n\u001b[0;32m--> 719\u001b[0;31m     qcd = _matplotlib.MatplotlibDrawer(\n\u001b[0m\u001b[1;32m    720\u001b[0m         \u001b[0mqubits\u001b[0m\u001b[0;34m,\u001b[0m\u001b[0;34m\u001b[0m\u001b[0;34m\u001b[0m\u001b[0m\n\u001b[1;32m    721\u001b[0m         \u001b[0mclbits\u001b[0m\u001b[0;34m,\u001b[0m\u001b[0;34m\u001b[0m\u001b[0;34m\u001b[0m\u001b[0m\n",
      "\u001b[0;32m~/.local/lib/python3.9/site-packages/qiskit/utils/classtools.py\u001b[0m in \u001b[0;36mout\u001b[0;34m(*args, **kwargs)\u001b[0m\n\u001b[1;32m    109\u001b[0m         \u001b[0;32mdef\u001b[0m \u001b[0mout\u001b[0m\u001b[0;34m(\u001b[0m\u001b[0;34m*\u001b[0m\u001b[0margs\u001b[0m\u001b[0;34m,\u001b[0m \u001b[0;34m**\u001b[0m\u001b[0mkwargs\u001b[0m\u001b[0;34m)\u001b[0m\u001b[0;34m:\u001b[0m\u001b[0;34m\u001b[0m\u001b[0;34m\u001b[0m\u001b[0m\n\u001b[1;32m    110\u001b[0m             \u001b[0;32mfor\u001b[0m \u001b[0mcallback\u001b[0m \u001b[0;32min\u001b[0m \u001b[0mself\u001b[0m\u001b[0;34m.\u001b[0m\u001b[0m_before\u001b[0m\u001b[0;34m:\u001b[0m\u001b[0;34m\u001b[0m\u001b[0;34m\u001b[0m\u001b[0m\n\u001b[0;32m--> 111\u001b[0;31m                 \u001b[0mcallback\u001b[0m\u001b[0;34m.\u001b[0m\u001b[0m__get__\u001b[0m\u001b[0;34m(\u001b[0m\u001b[0mobj\u001b[0m\u001b[0;34m,\u001b[0m \u001b[0mobjtype\u001b[0m\u001b[0;34m)\u001b[0m\u001b[0;34m(\u001b[0m\u001b[0;34m*\u001b[0m\u001b[0margs\u001b[0m\u001b[0;34m,\u001b[0m \u001b[0;34m**\u001b[0m\u001b[0mkwargs\u001b[0m\u001b[0;34m)\u001b[0m\u001b[0;34m\u001b[0m\u001b[0;34m\u001b[0m\u001b[0m\n\u001b[0m\u001b[1;32m    112\u001b[0m             \u001b[0mretval\u001b[0m \u001b[0;34m=\u001b[0m \u001b[0mmethod\u001b[0m\u001b[0;34m(\u001b[0m\u001b[0;34m*\u001b[0m\u001b[0margs\u001b[0m\u001b[0;34m,\u001b[0m \u001b[0;34m**\u001b[0m\u001b[0mkwargs\u001b[0m\u001b[0;34m)\u001b[0m\u001b[0;34m\u001b[0m\u001b[0;34m\u001b[0m\u001b[0m\n\u001b[1;32m    113\u001b[0m             \u001b[0;32mfor\u001b[0m \u001b[0mcallback\u001b[0m \u001b[0;32min\u001b[0m \u001b[0mself\u001b[0m\u001b[0;34m.\u001b[0m\u001b[0m_after\u001b[0m\u001b[0;34m:\u001b[0m\u001b[0;34m\u001b[0m\u001b[0;34m\u001b[0m\u001b[0m\n",
      "\u001b[0;32m~/.local/lib/python3.9/site-packages/qiskit/utils/lazy_tester.py\u001b[0m in \u001b[0;36m__call__\u001b[0;34m(self, *_args, **_kwargs)\u001b[0m\n\u001b[1;32m     39\u001b[0m \u001b[0;34m\u001b[0m\u001b[0m\n\u001b[1;32m     40\u001b[0m     \u001b[0;32mdef\u001b[0m \u001b[0m__call__\u001b[0m\u001b[0;34m(\u001b[0m\u001b[0mself\u001b[0m\u001b[0;34m,\u001b[0m \u001b[0;34m*\u001b[0m\u001b[0m_args\u001b[0m\u001b[0;34m,\u001b[0m \u001b[0;34m**\u001b[0m\u001b[0m_kwargs\u001b[0m\u001b[0;34m)\u001b[0m\u001b[0;34m:\u001b[0m\u001b[0;34m\u001b[0m\u001b[0;34m\u001b[0m\u001b[0m\n\u001b[0;32m---> 41\u001b[0;31m         \u001b[0mself\u001b[0m\u001b[0;34m.\u001b[0m\u001b[0m_tester\u001b[0m\u001b[0;34m.\u001b[0m\u001b[0mrequire_now\u001b[0m\u001b[0;34m(\u001b[0m\u001b[0mself\u001b[0m\u001b[0;34m.\u001b[0m\u001b[0m_feature\u001b[0m\u001b[0;34m)\u001b[0m\u001b[0;34m\u001b[0m\u001b[0;34m\u001b[0m\u001b[0m\n\u001b[0m\u001b[1;32m     42\u001b[0m \u001b[0;34m\u001b[0m\u001b[0m\n\u001b[1;32m     43\u001b[0m \u001b[0;34m\u001b[0m\u001b[0m\n",
      "\u001b[0;32m~/.local/lib/python3.9/site-packages/qiskit/utils/lazy_tester.py\u001b[0m in \u001b[0;36mrequire_now\u001b[0;34m(self, feature)\u001b[0m\n\u001b[1;32m    219\u001b[0m         \u001b[0;32mif\u001b[0m \u001b[0mself\u001b[0m\u001b[0;34m:\u001b[0m\u001b[0;34m\u001b[0m\u001b[0;34m\u001b[0m\u001b[0m\n\u001b[1;32m    220\u001b[0m             \u001b[0;32mreturn\u001b[0m\u001b[0;34m\u001b[0m\u001b[0;34m\u001b[0m\u001b[0m\n\u001b[0;32m--> 221\u001b[0;31m         raise MissingOptionalLibraryError(\n\u001b[0m\u001b[1;32m    222\u001b[0m             \u001b[0mlibname\u001b[0m\u001b[0;34m=\u001b[0m\u001b[0mself\u001b[0m\u001b[0;34m.\u001b[0m\u001b[0m_name\u001b[0m\u001b[0;34m,\u001b[0m \u001b[0mname\u001b[0m\u001b[0;34m=\u001b[0m\u001b[0mfeature\u001b[0m\u001b[0;34m,\u001b[0m \u001b[0mpip_install\u001b[0m\u001b[0;34m=\u001b[0m\u001b[0mself\u001b[0m\u001b[0;34m.\u001b[0m\u001b[0m_install\u001b[0m\u001b[0;34m,\u001b[0m \u001b[0mmsg\u001b[0m\u001b[0;34m=\u001b[0m\u001b[0mself\u001b[0m\u001b[0;34m.\u001b[0m\u001b[0m_msg\u001b[0m\u001b[0;34m\u001b[0m\u001b[0;34m\u001b[0m\u001b[0m\n\u001b[1;32m    223\u001b[0m         )\n",
      "\u001b[0;31mMissingOptionalLibraryError\u001b[0m: \"The 'pylatexenc' library is required to use 'MatplotlibDrawer'. You can install it with 'pip install pylatexenc'.\""
     ]
    }
   ],
   "source": [
    "d=c.copy()\n",
    "d.name=\"Copy\"\n",
    "d.draw(output=\"mpl\")"
   ]
  },
  {
   "cell_type": "code",
   "execution_count": 7,
   "id": "8f210255",
   "metadata": {},
   "outputs": [
    {
     "ename": "MissingOptionalLibraryError",
     "evalue": "\"The 'pylatexenc' library is required to use 'MatplotlibDrawer'. You can install it with 'pip install pylatexenc'.\"",
     "output_type": "error",
     "traceback": [
      "\u001b[0;31m---------------------------------------------------------------------------\u001b[0m",
      "\u001b[0;31mMissingOptionalLibraryError\u001b[0m               Traceback (most recent call last)",
      "\u001b[0;32m/tmp/ipykernel_2593181/79623428.py\u001b[0m in \u001b[0;36m<module>\u001b[0;34m\u001b[0m\n\u001b[1;32m      1\u001b[0m \u001b[0mqc_basis\u001b[0m \u001b[0;34m=\u001b[0m \u001b[0mtranspile\u001b[0m\u001b[0;34m(\u001b[0m\u001b[0mc\u001b[0m\u001b[0;34m,\u001b[0m \u001b[0mbackend\u001b[0m\u001b[0;34m)\u001b[0m\u001b[0;34m\u001b[0m\u001b[0;34m\u001b[0m\u001b[0m\n\u001b[0;32m----> 2\u001b[0;31m \u001b[0mqc_basis\u001b[0m\u001b[0;34m.\u001b[0m\u001b[0mdraw\u001b[0m\u001b[0;34m(\u001b[0m\u001b[0moutput\u001b[0m\u001b[0;34m=\u001b[0m\u001b[0;34m\"mpl\"\u001b[0m\u001b[0;34m,\u001b[0m\u001b[0midle_wires\u001b[0m\u001b[0;34m=\u001b[0m\u001b[0;32mFalse\u001b[0m\u001b[0;34m)\u001b[0m\u001b[0;34m\u001b[0m\u001b[0;34m\u001b[0m\u001b[0m\n\u001b[0m",
      "\u001b[0;32m~/.local/lib/python3.9/site-packages/qiskit/circuit/quantumcircuit.py\u001b[0m in \u001b[0;36mdraw\u001b[0;34m(self, output, scale, filename, style, interactive, plot_barriers, reverse_bits, justify, vertical_compression, idle_wires, with_layout, fold, ax, initial_state, cregbundle, wire_order, expr_len)\u001b[0m\n\u001b[1;32m   3798\u001b[0m         \u001b[0;32mfrom\u001b[0m \u001b[0mqiskit\u001b[0m\u001b[0;34m.\u001b[0m\u001b[0mvisualization\u001b[0m \u001b[0;32mimport\u001b[0m \u001b[0mcircuit_drawer\u001b[0m\u001b[0;34m\u001b[0m\u001b[0;34m\u001b[0m\u001b[0m\n\u001b[1;32m   3799\u001b[0m \u001b[0;34m\u001b[0m\u001b[0m\n\u001b[0;32m-> 3800\u001b[0;31m         return circuit_drawer(\n\u001b[0m\u001b[1;32m   3801\u001b[0m             \u001b[0mself\u001b[0m\u001b[0;34m,\u001b[0m\u001b[0;34m\u001b[0m\u001b[0;34m\u001b[0m\u001b[0m\n\u001b[1;32m   3802\u001b[0m             \u001b[0mscale\u001b[0m\u001b[0;34m=\u001b[0m\u001b[0mscale\u001b[0m\u001b[0;34m,\u001b[0m\u001b[0;34m\u001b[0m\u001b[0;34m\u001b[0m\u001b[0m\n",
      "\u001b[0;32m~/.local/lib/python3.9/site-packages/qiskit/visualization/circuit/circuit_visualization.py\u001b[0m in \u001b[0;36mcircuit_drawer\u001b[0;34m(circuit, scale, filename, style, output, interactive, plot_barriers, reverse_bits, justify, vertical_compression, idle_wires, with_layout, fold, ax, initial_state, cregbundle, wire_order, expr_len)\u001b[0m\n\u001b[1;32m    337\u001b[0m         )\n\u001b[1;32m    338\u001b[0m     \u001b[0;32melif\u001b[0m \u001b[0moutput\u001b[0m \u001b[0;34m==\u001b[0m \u001b[0;34m\"mpl\"\u001b[0m\u001b[0;34m:\u001b[0m\u001b[0;34m\u001b[0m\u001b[0;34m\u001b[0m\u001b[0m\n\u001b[0;32m--> 339\u001b[0;31m         image = _matplotlib_circuit_drawer(\n\u001b[0m\u001b[1;32m    340\u001b[0m             \u001b[0mcircuit\u001b[0m\u001b[0;34m,\u001b[0m\u001b[0;34m\u001b[0m\u001b[0;34m\u001b[0m\u001b[0m\n\u001b[1;32m    341\u001b[0m             \u001b[0mscale\u001b[0m\u001b[0;34m=\u001b[0m\u001b[0mscale\u001b[0m\u001b[0;34m,\u001b[0m\u001b[0;34m\u001b[0m\u001b[0;34m\u001b[0m\u001b[0m\n",
      "\u001b[0;32m~/.local/lib/python3.9/site-packages/qiskit/visualization/circuit/circuit_visualization.py\u001b[0m in \u001b[0;36m_matplotlib_circuit_drawer\u001b[0;34m(circuit, scale, filename, style, plot_barriers, reverse_bits, justify, idle_wires, with_layout, fold, ax, initial_state, cregbundle, wire_order, expr_len)\u001b[0m\n\u001b[1;32m    717\u001b[0m         \u001b[0mfold\u001b[0m \u001b[0;34m=\u001b[0m \u001b[0;36m25\u001b[0m\u001b[0;34m\u001b[0m\u001b[0;34m\u001b[0m\u001b[0m\n\u001b[1;32m    718\u001b[0m \u001b[0;34m\u001b[0m\u001b[0m\n\u001b[0;32m--> 719\u001b[0;31m     qcd = _matplotlib.MatplotlibDrawer(\n\u001b[0m\u001b[1;32m    720\u001b[0m         \u001b[0mqubits\u001b[0m\u001b[0;34m,\u001b[0m\u001b[0;34m\u001b[0m\u001b[0;34m\u001b[0m\u001b[0m\n\u001b[1;32m    721\u001b[0m         \u001b[0mclbits\u001b[0m\u001b[0;34m,\u001b[0m\u001b[0;34m\u001b[0m\u001b[0;34m\u001b[0m\u001b[0m\n",
      "\u001b[0;32m~/.local/lib/python3.9/site-packages/qiskit/utils/classtools.py\u001b[0m in \u001b[0;36mout\u001b[0;34m(*args, **kwargs)\u001b[0m\n\u001b[1;32m    109\u001b[0m         \u001b[0;32mdef\u001b[0m \u001b[0mout\u001b[0m\u001b[0;34m(\u001b[0m\u001b[0;34m*\u001b[0m\u001b[0margs\u001b[0m\u001b[0;34m,\u001b[0m \u001b[0;34m**\u001b[0m\u001b[0mkwargs\u001b[0m\u001b[0;34m)\u001b[0m\u001b[0;34m:\u001b[0m\u001b[0;34m\u001b[0m\u001b[0;34m\u001b[0m\u001b[0m\n\u001b[1;32m    110\u001b[0m             \u001b[0;32mfor\u001b[0m \u001b[0mcallback\u001b[0m \u001b[0;32min\u001b[0m \u001b[0mself\u001b[0m\u001b[0;34m.\u001b[0m\u001b[0m_before\u001b[0m\u001b[0;34m:\u001b[0m\u001b[0;34m\u001b[0m\u001b[0;34m\u001b[0m\u001b[0m\n\u001b[0;32m--> 111\u001b[0;31m                 \u001b[0mcallback\u001b[0m\u001b[0;34m.\u001b[0m\u001b[0m__get__\u001b[0m\u001b[0;34m(\u001b[0m\u001b[0mobj\u001b[0m\u001b[0;34m,\u001b[0m \u001b[0mobjtype\u001b[0m\u001b[0;34m)\u001b[0m\u001b[0;34m(\u001b[0m\u001b[0;34m*\u001b[0m\u001b[0margs\u001b[0m\u001b[0;34m,\u001b[0m \u001b[0;34m**\u001b[0m\u001b[0mkwargs\u001b[0m\u001b[0;34m)\u001b[0m\u001b[0;34m\u001b[0m\u001b[0;34m\u001b[0m\u001b[0m\n\u001b[0m\u001b[1;32m    112\u001b[0m             \u001b[0mretval\u001b[0m \u001b[0;34m=\u001b[0m \u001b[0mmethod\u001b[0m\u001b[0;34m(\u001b[0m\u001b[0;34m*\u001b[0m\u001b[0margs\u001b[0m\u001b[0;34m,\u001b[0m \u001b[0;34m**\u001b[0m\u001b[0mkwargs\u001b[0m\u001b[0;34m)\u001b[0m\u001b[0;34m\u001b[0m\u001b[0;34m\u001b[0m\u001b[0m\n\u001b[1;32m    113\u001b[0m             \u001b[0;32mfor\u001b[0m \u001b[0mcallback\u001b[0m \u001b[0;32min\u001b[0m \u001b[0mself\u001b[0m\u001b[0;34m.\u001b[0m\u001b[0m_after\u001b[0m\u001b[0;34m:\u001b[0m\u001b[0;34m\u001b[0m\u001b[0;34m\u001b[0m\u001b[0m\n",
      "\u001b[0;32m~/.local/lib/python3.9/site-packages/qiskit/utils/lazy_tester.py\u001b[0m in \u001b[0;36m__call__\u001b[0;34m(self, *_args, **_kwargs)\u001b[0m\n\u001b[1;32m     39\u001b[0m \u001b[0;34m\u001b[0m\u001b[0m\n\u001b[1;32m     40\u001b[0m     \u001b[0;32mdef\u001b[0m \u001b[0m__call__\u001b[0m\u001b[0;34m(\u001b[0m\u001b[0mself\u001b[0m\u001b[0;34m,\u001b[0m \u001b[0;34m*\u001b[0m\u001b[0m_args\u001b[0m\u001b[0;34m,\u001b[0m \u001b[0;34m**\u001b[0m\u001b[0m_kwargs\u001b[0m\u001b[0;34m)\u001b[0m\u001b[0;34m:\u001b[0m\u001b[0;34m\u001b[0m\u001b[0;34m\u001b[0m\u001b[0m\n\u001b[0;32m---> 41\u001b[0;31m         \u001b[0mself\u001b[0m\u001b[0;34m.\u001b[0m\u001b[0m_tester\u001b[0m\u001b[0;34m.\u001b[0m\u001b[0mrequire_now\u001b[0m\u001b[0;34m(\u001b[0m\u001b[0mself\u001b[0m\u001b[0;34m.\u001b[0m\u001b[0m_feature\u001b[0m\u001b[0;34m)\u001b[0m\u001b[0;34m\u001b[0m\u001b[0;34m\u001b[0m\u001b[0m\n\u001b[0m\u001b[1;32m     42\u001b[0m \u001b[0;34m\u001b[0m\u001b[0m\n\u001b[1;32m     43\u001b[0m \u001b[0;34m\u001b[0m\u001b[0m\n",
      "\u001b[0;32m~/.local/lib/python3.9/site-packages/qiskit/utils/lazy_tester.py\u001b[0m in \u001b[0;36mrequire_now\u001b[0;34m(self, feature)\u001b[0m\n\u001b[1;32m    219\u001b[0m         \u001b[0;32mif\u001b[0m \u001b[0mself\u001b[0m\u001b[0;34m:\u001b[0m\u001b[0;34m\u001b[0m\u001b[0;34m\u001b[0m\u001b[0m\n\u001b[1;32m    220\u001b[0m             \u001b[0;32mreturn\u001b[0m\u001b[0;34m\u001b[0m\u001b[0;34m\u001b[0m\u001b[0m\n\u001b[0;32m--> 221\u001b[0;31m         raise MissingOptionalLibraryError(\n\u001b[0m\u001b[1;32m    222\u001b[0m             \u001b[0mlibname\u001b[0m\u001b[0;34m=\u001b[0m\u001b[0mself\u001b[0m\u001b[0;34m.\u001b[0m\u001b[0m_name\u001b[0m\u001b[0;34m,\u001b[0m \u001b[0mname\u001b[0m\u001b[0;34m=\u001b[0m\u001b[0mfeature\u001b[0m\u001b[0;34m,\u001b[0m \u001b[0mpip_install\u001b[0m\u001b[0;34m=\u001b[0m\u001b[0mself\u001b[0m\u001b[0;34m.\u001b[0m\u001b[0m_install\u001b[0m\u001b[0;34m,\u001b[0m \u001b[0mmsg\u001b[0m\u001b[0;34m=\u001b[0m\u001b[0mself\u001b[0m\u001b[0;34m.\u001b[0m\u001b[0m_msg\u001b[0m\u001b[0;34m\u001b[0m\u001b[0;34m\u001b[0m\u001b[0m\n\u001b[1;32m    223\u001b[0m         )\n",
      "\u001b[0;31mMissingOptionalLibraryError\u001b[0m: \"The 'pylatexenc' library is required to use 'MatplotlibDrawer'. You can install it with 'pip install pylatexenc'.\""
     ]
    }
   ],
   "source": [
    "\n",
    "qc_basis = transpile(c, backend)\n",
    "qc_basis.draw(output=\"mpl\",idle_wires=False)"
   ]
  },
  {
   "cell_type": "code",
   "execution_count": 8,
   "id": "870095cb",
   "metadata": {},
   "outputs": [
    {
     "ename": "MissingOptionalLibraryError",
     "evalue": "\"The 'pylatexenc' library is required to use 'MatplotlibDrawer'. You can install it with 'pip install pylatexenc'.\"",
     "output_type": "error",
     "traceback": [
      "\u001b[0;31m---------------------------------------------------------------------------\u001b[0m",
      "\u001b[0;31mMissingOptionalLibraryError\u001b[0m               Traceback (most recent call last)",
      "\u001b[0;32m/tmp/ipykernel_2593181/4243496697.py\u001b[0m in \u001b[0;36m<module>\u001b[0;34m\u001b[0m\n\u001b[1;32m      1\u001b[0m \u001b[0mqd_basis\u001b[0m \u001b[0;34m=\u001b[0m \u001b[0mtranspile\u001b[0m\u001b[0;34m(\u001b[0m\u001b[0md\u001b[0m\u001b[0;34m,\u001b[0m \u001b[0mbackend\u001b[0m\u001b[0;34m)\u001b[0m\u001b[0;34m\u001b[0m\u001b[0;34m\u001b[0m\u001b[0m\n\u001b[0;32m----> 2\u001b[0;31m \u001b[0mqd_basis\u001b[0m\u001b[0;34m.\u001b[0m\u001b[0mdraw\u001b[0m\u001b[0;34m(\u001b[0m\u001b[0moutput\u001b[0m\u001b[0;34m=\u001b[0m\u001b[0;34m\"mpl\"\u001b[0m\u001b[0;34m,\u001b[0m\u001b[0midle_wires\u001b[0m\u001b[0;34m=\u001b[0m\u001b[0;32mFalse\u001b[0m\u001b[0;34m)\u001b[0m\u001b[0;34m\u001b[0m\u001b[0;34m\u001b[0m\u001b[0m\n\u001b[0m",
      "\u001b[0;32m~/.local/lib/python3.9/site-packages/qiskit/circuit/quantumcircuit.py\u001b[0m in \u001b[0;36mdraw\u001b[0;34m(self, output, scale, filename, style, interactive, plot_barriers, reverse_bits, justify, vertical_compression, idle_wires, with_layout, fold, ax, initial_state, cregbundle, wire_order, expr_len)\u001b[0m\n\u001b[1;32m   3798\u001b[0m         \u001b[0;32mfrom\u001b[0m \u001b[0mqiskit\u001b[0m\u001b[0;34m.\u001b[0m\u001b[0mvisualization\u001b[0m \u001b[0;32mimport\u001b[0m \u001b[0mcircuit_drawer\u001b[0m\u001b[0;34m\u001b[0m\u001b[0;34m\u001b[0m\u001b[0m\n\u001b[1;32m   3799\u001b[0m \u001b[0;34m\u001b[0m\u001b[0m\n\u001b[0;32m-> 3800\u001b[0;31m         return circuit_drawer(\n\u001b[0m\u001b[1;32m   3801\u001b[0m             \u001b[0mself\u001b[0m\u001b[0;34m,\u001b[0m\u001b[0;34m\u001b[0m\u001b[0;34m\u001b[0m\u001b[0m\n\u001b[1;32m   3802\u001b[0m             \u001b[0mscale\u001b[0m\u001b[0;34m=\u001b[0m\u001b[0mscale\u001b[0m\u001b[0;34m,\u001b[0m\u001b[0;34m\u001b[0m\u001b[0;34m\u001b[0m\u001b[0m\n",
      "\u001b[0;32m~/.local/lib/python3.9/site-packages/qiskit/visualization/circuit/circuit_visualization.py\u001b[0m in \u001b[0;36mcircuit_drawer\u001b[0;34m(circuit, scale, filename, style, output, interactive, plot_barriers, reverse_bits, justify, vertical_compression, idle_wires, with_layout, fold, ax, initial_state, cregbundle, wire_order, expr_len)\u001b[0m\n\u001b[1;32m    337\u001b[0m         )\n\u001b[1;32m    338\u001b[0m     \u001b[0;32melif\u001b[0m \u001b[0moutput\u001b[0m \u001b[0;34m==\u001b[0m \u001b[0;34m\"mpl\"\u001b[0m\u001b[0;34m:\u001b[0m\u001b[0;34m\u001b[0m\u001b[0;34m\u001b[0m\u001b[0m\n\u001b[0;32m--> 339\u001b[0;31m         image = _matplotlib_circuit_drawer(\n\u001b[0m\u001b[1;32m    340\u001b[0m             \u001b[0mcircuit\u001b[0m\u001b[0;34m,\u001b[0m\u001b[0;34m\u001b[0m\u001b[0;34m\u001b[0m\u001b[0m\n\u001b[1;32m    341\u001b[0m             \u001b[0mscale\u001b[0m\u001b[0;34m=\u001b[0m\u001b[0mscale\u001b[0m\u001b[0;34m,\u001b[0m\u001b[0;34m\u001b[0m\u001b[0;34m\u001b[0m\u001b[0m\n",
      "\u001b[0;32m~/.local/lib/python3.9/site-packages/qiskit/visualization/circuit/circuit_visualization.py\u001b[0m in \u001b[0;36m_matplotlib_circuit_drawer\u001b[0;34m(circuit, scale, filename, style, plot_barriers, reverse_bits, justify, idle_wires, with_layout, fold, ax, initial_state, cregbundle, wire_order, expr_len)\u001b[0m\n\u001b[1;32m    717\u001b[0m         \u001b[0mfold\u001b[0m \u001b[0;34m=\u001b[0m \u001b[0;36m25\u001b[0m\u001b[0;34m\u001b[0m\u001b[0;34m\u001b[0m\u001b[0m\n\u001b[1;32m    718\u001b[0m \u001b[0;34m\u001b[0m\u001b[0m\n\u001b[0;32m--> 719\u001b[0;31m     qcd = _matplotlib.MatplotlibDrawer(\n\u001b[0m\u001b[1;32m    720\u001b[0m         \u001b[0mqubits\u001b[0m\u001b[0;34m,\u001b[0m\u001b[0;34m\u001b[0m\u001b[0;34m\u001b[0m\u001b[0m\n\u001b[1;32m    721\u001b[0m         \u001b[0mclbits\u001b[0m\u001b[0;34m,\u001b[0m\u001b[0;34m\u001b[0m\u001b[0;34m\u001b[0m\u001b[0m\n",
      "\u001b[0;32m~/.local/lib/python3.9/site-packages/qiskit/utils/classtools.py\u001b[0m in \u001b[0;36mout\u001b[0;34m(*args, **kwargs)\u001b[0m\n\u001b[1;32m    109\u001b[0m         \u001b[0;32mdef\u001b[0m \u001b[0mout\u001b[0m\u001b[0;34m(\u001b[0m\u001b[0;34m*\u001b[0m\u001b[0margs\u001b[0m\u001b[0;34m,\u001b[0m \u001b[0;34m**\u001b[0m\u001b[0mkwargs\u001b[0m\u001b[0;34m)\u001b[0m\u001b[0;34m:\u001b[0m\u001b[0;34m\u001b[0m\u001b[0;34m\u001b[0m\u001b[0m\n\u001b[1;32m    110\u001b[0m             \u001b[0;32mfor\u001b[0m \u001b[0mcallback\u001b[0m \u001b[0;32min\u001b[0m \u001b[0mself\u001b[0m\u001b[0;34m.\u001b[0m\u001b[0m_before\u001b[0m\u001b[0;34m:\u001b[0m\u001b[0;34m\u001b[0m\u001b[0;34m\u001b[0m\u001b[0m\n\u001b[0;32m--> 111\u001b[0;31m                 \u001b[0mcallback\u001b[0m\u001b[0;34m.\u001b[0m\u001b[0m__get__\u001b[0m\u001b[0;34m(\u001b[0m\u001b[0mobj\u001b[0m\u001b[0;34m,\u001b[0m \u001b[0mobjtype\u001b[0m\u001b[0;34m)\u001b[0m\u001b[0;34m(\u001b[0m\u001b[0;34m*\u001b[0m\u001b[0margs\u001b[0m\u001b[0;34m,\u001b[0m \u001b[0;34m**\u001b[0m\u001b[0mkwargs\u001b[0m\u001b[0;34m)\u001b[0m\u001b[0;34m\u001b[0m\u001b[0;34m\u001b[0m\u001b[0m\n\u001b[0m\u001b[1;32m    112\u001b[0m             \u001b[0mretval\u001b[0m \u001b[0;34m=\u001b[0m \u001b[0mmethod\u001b[0m\u001b[0;34m(\u001b[0m\u001b[0;34m*\u001b[0m\u001b[0margs\u001b[0m\u001b[0;34m,\u001b[0m \u001b[0;34m**\u001b[0m\u001b[0mkwargs\u001b[0m\u001b[0;34m)\u001b[0m\u001b[0;34m\u001b[0m\u001b[0;34m\u001b[0m\u001b[0m\n\u001b[1;32m    113\u001b[0m             \u001b[0;32mfor\u001b[0m \u001b[0mcallback\u001b[0m \u001b[0;32min\u001b[0m \u001b[0mself\u001b[0m\u001b[0;34m.\u001b[0m\u001b[0m_after\u001b[0m\u001b[0;34m:\u001b[0m\u001b[0;34m\u001b[0m\u001b[0;34m\u001b[0m\u001b[0m\n",
      "\u001b[0;32m~/.local/lib/python3.9/site-packages/qiskit/utils/lazy_tester.py\u001b[0m in \u001b[0;36m__call__\u001b[0;34m(self, *_args, **_kwargs)\u001b[0m\n\u001b[1;32m     39\u001b[0m \u001b[0;34m\u001b[0m\u001b[0m\n\u001b[1;32m     40\u001b[0m     \u001b[0;32mdef\u001b[0m \u001b[0m__call__\u001b[0m\u001b[0;34m(\u001b[0m\u001b[0mself\u001b[0m\u001b[0;34m,\u001b[0m \u001b[0;34m*\u001b[0m\u001b[0m_args\u001b[0m\u001b[0;34m,\u001b[0m \u001b[0;34m**\u001b[0m\u001b[0m_kwargs\u001b[0m\u001b[0;34m)\u001b[0m\u001b[0;34m:\u001b[0m\u001b[0;34m\u001b[0m\u001b[0;34m\u001b[0m\u001b[0m\n\u001b[0;32m---> 41\u001b[0;31m         \u001b[0mself\u001b[0m\u001b[0;34m.\u001b[0m\u001b[0m_tester\u001b[0m\u001b[0;34m.\u001b[0m\u001b[0mrequire_now\u001b[0m\u001b[0;34m(\u001b[0m\u001b[0mself\u001b[0m\u001b[0;34m.\u001b[0m\u001b[0m_feature\u001b[0m\u001b[0;34m)\u001b[0m\u001b[0;34m\u001b[0m\u001b[0;34m\u001b[0m\u001b[0m\n\u001b[0m\u001b[1;32m     42\u001b[0m \u001b[0;34m\u001b[0m\u001b[0m\n\u001b[1;32m     43\u001b[0m \u001b[0;34m\u001b[0m\u001b[0m\n",
      "\u001b[0;32m~/.local/lib/python3.9/site-packages/qiskit/utils/lazy_tester.py\u001b[0m in \u001b[0;36mrequire_now\u001b[0;34m(self, feature)\u001b[0m\n\u001b[1;32m    219\u001b[0m         \u001b[0;32mif\u001b[0m \u001b[0mself\u001b[0m\u001b[0;34m:\u001b[0m\u001b[0;34m\u001b[0m\u001b[0;34m\u001b[0m\u001b[0m\n\u001b[1;32m    220\u001b[0m             \u001b[0;32mreturn\u001b[0m\u001b[0;34m\u001b[0m\u001b[0;34m\u001b[0m\u001b[0m\n\u001b[0;32m--> 221\u001b[0;31m         raise MissingOptionalLibraryError(\n\u001b[0m\u001b[1;32m    222\u001b[0m             \u001b[0mlibname\u001b[0m\u001b[0;34m=\u001b[0m\u001b[0mself\u001b[0m\u001b[0;34m.\u001b[0m\u001b[0m_name\u001b[0m\u001b[0;34m,\u001b[0m \u001b[0mname\u001b[0m\u001b[0;34m=\u001b[0m\u001b[0mfeature\u001b[0m\u001b[0;34m,\u001b[0m \u001b[0mpip_install\u001b[0m\u001b[0;34m=\u001b[0m\u001b[0mself\u001b[0m\u001b[0;34m.\u001b[0m\u001b[0m_install\u001b[0m\u001b[0;34m,\u001b[0m \u001b[0mmsg\u001b[0m\u001b[0;34m=\u001b[0m\u001b[0mself\u001b[0m\u001b[0;34m.\u001b[0m\u001b[0m_msg\u001b[0m\u001b[0;34m\u001b[0m\u001b[0;34m\u001b[0m\u001b[0m\n\u001b[1;32m    223\u001b[0m         )\n",
      "\u001b[0;31mMissingOptionalLibraryError\u001b[0m: \"The 'pylatexenc' library is required to use 'MatplotlibDrawer'. You can install it with 'pip install pylatexenc'.\""
     ]
    }
   ],
   "source": [
    "qd_basis = transpile(d, backend)\n",
    "qd_basis.draw(output=\"mpl\",idle_wires=False)"
   ]
  },
  {
   "cell_type": "markdown",
   "id": "6a93a40e",
   "metadata": {},
   "source": [
    "# These cells only work if executed on Qmio infrastructure"
   ]
  },
  {
   "cell_type": "code",
   "execution_count": 9,
   "id": "25df10d5",
   "metadata": {},
   "outputs": [
    {
     "name": "stdout",
     "output_type": "stream",
     "text": [
      "2025-05-27 19:02:23,882 - QmioBackend/0.2.0 - INFO - Requested parameters: Shots 10000 - memory False - Repetition_period None - Res_format binary_count\n"
     ]
    },
    {
     "name": "stderr",
     "output_type": "stream",
     "text": [
      "2025-05-27 19:02:23,882 - QmioBackend/0.2.0 - INFO - Requested parameters: Shots 10000 - memory False - Repetition_period None - Res_format binary_count\n"
     ]
    },
    {
     "name": "stdout",
     "output_type": "stream",
     "text": [
      "2025-05-27 19:02:23,885 - QmioBackend/0.2.0 - DEBUG - Starting backend\n"
     ]
    },
    {
     "name": "stderr",
     "output_type": "stream",
     "text": [
      "2025-05-27 19:02:23,885 - QmioBackend/0.2.0 - DEBUG - Starting backend\n"
     ]
    },
    {
     "name": "stdout",
     "output_type": "stream",
     "text": [
      "2025-05-27 19:02:23,887 - QmioBackend/0.2.0 - DEBUG - Connecting backend\n"
     ]
    },
    {
     "name": "stderr",
     "output_type": "stream",
     "text": [
      "2025-05-27 19:02:23,887 - QmioBackend/0.2.0 - DEBUG - Connecting backend\n"
     ]
    },
    {
     "name": "stdout",
     "output_type": "stream",
     "text": [
      "2025-05-27 19:02:23,888 - QmioBackend/0.2.0 - INFO - Connecting with parameters - reservation_name None - tunnel_time_limit None\n"
     ]
    },
    {
     "name": "stderr",
     "output_type": "stream",
     "text": [
      "2025-05-27 19:02:23,888 - QmioBackend/0.2.0 - INFO - Connecting with parameters - reservation_name None - tunnel_time_limit None\n"
     ]
    },
    {
     "name": "stdout",
     "output_type": "stream",
     "text": [
      "\n",
      "2025-05-27 19:02:24,609 - QmioBackend/0.2.0 - DEBUG - Job id 29e95f3e-1398-48fb-a0d6-47b56ef002a9\n"
     ]
    },
    {
     "name": "stderr",
     "output_type": "stream",
     "text": [
      "2025-05-27 19:02:24,609 - QmioBackend/0.2.0 - DEBUG - Job id 29e95f3e-1398-48fb-a0d6-47b56ef002a9\n"
     ]
    },
    {
     "name": "stdout",
     "output_type": "stream",
     "text": [
      "2025-05-27 19:02:24,612 - QmioBackend/0.2.0 - DEBUG - Converting to OPENQASM 2.0\n"
     ]
    },
    {
     "name": "stderr",
     "output_type": "stream",
     "text": [
      "2025-05-27 19:02:24,612 - QmioBackend/0.2.0 - DEBUG - Converting to OPENQASM 2.0\n"
     ]
    },
    {
     "name": "stdout",
     "output_type": "stream",
     "text": [
      "2025-05-27 19:02:24,614 - QmioBackend/0.2.0 - DEBUG - Circuit to transform:\n",
      "OPENQASM 2.0;\n",
      "include \"qelib1.inc\";\n",
      "qreg q[2];\n",
      "creg meas[2];\n",
      "h q[0];\n",
      "cx q[0],q[1];\n",
      "barrier q[0],q[1];\n",
      "measure q[0] -> meas[0];\n",
      "measure q[1] -> meas[1];\n"
     ]
    },
    {
     "name": "stderr",
     "output_type": "stream",
     "text": [
      "2025-05-27 19:02:24,614 - QmioBackend/0.2.0 - DEBUG - Circuit to transform:\n",
      "OPENQASM 2.0;\n",
      "include \"qelib1.inc\";\n",
      "qreg q[2];\n",
      "creg meas[2];\n",
      "h q[0];\n",
      "cx q[0],q[1];\n",
      "barrier q[0],q[1];\n",
      "measure q[0] -> meas[0];\n",
      "measure q[1] -> meas[1];\n"
     ]
    },
    {
     "name": "stdout",
     "output_type": "stream",
     "text": [
      "2025-05-27 19:02:24,616 - QmioBackend/0.2.0 - INFO - QASM to execute OPENQASM 2.0;include \"qelib1.inc\";qreg q[2];creg meas[2];h q[0];cx q[0],q[1];barrier q[0],q[1];measure q[0] -> meas[0];measure q[1] -> meas[1];\n"
     ]
    },
    {
     "name": "stderr",
     "output_type": "stream",
     "text": [
      "2025-05-27 19:02:24,616 - QmioBackend/0.2.0 - INFO - QASM to execute OPENQASM 2.0;include \"qelib1.inc\";qreg q[2];creg meas[2];h q[0];cx q[0],q[1];barrier q[0],q[1];measure q[0] -> meas[0];measure q[1] -> meas[1];\n"
     ]
    },
    {
     "name": "stdout",
     "output_type": "stream",
     "text": [
      "2025-05-27 19:02:24,618 - QmioBackend/0.2.0 - INFO - Requesting SHOTS=10000\n"
     ]
    },
    {
     "name": "stderr",
     "output_type": "stream",
     "text": [
      "2025-05-27 19:02:24,618 - QmioBackend/0.2.0 - INFO - Requesting SHOTS=10000\n"
     ]
    },
    {
     "name": "stdout",
     "output_type": "stream",
     "text": [
      "2025-05-27 19:02:30,450 - QmioBackend/0.2.0 - DEBUG - Results:{'results': {'meas': {'10': 1052, '11': 4083, '01': 622, '00': 4243}}, 'execution_metrics': {'optimized_circuit': 'OPENQASM 2.0;include \"qelib1.inc\";qreg q[2];creg meas[2];h q[0];cx q[0],q[1];barrier q[0],q[1];measure q[0] -> meas[0];measure q[1] -> meas[1];', 'optimized_instruction_count': 38}}\n"
     ]
    },
    {
     "name": "stderr",
     "output_type": "stream",
     "text": [
      "2025-05-27 19:02:30,450 - QmioBackend/0.2.0 - DEBUG - Results:{'results': {'meas': {'10': 1052, '11': 4083, '01': 622, '00': 4243}}, 'execution_metrics': {'optimized_circuit': 'OPENQASM 2.0;include \"qelib1.inc\";qreg q[2];creg meas[2];h q[0];cx q[0],q[1];barrier q[0],q[1];measure q[0] -> meas[0];measure q[1] -> meas[1];', 'optimized_instruction_count': 38}}\n"
     ]
    },
    {
     "name": "stdout",
     "output_type": "stream",
     "text": [
      "2025-05-27 19:02:30,452 - QmioBackend/0.2.0 - DEBUG - Retorno counts: {'0x1': 1052, '0x3': 4083, '0x2': 622, '0x0': 4243}\n"
     ]
    },
    {
     "name": "stderr",
     "output_type": "stream",
     "text": [
      "2025-05-27 19:02:30,452 - QmioBackend/0.2.0 - DEBUG - Retorno counts: {'0x1': 1052, '0x3': 4083, '0x2': 622, '0x0': 4243}\n"
     ]
    },
    {
     "name": "stdout",
     "output_type": "stream",
     "text": [
      "2025-05-27 19:02:30,454 - QmioBackend/0.2.0 - DEBUG - Returning memory: []\n"
     ]
    },
    {
     "name": "stderr",
     "output_type": "stream",
     "text": [
      "2025-05-27 19:02:30,454 - QmioBackend/0.2.0 - DEBUG - Returning memory: []\n"
     ]
    },
    {
     "name": "stdout",
     "output_type": "stream",
     "text": [
      "2025-05-27 19:02:30,455 - QmioBackend/0.2.0 - DEBUG - Converting to OPENQASM 2.0\n"
     ]
    },
    {
     "name": "stderr",
     "output_type": "stream",
     "text": [
      "2025-05-27 19:02:30,455 - QmioBackend/0.2.0 - DEBUG - Converting to OPENQASM 2.0\n"
     ]
    },
    {
     "name": "stdout",
     "output_type": "stream",
     "text": [
      "2025-05-27 19:02:30,456 - QmioBackend/0.2.0 - DEBUG - Circuit to transform:\n",
      "OPENQASM 2.0;\n",
      "include \"qelib1.inc\";\n",
      "qreg q[2];\n",
      "creg meas[2];\n",
      "h q[0];\n",
      "cx q[0],q[1];\n",
      "barrier q[0],q[1];\n",
      "measure q[0] -> meas[0];\n",
      "measure q[1] -> meas[1];\n"
     ]
    },
    {
     "name": "stderr",
     "output_type": "stream",
     "text": [
      "2025-05-27 19:02:30,456 - QmioBackend/0.2.0 - DEBUG - Circuit to transform:\n",
      "OPENQASM 2.0;\n",
      "include \"qelib1.inc\";\n",
      "qreg q[2];\n",
      "creg meas[2];\n",
      "h q[0];\n",
      "cx q[0],q[1];\n",
      "barrier q[0],q[1];\n",
      "measure q[0] -> meas[0];\n",
      "measure q[1] -> meas[1];\n"
     ]
    },
    {
     "name": "stdout",
     "output_type": "stream",
     "text": [
      "2025-05-27 19:02:30,457 - QmioBackend/0.2.0 - INFO - QASM to execute OPENQASM 2.0;include \"qelib1.inc\";qreg q[2];creg meas[2];h q[0];cx q[0],q[1];barrier q[0],q[1];measure q[0] -> meas[0];measure q[1] -> meas[1];\n"
     ]
    },
    {
     "name": "stderr",
     "output_type": "stream",
     "text": [
      "2025-05-27 19:02:30,457 - QmioBackend/0.2.0 - INFO - QASM to execute OPENQASM 2.0;include \"qelib1.inc\";qreg q[2];creg meas[2];h q[0];cx q[0],q[1];barrier q[0],q[1];measure q[0] -> meas[0];measure q[1] -> meas[1];\n"
     ]
    },
    {
     "name": "stdout",
     "output_type": "stream",
     "text": [
      "2025-05-27 19:02:30,457 - QmioBackend/0.2.0 - INFO - Requesting SHOTS=10000\n"
     ]
    },
    {
     "name": "stderr",
     "output_type": "stream",
     "text": [
      "2025-05-27 19:02:30,457 - QmioBackend/0.2.0 - INFO - Requesting SHOTS=10000\n"
     ]
    },
    {
     "name": "stdout",
     "output_type": "stream",
     "text": [
      "2025-05-27 19:02:36,304 - QmioBackend/0.2.0 - DEBUG - Results:{'results': {'meas': {'10': 1081, '01': 601, '00': 4175, '11': 4143}}, 'execution_metrics': {'optimized_circuit': 'OPENQASM 2.0;include \"qelib1.inc\";qreg q[2];creg meas[2];h q[0];cx q[0],q[1];barrier q[0],q[1];measure q[0] -> meas[0];measure q[1] -> meas[1];', 'optimized_instruction_count': 38}}\n"
     ]
    },
    {
     "name": "stderr",
     "output_type": "stream",
     "text": [
      "2025-05-27 19:02:36,304 - QmioBackend/0.2.0 - DEBUG - Results:{'results': {'meas': {'10': 1081, '01': 601, '00': 4175, '11': 4143}}, 'execution_metrics': {'optimized_circuit': 'OPENQASM 2.0;include \"qelib1.inc\";qreg q[2];creg meas[2];h q[0];cx q[0],q[1];barrier q[0],q[1];measure q[0] -> meas[0];measure q[1] -> meas[1];', 'optimized_instruction_count': 38}}\n"
     ]
    },
    {
     "name": "stdout",
     "output_type": "stream",
     "text": [
      "2025-05-27 19:02:36,307 - QmioBackend/0.2.0 - DEBUG - Retorno counts: {'0x1': 1081, '0x2': 601, '0x0': 4175, '0x3': 4143}\n"
     ]
    },
    {
     "name": "stderr",
     "output_type": "stream",
     "text": [
      "2025-05-27 19:02:36,307 - QmioBackend/0.2.0 - DEBUG - Retorno counts: {'0x1': 1081, '0x2': 601, '0x0': 4175, '0x3': 4143}\n"
     ]
    },
    {
     "name": "stdout",
     "output_type": "stream",
     "text": [
      "2025-05-27 19:02:36,308 - QmioBackend/0.2.0 - DEBUG - Returning memory: []\n"
     ]
    },
    {
     "name": "stderr",
     "output_type": "stream",
     "text": [
      "2025-05-27 19:02:36,308 - QmioBackend/0.2.0 - DEBUG - Returning memory: []\n"
     ]
    },
    {
     "name": "stdout",
     "output_type": "stream",
     "text": [
      "2025-05-27 19:02:36,309 - QmioBackend/0.2.0 - DEBUG - Final Results returned: {'backend_name': 'Qmio', 'backend_version': '0.2.0', 'qobj_id': None, 'job_id': UUID('29e95f3e-1398-48fb-a0d6-47b56ef002a9'), 'success': True, 'results': [{'shots': 10000, 'success': True, 'header': {'name': 'circuit-162', 'creg_sizes': [['meas', 2]], 'memory_slots': 2, 'n_qubits': 2, 'qreg_sizes': [['q', 2]], 'metadata': {'execution_metrics': {'optimized_circuit': 'OPENQASM 2.0;include \"qelib1.inc\";qreg q[2];creg meas[2];h q[0];cx q[0],q[1];barrier q[0],q[1];measure q[0] -> meas[0];measure q[1] -> meas[1];', 'optimized_instruction_count': 38}, 'repetition_period': None, 'res_format': 'binary_count'}}, 'data': {'counts': {'0x1': 1052, '0x3': 4083, '0x2': 622, '0x0': 4243}, 'metadata': {'execution_metrics': {'optimized_circuit': 'OPENQASM 2.0;include \"qelib1.inc\";qreg q[2];creg meas[2];h q[0];cx q[0],q[1];barrier q[0],q[1];measure q[0] -> meas[0];measure q[1] -> meas[1];', 'optimized_instruction_count': 38}, 'repetition_period': None, 'res_format': 'binary_count'}}}, {'shots': 10000, 'success': True, 'header': {'name': 'Copy', 'creg_sizes': [['meas', 2]], 'memory_slots': 2, 'n_qubits': 2, 'qreg_sizes': [['q', 2]], 'metadata': {'execution_metrics': {'optimized_circuit': 'OPENQASM 2.0;include \"qelib1.inc\";qreg q[2];creg meas[2];h q[0];cx q[0],q[1];barrier q[0],q[1];measure q[0] -> meas[0];measure q[1] -> meas[1];', 'optimized_instruction_count': 38}, 'repetition_period': None, 'res_format': 'binary_count'}}, 'data': {'counts': {'0x1': 1081, '0x2': 601, '0x0': 4175, '0x3': 4143}, 'metadata': {'execution_metrics': {'optimized_circuit': 'OPENQASM 2.0;include \"qelib1.inc\";qreg q[2];creg meas[2];h q[0];cx q[0],q[1];barrier q[0],q[1];measure q[0] -> meas[0];measure q[1] -> meas[1];', 'optimized_instruction_count': 38}, 'repetition_period': None, 'res_format': 'binary_count'}}}], 'date': '2025-05-27T19:02:36.309083'}\n"
     ]
    },
    {
     "name": "stderr",
     "output_type": "stream",
     "text": [
      "2025-05-27 19:02:36,309 - QmioBackend/0.2.0 - DEBUG - Final Results returned: {'backend_name': 'Qmio', 'backend_version': '0.2.0', 'qobj_id': None, 'job_id': UUID('29e95f3e-1398-48fb-a0d6-47b56ef002a9'), 'success': True, 'results': [{'shots': 10000, 'success': True, 'header': {'name': 'circuit-162', 'creg_sizes': [['meas', 2]], 'memory_slots': 2, 'n_qubits': 2, 'qreg_sizes': [['q', 2]], 'metadata': {'execution_metrics': {'optimized_circuit': 'OPENQASM 2.0;include \"qelib1.inc\";qreg q[2];creg meas[2];h q[0];cx q[0],q[1];barrier q[0],q[1];measure q[0] -> meas[0];measure q[1] -> meas[1];', 'optimized_instruction_count': 38}, 'repetition_period': None, 'res_format': 'binary_count'}}, 'data': {'counts': {'0x1': 1052, '0x3': 4083, '0x2': 622, '0x0': 4243}, 'metadata': {'execution_metrics': {'optimized_circuit': 'OPENQASM 2.0;include \"qelib1.inc\";qreg q[2];creg meas[2];h q[0];cx q[0],q[1];barrier q[0],q[1];measure q[0] -> meas[0];measure q[1] -> meas[1];', 'optimized_instruction_count': 38}, 'repetition_period': None, 'res_format': 'binary_count'}}}, {'shots': 10000, 'success': True, 'header': {'name': 'Copy', 'creg_sizes': [['meas', 2]], 'memory_slots': 2, 'n_qubits': 2, 'qreg_sizes': [['q', 2]], 'metadata': {'execution_metrics': {'optimized_circuit': 'OPENQASM 2.0;include \"qelib1.inc\";qreg q[2];creg meas[2];h q[0];cx q[0],q[1];barrier q[0],q[1];measure q[0] -> meas[0];measure q[1] -> meas[1];', 'optimized_instruction_count': 38}, 'repetition_period': None, 'res_format': 'binary_count'}}, 'data': {'counts': {'0x1': 1081, '0x2': 601, '0x0': 4175, '0x3': 4143}, 'metadata': {'execution_metrics': {'optimized_circuit': 'OPENQASM 2.0;include \"qelib1.inc\";qreg q[2];creg meas[2];h q[0];cx q[0],q[1];barrier q[0],q[1];measure q[0] -> meas[0];measure q[1] -> meas[1];', 'optimized_instruction_count': 38}, 'repetition_period': None, 'res_format': 'binary_count'}}}], 'date': '2025-05-27T19:02:36.309083'}\n"
     ]
    },
    {
     "data": {
      "image/png": "[encoded data removed]",
      "text/plain": [
       "<Figure size 432x288 with 1 Axes>"
      ]
     },
     "execution_count": 9,
     "metadata": {},
     "output_type": "execute_result"
    }
   ],
   "source": [
    "job=backend.run([c,d], shots=10000)\n",
    "job.result().get_counts(c)\n",
    "from qiskit.visualization import plot_histogram\n",
    "plot_histogram(job.result().get_counts(), title=\"Without Optimisation\")"
   ]
  },
  {
   "cell_type": "code",
   "execution_count": 10,
   "id": "d5307386",
   "metadata": {},
   "outputs": [
    {
     "name": "stdout",
     "output_type": "stream",
     "text": [
      "2025-05-27 19:02:57,876 - QmioBackend/0.2.0 - INFO - Requested parameters: Shots 10000 - memory False - Repetition_period None - Res_format binary_count\n"
     ]
    },
    {
     "name": "stderr",
     "output_type": "stream",
     "text": [
      "2025-05-27 19:02:57,876 - QmioBackend/0.2.0 - INFO - Requested parameters: Shots 10000 - memory False - Repetition_period None - Res_format binary_count\n"
     ]
    },
    {
     "name": "stdout",
     "output_type": "stream",
     "text": [
      "2025-05-27 19:02:57,880 - QmioBackend/0.2.0 - DEBUG - Job id 35e81b7b-d20a-426f-938a-5e96868f408b\n"
     ]
    },
    {
     "name": "stderr",
     "output_type": "stream",
     "text": [
      "2025-05-27 19:02:57,880 - QmioBackend/0.2.0 - DEBUG - Job id 35e81b7b-d20a-426f-938a-5e96868f408b\n"
     ]
    },
    {
     "name": "stdout",
     "output_type": "stream",
     "text": [
      "2025-05-27 19:02:57,883 - QmioBackend/0.2.0 - DEBUG - Converting to OPENQASM 2.0\n"
     ]
    },
    {
     "name": "stderr",
     "output_type": "stream",
     "text": [
      "2025-05-27 19:02:57,883 - QmioBackend/0.2.0 - DEBUG - Converting to OPENQASM 2.0\n"
     ]
    },
    {
     "name": "stdout",
     "output_type": "stream",
     "text": [
      "2025-05-27 19:03:05,633 - QmioBackend/0.2.0 - DEBUG - Circuit to transform:\n",
      "OPENQASM 2.0;\n",
      "include \"qelib1.inc\";\n",
      "gate rzx(param0) q0,q1 { h q1; cx q0,q1; rz(param0) q1; cx q0,q1; h q1; }\n",
      "gate ecr q0,q1 { rzx(pi/4) q0,q1; x q0; rzx(-pi/4) q0,q1; }\n",
      "qreg q[32];\n",
      "creg meas[2];\n",
      "rz(pi/2) q[19];\n",
      "sx q[19];\n",
      "rz(-1.8767149460460022) q[19];\n",
      "sx q[19];\n",
      "rz(pi/2) q[19];\n",
      "rz(pi/2) q[20];\n",
      "sx q[20];\n",
      "rz(-0.25863251635098905) q[20];\n",
      "ecr q[20],q[19];\n",
      "rz(pi/2) q[19];\n",
      "sx q[19];\n",
      "rz(-1.26487770754379) q[19];\n",
      "rz(1.3121638104439093) q[20];\n",
      "sx q[20];\n",
      "rz(-pi/2) q[20];\n",
      "barrier q[19],q[20];\n",
      "measure q[19] -> meas[0];\n",
      "measure q[20] -> meas[1];\n"
     ]
    },
    {
     "name": "stderr",
     "output_type": "stream",
     "text": [
      "2025-05-27 19:03:05,633 - QmioBackend/0.2.0 - DEBUG - Circuit to transform:\n",
      "OPENQASM 2.0;\n",
      "include \"qelib1.inc\";\n",
      "gate rzx(param0) q0,q1 { h q1; cx q0,q1; rz(param0) q1; cx q0,q1; h q1; }\n",
      "gate ecr q0,q1 { rzx(pi/4) q0,q1; x q0; rzx(-pi/4) q0,q1; }\n",
      "qreg q[32];\n",
      "creg meas[2];\n",
      "rz(pi/2) q[19];\n",
      "sx q[19];\n",
      "rz(-1.8767149460460022) q[19];\n",
      "sx q[19];\n",
      "rz(pi/2) q[19];\n",
      "rz(pi/2) q[20];\n",
      "sx q[20];\n",
      "rz(-0.25863251635098905) q[20];\n",
      "ecr q[20],q[19];\n",
      "rz(pi/2) q[19];\n",
      "sx q[19];\n",
      "rz(-1.26487770754379) q[19];\n",
      "rz(1.3121638104439093) q[20];\n",
      "sx q[20];\n",
      "rz(-pi/2) q[20];\n",
      "barrier q[19],q[20];\n",
      "measure q[19] -> meas[0];\n",
      "measure q[20] -> meas[1];\n"
     ]
    },
    {
     "name": "stdout",
     "output_type": "stream",
     "text": [
      "2025-05-27 19:03:05,636 - QmioBackend/0.2.0 - INFO - QASM to execute OPENQASM 2.0;include \"qelib1.inc\";gate ecr q0, q1 {};qreg q[32];creg meas[2];rz(pi/2) q[19];sx q[19];rz(-1.8767149460460022) q[19];sx q[19];rz(pi/2) q[19];rz(pi/2) q[20];sx q[20];rz(-0.25863251635098905) q[20];ecr q[20],q[19];rz(pi/2) q[19];sx q[19];rz(-1.26487770754379) q[19];rz(1.3121638104439093) q[20];sx q[20];rz(-pi/2) q[20];barrier q[19],q[20];measure q[19] -> meas[0];measure q[20] -> meas[1];\n"
     ]
    },
    {
     "name": "stderr",
     "output_type": "stream",
     "text": [
      "2025-05-27 19:03:05,636 - QmioBackend/0.2.0 - INFO - QASM to execute OPENQASM 2.0;include \"qelib1.inc\";gate ecr q0, q1 {};qreg q[32];creg meas[2];rz(pi/2) q[19];sx q[19];rz(-1.8767149460460022) q[19];sx q[19];rz(pi/2) q[19];rz(pi/2) q[20];sx q[20];rz(-0.25863251635098905) q[20];ecr q[20],q[19];rz(pi/2) q[19];sx q[19];rz(-1.26487770754379) q[19];rz(1.3121638104439093) q[20];sx q[20];rz(-pi/2) q[20];barrier q[19],q[20];measure q[19] -> meas[0];measure q[20] -> meas[1];\n"
     ]
    },
    {
     "name": "stdout",
     "output_type": "stream",
     "text": [
      "2025-05-27 19:03:05,637 - QmioBackend/0.2.0 - INFO - Requesting SHOTS=10000\n"
     ]
    },
    {
     "name": "stderr",
     "output_type": "stream",
     "text": [
      "2025-05-27 19:03:05,637 - QmioBackend/0.2.0 - INFO - Requesting SHOTS=10000\n"
     ]
    },
    {
     "name": "stdout",
     "output_type": "stream",
     "text": [
      "2025-05-27 19:03:11,511 - QmioBackend/0.2.0 - DEBUG - Results:{'results': {'meas': {'00': 4300, '10': 621, '11': 4668, '01': 411}}, 'execution_metrics': {'optimized_circuit': 'OPENQASM 2.0;include \"qelib1.inc\";gate ecr q0, q1 {};qreg q[32];creg meas[2];rz(pi/2) q[19];sx q[19];rz(-1.8767149460460022) q[19];sx q[19];rz(pi/2) q[19];rz(pi/2) q[20];sx q[20];rz(-0.25863251635098905) q[20];ecr q[20],q[19];rz(pi/2) q[19];sx q[19];rz(-1.26487770754379) q[19];rz(1.3121638104439093) q[20];sx q[20];rz(-pi/2) q[20];barrier q[19],q[20];measure q[19] -> meas[0];measure q[20] -> meas[1];', 'optimized_instruction_count': 42}}\n"
     ]
    },
    {
     "name": "stderr",
     "output_type": "stream",
     "text": [
      "2025-05-27 19:03:11,511 - QmioBackend/0.2.0 - DEBUG - Results:{'results': {'meas': {'00': 4300, '10': 621, '11': 4668, '01': 411}}, 'execution_metrics': {'optimized_circuit': 'OPENQASM 2.0;include \"qelib1.inc\";gate ecr q0, q1 {};qreg q[32];creg meas[2];rz(pi/2) q[19];sx q[19];rz(-1.8767149460460022) q[19];sx q[19];rz(pi/2) q[19];rz(pi/2) q[20];sx q[20];rz(-0.25863251635098905) q[20];ecr q[20],q[19];rz(pi/2) q[19];sx q[19];rz(-1.26487770754379) q[19];rz(1.3121638104439093) q[20];sx q[20];rz(-pi/2) q[20];barrier q[19],q[20];measure q[19] -> meas[0];measure q[20] -> meas[1];', 'optimized_instruction_count': 42}}\n"
     ]
    },
    {
     "name": "stdout",
     "output_type": "stream",
     "text": [
      "2025-05-27 19:03:11,514 - QmioBackend/0.2.0 - DEBUG - Retorno counts: {'0x0': 4300, '0x1': 621, '0x3': 4668, '0x2': 411}\n"
     ]
    },
    {
     "name": "stderr",
     "output_type": "stream",
     "text": [
      "2025-05-27 19:03:11,514 - QmioBackend/0.2.0 - DEBUG - Retorno counts: {'0x0': 4300, '0x1': 621, '0x3': 4668, '0x2': 411}\n"
     ]
    },
    {
     "name": "stdout",
     "output_type": "stream",
     "text": [
      "2025-05-27 19:03:11,515 - QmioBackend/0.2.0 - DEBUG - Returning memory: []\n"
     ]
    },
    {
     "name": "stderr",
     "output_type": "stream",
     "text": [
      "2025-05-27 19:03:11,515 - QmioBackend/0.2.0 - DEBUG - Returning memory: []\n"
     ]
    },
    {
     "name": "stdout",
     "output_type": "stream",
     "text": [
      "2025-05-27 19:03:11,516 - QmioBackend/0.2.0 - DEBUG - Converting to OPENQASM 2.0\n"
     ]
    },
    {
     "name": "stderr",
     "output_type": "stream",
     "text": [
      "2025-05-27 19:03:11,516 - QmioBackend/0.2.0 - DEBUG - Converting to OPENQASM 2.0\n"
     ]
    },
    {
     "name": "stdout",
     "output_type": "stream",
     "text": [
      "2025-05-27 19:03:11,520 - QmioBackend/0.2.0 - DEBUG - Circuit to transform:\n",
      "OPENQASM 2.0;\n",
      "include \"qelib1.inc\";\n",
      "gate rzx(param0) q0,q1 { h q1; cx q0,q1; rz(param0) q1; cx q0,q1; h q1; }\n",
      "gate ecr q0,q1 { rzx(pi/4) q0,q1; x q0; rzx(-pi/4) q0,q1; }\n",
      "qreg q[32];\n",
      "creg meas[2];\n",
      "rz(pi/2) q[19];\n",
      "sx q[19];\n",
      "rz(-1.8767149460460022) q[19];\n",
      "sx q[19];\n",
      "rz(pi/2) q[19];\n",
      "rz(pi/2) q[20];\n",
      "sx q[20];\n",
      "rz(-0.25863251635098905) q[20];\n",
      "ecr q[20],q[19];\n",
      "rz(pi/2) q[19];\n",
      "sx q[19];\n",
      "rz(-1.26487770754379) q[19];\n",
      "rz(1.3121638104439093) q[20];\n",
      "sx q[20];\n",
      "rz(-pi/2) q[20];\n",
      "barrier q[19],q[20];\n",
      "measure q[19] -> meas[0];\n",
      "measure q[20] -> meas[1];\n"
     ]
    },
    {
     "name": "stderr",
     "output_type": "stream",
     "text": [
      "2025-05-27 19:03:11,520 - QmioBackend/0.2.0 - DEBUG - Circuit to transform:\n",
      "OPENQASM 2.0;\n",
      "include \"qelib1.inc\";\n",
      "gate rzx(param0) q0,q1 { h q1; cx q0,q1; rz(param0) q1; cx q0,q1; h q1; }\n",
      "gate ecr q0,q1 { rzx(pi/4) q0,q1; x q0; rzx(-pi/4) q0,q1; }\n",
      "qreg q[32];\n",
      "creg meas[2];\n",
      "rz(pi/2) q[19];\n",
      "sx q[19];\n",
      "rz(-1.8767149460460022) q[19];\n",
      "sx q[19];\n",
      "rz(pi/2) q[19];\n",
      "rz(pi/2) q[20];\n",
      "sx q[20];\n",
      "rz(-0.25863251635098905) q[20];\n",
      "ecr q[20],q[19];\n",
      "rz(pi/2) q[19];\n",
      "sx q[19];\n",
      "rz(-1.26487770754379) q[19];\n",
      "rz(1.3121638104439093) q[20];\n",
      "sx q[20];\n",
      "rz(-pi/2) q[20];\n",
      "barrier q[19],q[20];\n",
      "measure q[19] -> meas[0];\n",
      "measure q[20] -> meas[1];\n"
     ]
    },
    {
     "name": "stdout",
     "output_type": "stream",
     "text": [
      "2025-05-27 19:03:11,521 - QmioBackend/0.2.0 - INFO - QASM to execute OPENQASM 2.0;include \"qelib1.inc\";gate ecr q0, q1 {};qreg q[32];creg meas[2];rz(pi/2) q[19];sx q[19];rz(-1.8767149460460022) q[19];sx q[19];rz(pi/2) q[19];rz(pi/2) q[20];sx q[20];rz(-0.25863251635098905) q[20];ecr q[20],q[19];rz(pi/2) q[19];sx q[19];rz(-1.26487770754379) q[19];rz(1.3121638104439093) q[20];sx q[20];rz(-pi/2) q[20];barrier q[19],q[20];measure q[19] -> meas[0];measure q[20] -> meas[1];\n"
     ]
    },
    {
     "name": "stderr",
     "output_type": "stream",
     "text": [
      "2025-05-27 19:03:11,521 - QmioBackend/0.2.0 - INFO - QASM to execute OPENQASM 2.0;include \"qelib1.inc\";gate ecr q0, q1 {};qreg q[32];creg meas[2];rz(pi/2) q[19];sx q[19];rz(-1.8767149460460022) q[19];sx q[19];rz(pi/2) q[19];rz(pi/2) q[20];sx q[20];rz(-0.25863251635098905) q[20];ecr q[20],q[19];rz(pi/2) q[19];sx q[19];rz(-1.26487770754379) q[19];rz(1.3121638104439093) q[20];sx q[20];rz(-pi/2) q[20];barrier q[19],q[20];measure q[19] -> meas[0];measure q[20] -> meas[1];\n"
     ]
    },
    {
     "name": "stdout",
     "output_type": "stream",
     "text": [
      "2025-05-27 19:03:11,521 - QmioBackend/0.2.0 - INFO - Requesting SHOTS=10000\n"
     ]
    },
    {
     "name": "stderr",
     "output_type": "stream",
     "text": [
      "2025-05-27 19:03:11,521 - QmioBackend/0.2.0 - INFO - Requesting SHOTS=10000\n"
     ]
    },
    {
     "name": "stdout",
     "output_type": "stream",
     "text": [
      "2025-05-27 19:03:17,389 - QmioBackend/0.2.0 - DEBUG - Results:{'results': {'meas': {'11': 4529, '00': 4377, '01': 464, '10': 630}}, 'execution_metrics': {'optimized_circuit': 'OPENQASM 2.0;include \"qelib1.inc\";gate ecr q0, q1 {};qreg q[32];creg meas[2];rz(pi/2) q[19];sx q[19];rz(-1.8767149460460022) q[19];sx q[19];rz(pi/2) q[19];rz(pi/2) q[20];sx q[20];rz(-0.25863251635098905) q[20];ecr q[20],q[19];rz(pi/2) q[19];sx q[19];rz(-1.26487770754379) q[19];rz(1.3121638104439093) q[20];sx q[20];rz(-pi/2) q[20];barrier q[19],q[20];measure q[19] -> meas[0];measure q[20] -> meas[1];', 'optimized_instruction_count': 42}}\n"
     ]
    },
    {
     "name": "stderr",
     "output_type": "stream",
     "text": [
      "2025-05-27 19:03:17,389 - QmioBackend/0.2.0 - DEBUG - Results:{'results': {'meas': {'11': 4529, '00': 4377, '01': 464, '10': 630}}, 'execution_metrics': {'optimized_circuit': 'OPENQASM 2.0;include \"qelib1.inc\";gate ecr q0, q1 {};qreg q[32];creg meas[2];rz(pi/2) q[19];sx q[19];rz(-1.8767149460460022) q[19];sx q[19];rz(pi/2) q[19];rz(pi/2) q[20];sx q[20];rz(-0.25863251635098905) q[20];ecr q[20],q[19];rz(pi/2) q[19];sx q[19];rz(-1.26487770754379) q[19];rz(1.3121638104439093) q[20];sx q[20];rz(-pi/2) q[20];barrier q[19],q[20];measure q[19] -> meas[0];measure q[20] -> meas[1];', 'optimized_instruction_count': 42}}\n"
     ]
    },
    {
     "name": "stdout",
     "output_type": "stream",
     "text": [
      "2025-05-27 19:03:17,394 - QmioBackend/0.2.0 - DEBUG - Retorno counts: {'0x3': 4529, '0x0': 4377, '0x2': 464, '0x1': 630}\n"
     ]
    },
    {
     "name": "stderr",
     "output_type": "stream",
     "text": [
      "2025-05-27 19:03:17,394 - QmioBackend/0.2.0 - DEBUG - Retorno counts: {'0x3': 4529, '0x0': 4377, '0x2': 464, '0x1': 630}\n"
     ]
    },
    {
     "name": "stdout",
     "output_type": "stream",
     "text": [
      "2025-05-27 19:03:17,396 - QmioBackend/0.2.0 - DEBUG - Returning memory: []\n"
     ]
    },
    {
     "name": "stderr",
     "output_type": "stream",
     "text": [
      "2025-05-27 19:03:17,396 - QmioBackend/0.2.0 - DEBUG - Returning memory: []\n"
     ]
    },
    {
     "name": "stdout",
     "output_type": "stream",
     "text": [
      "2025-05-27 19:03:17,397 - QmioBackend/0.2.0 - DEBUG - Final Results returned: {'backend_name': 'Qmio', 'backend_version': '0.2.0', 'qobj_id': None, 'job_id': UUID('35e81b7b-d20a-426f-938a-5e96868f408b'), 'success': True, 'results': [{'shots': 10000, 'success': True, 'header': {'name': 'circuit-162', 'creg_sizes': [['meas', 2]], 'memory_slots': 2, 'n_qubits': 32, 'qreg_sizes': [['q', 32]], 'metadata': {'execution_metrics': {'optimized_circuit': 'OPENQASM 2.0;include \"qelib1.inc\";gate ecr q0, q1 {};qreg q[32];creg meas[2];rz(pi/2) q[19];sx q[19];rz(-1.8767149460460022) q[19];sx q[19];rz(pi/2) q[19];rz(pi/2) q[20];sx q[20];rz(-0.25863251635098905) q[20];ecr q[20],q[19];rz(pi/2) q[19];sx q[19];rz(-1.26487770754379) q[19];rz(1.3121638104439093) q[20];sx q[20];rz(-pi/2) q[20];barrier q[19],q[20];measure q[19] -> meas[0];measure q[20] -> meas[1];', 'optimized_instruction_count': 42}, 'repetition_period': None, 'res_format': 'binary_count'}}, 'data': {'counts': {'0x0': 4300, '0x1': 621, '0x3': 4668, '0x2': 411}, 'metadata': {'execution_metrics': {'optimized_circuit': 'OPENQASM 2.0;include \"qelib1.inc\";gate ecr q0, q1 {};qreg q[32];creg meas[2];rz(pi/2) q[19];sx q[19];rz(-1.8767149460460022) q[19];sx q[19];rz(pi/2) q[19];rz(pi/2) q[20];sx q[20];rz(-0.25863251635098905) q[20];ecr q[20],q[19];rz(pi/2) q[19];sx q[19];rz(-1.26487770754379) q[19];rz(1.3121638104439093) q[20];sx q[20];rz(-pi/2) q[20];barrier q[19],q[20];measure q[19] -> meas[0];measure q[20] -> meas[1];', 'optimized_instruction_count': 42}, 'repetition_period': None, 'res_format': 'binary_count'}}}, {'shots': 10000, 'success': True, 'header': {'name': 'Copy', 'creg_sizes': [['meas', 2]], 'memory_slots': 2, 'n_qubits': 32, 'qreg_sizes': [['q', 32]], 'metadata': {'execution_metrics': {'optimized_circuit': 'OPENQASM 2.0;include \"qelib1.inc\";gate ecr q0, q1 {};qreg q[32];creg meas[2];rz(pi/2) q[19];sx q[19];rz(-1.8767149460460022) q[19];sx q[19];rz(pi/2) q[19];rz(pi/2) q[20];sx q[20];rz(-0.25863251635098905) q[20];ecr q[20],q[19];rz(pi/2) q[19];sx q[19];rz(-1.26487770754379) q[19];rz(1.3121638104439093) q[20];sx q[20];rz(-pi/2) q[20];barrier q[19],q[20];measure q[19] -> meas[0];measure q[20] -> meas[1];', 'optimized_instruction_count': 42}, 'repetition_period': None, 'res_format': 'binary_count'}}, 'data': {'counts': {'0x3': 4529, '0x0': 4377, '0x2': 464, '0x1': 630}, 'metadata': {'execution_metrics': {'optimized_circuit': 'OPENQASM 2.0;include \"qelib1.inc\";gate ecr q0, q1 {};qreg q[32];creg meas[2];rz(pi/2) q[19];sx q[19];rz(-1.8767149460460022) q[19];sx q[19];rz(pi/2) q[19];rz(pi/2) q[20];sx q[20];rz(-0.25863251635098905) q[20];ecr q[20],q[19];rz(pi/2) q[19];sx q[19];rz(-1.26487770754379) q[19];rz(1.3121638104439093) q[20];sx q[20];rz(-pi/2) q[20];barrier q[19],q[20];measure q[19] -> meas[0];measure q[20] -> meas[1];', 'optimized_instruction_count': 42}, 'repetition_period': None, 'res_format': 'binary_count'}}}], 'date': '2025-05-27T19:03:17.397337'}\n"
     ]
    },
    {
     "name": "stderr",
     "output_type": "stream",
     "text": [
      "2025-05-27 19:03:17,397 - QmioBackend/0.2.0 - DEBUG - Final Results returned: {'backend_name': 'Qmio', 'backend_version': '0.2.0', 'qobj_id': None, 'job_id': UUID('35e81b7b-d20a-426f-938a-5e96868f408b'), 'success': True, 'results': [{'shots': 10000, 'success': True, 'header': {'name': 'circuit-162', 'creg_sizes': [['meas', 2]], 'memory_slots': 2, 'n_qubits': 32, 'qreg_sizes': [['q', 32]], 'metadata': {'execution_metrics': {'optimized_circuit': 'OPENQASM 2.0;include \"qelib1.inc\";gate ecr q0, q1 {};qreg q[32];creg meas[2];rz(pi/2) q[19];sx q[19];rz(-1.8767149460460022) q[19];sx q[19];rz(pi/2) q[19];rz(pi/2) q[20];sx q[20];rz(-0.25863251635098905) q[20];ecr q[20],q[19];rz(pi/2) q[19];sx q[19];rz(-1.26487770754379) q[19];rz(1.3121638104439093) q[20];sx q[20];rz(-pi/2) q[20];barrier q[19],q[20];measure q[19] -> meas[0];measure q[20] -> meas[1];', 'optimized_instruction_count': 42}, 'repetition_period': None, 'res_format': 'binary_count'}}, 'data': {'counts': {'0x0': 4300, '0x1': 621, '0x3': 4668, '0x2': 411}, 'metadata': {'execution_metrics': {'optimized_circuit': 'OPENQASM 2.0;include \"qelib1.inc\";gate ecr q0, q1 {};qreg q[32];creg meas[2];rz(pi/2) q[19];sx q[19];rz(-1.8767149460460022) q[19];sx q[19];rz(pi/2) q[19];rz(pi/2) q[20];sx q[20];rz(-0.25863251635098905) q[20];ecr q[20],q[19];rz(pi/2) q[19];sx q[19];rz(-1.26487770754379) q[19];rz(1.3121638104439093) q[20];sx q[20];rz(-pi/2) q[20];barrier q[19],q[20];measure q[19] -> meas[0];measure q[20] -> meas[1];', 'optimized_instruction_count': 42}, 'repetition_period': None, 'res_format': 'binary_count'}}}, {'shots': 10000, 'success': True, 'header': {'name': 'Copy', 'creg_sizes': [['meas', 2]], 'memory_slots': 2, 'n_qubits': 32, 'qreg_sizes': [['q', 32]], 'metadata': {'execution_metrics': {'optimized_circuit': 'OPENQASM 2.0;include \"qelib1.inc\";gate ecr q0, q1 {};qreg q[32];creg meas[2];rz(pi/2) q[19];sx q[19];rz(-1.8767149460460022) q[19];sx q[19];rz(pi/2) q[19];rz(pi/2) q[20];sx q[20];rz(-0.25863251635098905) q[20];ecr q[20],q[19];rz(pi/2) q[19];sx q[19];rz(-1.26487770754379) q[19];rz(1.3121638104439093) q[20];sx q[20];rz(-pi/2) q[20];barrier q[19],q[20];measure q[19] -> meas[0];measure q[20] -> meas[1];', 'optimized_instruction_count': 42}, 'repetition_period': None, 'res_format': 'binary_count'}}, 'data': {'counts': {'0x3': 4529, '0x0': 4377, '0x2': 464, '0x1': 630}, 'metadata': {'execution_metrics': {'optimized_circuit': 'OPENQASM 2.0;include \"qelib1.inc\";gate ecr q0, q1 {};qreg q[32];creg meas[2];rz(pi/2) q[19];sx q[19];rz(-1.8767149460460022) q[19];sx q[19];rz(pi/2) q[19];rz(pi/2) q[20];sx q[20];rz(-0.25863251635098905) q[20];ecr q[20],q[19];rz(pi/2) q[19];sx q[19];rz(-1.26487770754379) q[19];rz(1.3121638104439093) q[20];sx q[20];rz(-pi/2) q[20];barrier q[19],q[20];measure q[19] -> meas[0];measure q[20] -> meas[1];', 'optimized_instruction_count': 42}, 'repetition_period': None, 'res_format': 'binary_count'}}}], 'date': '2025-05-27T19:03:17.397337'}\n"
     ]
    },
    {
     "name": "stdout",
     "output_type": "stream",
     "text": [
      "{'00': 4300, '01': 621, '11': 4668, '10': 411}\n"
     ]
    },
    {
     "data": {
      "image/png": "[encoded data removed]",
      "text/plain": [
       "<Figure size 432x288 with 1 Axes>"
      ]
     },
     "execution_count": 10,
     "metadata": {},
     "output_type": "execute_result"
    }
   ],
   "source": [
    "job=backend.run([qc_basis,qd_basis])\n",
    "print(job.result().get_counts(qc_basis))\n",
    "from qiskit.visualization import plot_histogram\n",
    "plot_histogram(job.result().get_counts(),title=\"With Optimisation\")"
   ]
  },
  {
   "cell_type": "code",
   "execution_count": 11,
   "id": "ce6f55f6",
   "metadata": {},
   "outputs": [
    {
     "name": "stdout",
     "output_type": "stream",
     "text": [
      "[[0, 1], [2, 1], [2, 3], [4, 3], [5, 4], [6, 3], [6, 12], [7, 0], [7, 9], [9, 10], [11, 10], [11, 12], [13, 21], [14, 11], [14, 18], [15, 8], [15, 16], [18, 17], [18, 19], [20, 19], [22, 21], [22, 31], [23, 20], [23, 30], [24, 17], [24, 27], [25, 16], [25, 26], [26, 27], [28, 27], [28, 29], [30, 29], [30, 31]]\n"
     ]
    }
   ],
   "source": [
    "print(backend.target.build_coupling_map())"
   ]
  },
  {
   "cell_type": "code",
   "execution_count": 12,
   "id": "12837b25",
   "metadata": {},
   "outputs": [
    {
     "ename": "MissingOptionalLibraryError",
     "evalue": "\"The 'pylatexenc' library is required to use 'MatplotlibDrawer'. You can install it with 'pip install pylatexenc'.\"",
     "output_type": "error",
     "traceback": [
      "\u001b[0;31m---------------------------------------------------------------------------\u001b[0m",
      "\u001b[0;31mMissingOptionalLibraryError\u001b[0m               Traceback (most recent call last)",
      "\u001b[0;32m/tmp/ipykernel_2593181/3933459299.py\u001b[0m in \u001b[0;36m<module>\u001b[0;34m\u001b[0m\n\u001b[1;32m     11\u001b[0m \u001b[0mqc_basis\u001b[0m \u001b[0;34m=\u001b[0m \u001b[0mtranspile\u001b[0m\u001b[0;34m(\u001b[0m\u001b[0mqc\u001b[0m\u001b[0;34m,\u001b[0m \u001b[0mbackend\u001b[0m\u001b[0;34m)\u001b[0m\u001b[0;34m\u001b[0m\u001b[0;34m\u001b[0m\u001b[0m\n\u001b[1;32m     12\u001b[0m \u001b[0mqc_basis\u001b[0m\u001b[0;34m.\u001b[0m\u001b[0mname\u001b[0m\u001b[0;34m=\u001b[0m\u001b[0mc\u001b[0m\u001b[0;34m.\u001b[0m\u001b[0mname\u001b[0m\u001b[0;34m+\u001b[0m\u001b[0;34m\"_opt\"\u001b[0m\u001b[0;34m\u001b[0m\u001b[0;34m\u001b[0m\u001b[0m\n\u001b[0;32m---> 13\u001b[0;31m \u001b[0mqc_basis\u001b[0m\u001b[0;34m.\u001b[0m\u001b[0mdraw\u001b[0m\u001b[0;34m(\u001b[0m\u001b[0moutput\u001b[0m\u001b[0;34m=\u001b[0m\u001b[0;34m\"mpl\"\u001b[0m\u001b[0;34m,\u001b[0m\u001b[0midle_wires\u001b[0m\u001b[0;34m=\u001b[0m\u001b[0;32mFalse\u001b[0m\u001b[0;34m)\u001b[0m\u001b[0;34m\u001b[0m\u001b[0;34m\u001b[0m\u001b[0m\n\u001b[0m",
      "\u001b[0;32m~/.local/lib/python3.9/site-packages/qiskit/circuit/quantumcircuit.py\u001b[0m in \u001b[0;36mdraw\u001b[0;34m(self, output, scale, filename, style, interactive, plot_barriers, reverse_bits, justify, vertical_compression, idle_wires, with_layout, fold, ax, initial_state, cregbundle, wire_order, expr_len)\u001b[0m\n\u001b[1;32m   3798\u001b[0m         \u001b[0;32mfrom\u001b[0m \u001b[0mqiskit\u001b[0m\u001b[0;34m.\u001b[0m\u001b[0mvisualization\u001b[0m \u001b[0;32mimport\u001b[0m \u001b[0mcircuit_drawer\u001b[0m\u001b[0;34m\u001b[0m\u001b[0;34m\u001b[0m\u001b[0m\n\u001b[1;32m   3799\u001b[0m \u001b[0;34m\u001b[0m\u001b[0m\n\u001b[0;32m-> 3800\u001b[0;31m         return circuit_drawer(\n\u001b[0m\u001b[1;32m   3801\u001b[0m             \u001b[0mself\u001b[0m\u001b[0;34m,\u001b[0m\u001b[0;34m\u001b[0m\u001b[0;34m\u001b[0m\u001b[0m\n\u001b[1;32m   3802\u001b[0m             \u001b[0mscale\u001b[0m\u001b[0;34m=\u001b[0m\u001b[0mscale\u001b[0m\u001b[0;34m,\u001b[0m\u001b[0;34m\u001b[0m\u001b[0;34m\u001b[0m\u001b[0m\n",
      "\u001b[0;32m~/.local/lib/python3.9/site-packages/qiskit/visualization/circuit/circuit_visualization.py\u001b[0m in \u001b[0;36mcircuit_drawer\u001b[0;34m(circuit, scale, filename, style, output, interactive, plot_barriers, reverse_bits, justify, vertical_compression, idle_wires, with_layout, fold, ax, initial_state, cregbundle, wire_order, expr_len)\u001b[0m\n\u001b[1;32m    337\u001b[0m         )\n\u001b[1;32m    338\u001b[0m     \u001b[0;32melif\u001b[0m \u001b[0moutput\u001b[0m \u001b[0;34m==\u001b[0m \u001b[0;34m\"mpl\"\u001b[0m\u001b[0;34m:\u001b[0m\u001b[0;34m\u001b[0m\u001b[0;34m\u001b[0m\u001b[0m\n\u001b[0;32m--> 339\u001b[0;31m         image = _matplotlib_circuit_drawer(\n\u001b[0m\u001b[1;32m    340\u001b[0m             \u001b[0mcircuit\u001b[0m\u001b[0;34m,\u001b[0m\u001b[0;34m\u001b[0m\u001b[0;34m\u001b[0m\u001b[0m\n\u001b[1;32m    341\u001b[0m             \u001b[0mscale\u001b[0m\u001b[0;34m=\u001b[0m\u001b[0mscale\u001b[0m\u001b[0;34m,\u001b[0m\u001b[0;34m\u001b[0m\u001b[0;34m\u001b[0m\u001b[0m\n",
      "\u001b[0;32m~/.local/lib/python3.9/site-packages/qiskit/visualization/circuit/circuit_visualization.py\u001b[0m in \u001b[0;36m_matplotlib_circuit_drawer\u001b[0;34m(circuit, scale, filename, style, plot_barriers, reverse_bits, justify, idle_wires, with_layout, fold, ax, initial_state, cregbundle, wire_order, expr_len)\u001b[0m\n\u001b[1;32m    717\u001b[0m         \u001b[0mfold\u001b[0m \u001b[0;34m=\u001b[0m \u001b[0;36m25\u001b[0m\u001b[0;34m\u001b[0m\u001b[0;34m\u001b[0m\u001b[0m\n\u001b[1;32m    718\u001b[0m \u001b[0;34m\u001b[0m\u001b[0m\n\u001b[0;32m--> 719\u001b[0;31m     qcd = _matplotlib.MatplotlibDrawer(\n\u001b[0m\u001b[1;32m    720\u001b[0m         \u001b[0mqubits\u001b[0m\u001b[0;34m,\u001b[0m\u001b[0;34m\u001b[0m\u001b[0;34m\u001b[0m\u001b[0m\n\u001b[1;32m    721\u001b[0m         \u001b[0mclbits\u001b[0m\u001b[0;34m,\u001b[0m\u001b[0;34m\u001b[0m\u001b[0;34m\u001b[0m\u001b[0m\n",
      "\u001b[0;32m~/.local/lib/python3.9/site-packages/qiskit/utils/classtools.py\u001b[0m in \u001b[0;36mout\u001b[0;34m(*args, **kwargs)\u001b[0m\n\u001b[1;32m    109\u001b[0m         \u001b[0;32mdef\u001b[0m \u001b[0mout\u001b[0m\u001b[0;34m(\u001b[0m\u001b[0;34m*\u001b[0m\u001b[0margs\u001b[0m\u001b[0;34m,\u001b[0m \u001b[0;34m**\u001b[0m\u001b[0mkwargs\u001b[0m\u001b[0;34m)\u001b[0m\u001b[0;34m:\u001b[0m\u001b[0;34m\u001b[0m\u001b[0;34m\u001b[0m\u001b[0m\n\u001b[1;32m    110\u001b[0m             \u001b[0;32mfor\u001b[0m \u001b[0mcallback\u001b[0m \u001b[0;32min\u001b[0m \u001b[0mself\u001b[0m\u001b[0;34m.\u001b[0m\u001b[0m_before\u001b[0m\u001b[0;34m:\u001b[0m\u001b[0;34m\u001b[0m\u001b[0;34m\u001b[0m\u001b[0m\n\u001b[0;32m--> 111\u001b[0;31m                 \u001b[0mcallback\u001b[0m\u001b[0;34m.\u001b[0m\u001b[0m__get__\u001b[0m\u001b[0;34m(\u001b[0m\u001b[0mobj\u001b[0m\u001b[0;34m,\u001b[0m \u001b[0mobjtype\u001b[0m\u001b[0;34m)\u001b[0m\u001b[0;34m(\u001b[0m\u001b[0;34m*\u001b[0m\u001b[0margs\u001b[0m\u001b[0;34m,\u001b[0m \u001b[0;34m**\u001b[0m\u001b[0mkwargs\u001b[0m\u001b[0;34m)\u001b[0m\u001b[0;34m\u001b[0m\u001b[0;34m\u001b[0m\u001b[0m\n\u001b[0m\u001b[1;32m    112\u001b[0m             \u001b[0mretval\u001b[0m \u001b[0;34m=\u001b[0m \u001b[0mmethod\u001b[0m\u001b[0;34m(\u001b[0m\u001b[0;34m*\u001b[0m\u001b[0margs\u001b[0m\u001b[0;34m,\u001b[0m \u001b[0;34m**\u001b[0m\u001b[0mkwargs\u001b[0m\u001b[0;34m)\u001b[0m\u001b[0;34m\u001b[0m\u001b[0;34m\u001b[0m\u001b[0m\n\u001b[1;32m    113\u001b[0m             \u001b[0;32mfor\u001b[0m \u001b[0mcallback\u001b[0m \u001b[0;32min\u001b[0m \u001b[0mself\u001b[0m\u001b[0;34m.\u001b[0m\u001b[0m_after\u001b[0m\u001b[0;34m:\u001b[0m\u001b[0;34m\u001b[0m\u001b[0;34m\u001b[0m\u001b[0m\n",
      "\u001b[0;32m~/.local/lib/python3.9/site-packages/qiskit/utils/lazy_tester.py\u001b[0m in \u001b[0;36m__call__\u001b[0;34m(self, *_args, **_kwargs)\u001b[0m\n\u001b[1;32m     39\u001b[0m \u001b[0;34m\u001b[0m\u001b[0m\n\u001b[1;32m     40\u001b[0m     \u001b[0;32mdef\u001b[0m \u001b[0m__call__\u001b[0m\u001b[0;34m(\u001b[0m\u001b[0mself\u001b[0m\u001b[0;34m,\u001b[0m \u001b[0;34m*\u001b[0m\u001b[0m_args\u001b[0m\u001b[0;34m,\u001b[0m \u001b[0;34m**\u001b[0m\u001b[0m_kwargs\u001b[0m\u001b[0;34m)\u001b[0m\u001b[0;34m:\u001b[0m\u001b[0;34m\u001b[0m\u001b[0;34m\u001b[0m\u001b[0m\n\u001b[0;32m---> 41\u001b[0;31m         \u001b[0mself\u001b[0m\u001b[0;34m.\u001b[0m\u001b[0m_tester\u001b[0m\u001b[0;34m.\u001b[0m\u001b[0mrequire_now\u001b[0m\u001b[0;34m(\u001b[0m\u001b[0mself\u001b[0m\u001b[0;34m.\u001b[0m\u001b[0m_feature\u001b[0m\u001b[0;34m)\u001b[0m\u001b[0;34m\u001b[0m\u001b[0;34m\u001b[0m\u001b[0m\n\u001b[0m\u001b[1;32m     42\u001b[0m \u001b[0;34m\u001b[0m\u001b[0m\n\u001b[1;32m     43\u001b[0m \u001b[0;34m\u001b[0m\u001b[0m\n",
      "\u001b[0;32m~/.local/lib/python3.9/site-packages/qiskit/utils/lazy_tester.py\u001b[0m in \u001b[0;36mrequire_now\u001b[0;34m(self, feature)\u001b[0m\n\u001b[1;32m    219\u001b[0m         \u001b[0;32mif\u001b[0m \u001b[0mself\u001b[0m\u001b[0;34m:\u001b[0m\u001b[0;34m\u001b[0m\u001b[0;34m\u001b[0m\u001b[0m\n\u001b[1;32m    220\u001b[0m             \u001b[0;32mreturn\u001b[0m\u001b[0;34m\u001b[0m\u001b[0;34m\u001b[0m\u001b[0m\n\u001b[0;32m--> 221\u001b[0;31m         raise MissingOptionalLibraryError(\n\u001b[0m\u001b[1;32m    222\u001b[0m             \u001b[0mlibname\u001b[0m\u001b[0;34m=\u001b[0m\u001b[0mself\u001b[0m\u001b[0;34m.\u001b[0m\u001b[0m_name\u001b[0m\u001b[0;34m,\u001b[0m \u001b[0mname\u001b[0m\u001b[0;34m=\u001b[0m\u001b[0mfeature\u001b[0m\u001b[0;34m,\u001b[0m \u001b[0mpip_install\u001b[0m\u001b[0;34m=\u001b[0m\u001b[0mself\u001b[0m\u001b[0;34m.\u001b[0m\u001b[0m_install\u001b[0m\u001b[0;34m,\u001b[0m \u001b[0mmsg\u001b[0m\u001b[0;34m=\u001b[0m\u001b[0mself\u001b[0m\u001b[0;34m.\u001b[0m\u001b[0m_msg\u001b[0m\u001b[0;34m\u001b[0m\u001b[0;34m\u001b[0m\u001b[0m\n\u001b[1;32m    223\u001b[0m         )\n",
      "\u001b[0;31mMissingOptionalLibraryError\u001b[0m: \"The 'pylatexenc' library is required to use 'MatplotlibDrawer'. You can install it with 'pip install pylatexenc'.\""
     ]
    }
   ],
   "source": [
    "import numpy as np\n",
    "qc = QuantumCircuit(2, 2)\n",
    " \n",
    "qc.h(0)\n",
    "qc.x(1)\n",
    "qc.cp(np.pi/4, 0, 1)\n",
    "qc.h(0)\n",
    "qc.measure([0], [0])\n",
    "qc.measure([1], [1])\n",
    " \n",
    "qc_basis = transpile(qc, backend)\n",
    "qc_basis.name=c.name+\"_opt\"\n",
    "qc_basis.draw(output=\"mpl\",idle_wires=False)"
   ]
  },
  {
   "cell_type": "code",
   "execution_count": 13,
   "id": "f303abea",
   "metadata": {},
   "outputs": [
    {
     "name": "stdout",
     "output_type": "stream",
     "text": [
      "2025-05-27 19:03:56,851 - QmioBackend/0.2.0 - INFO - Requested parameters: Shots 10000 - memory False - Repetition_period None - Res_format binary_count\n"
     ]
    },
    {
     "name": "stderr",
     "output_type": "stream",
     "text": [
      "2025-05-27 19:03:56,851 - QmioBackend/0.2.0 - INFO - Requested parameters: Shots 10000 - memory False - Repetition_period None - Res_format binary_count\n"
     ]
    },
    {
     "name": "stdout",
     "output_type": "stream",
     "text": [
      "2025-05-27 19:03:56,853 - QmioBackend/0.2.0 - DEBUG - Job id c2ad8368-f0c2-462b-a533-f0548361ad88\n"
     ]
    },
    {
     "name": "stderr",
     "output_type": "stream",
     "text": [
      "2025-05-27 19:03:56,853 - QmioBackend/0.2.0 - DEBUG - Job id c2ad8368-f0c2-462b-a533-f0548361ad88\n"
     ]
    },
    {
     "name": "stdout",
     "output_type": "stream",
     "text": [
      "2025-05-27 19:03:56,855 - QmioBackend/0.2.0 - DEBUG - Converting to OPENQASM 2.0\n"
     ]
    },
    {
     "name": "stderr",
     "output_type": "stream",
     "text": [
      "2025-05-27 19:03:56,855 - QmioBackend/0.2.0 - DEBUG - Converting to OPENQASM 2.0\n"
     ]
    },
    {
     "name": "stdout",
     "output_type": "stream",
     "text": [
      "2025-05-27 19:03:56,857 - QmioBackend/0.2.0 - DEBUG - Circuit to transform:\n",
      "OPENQASM 2.0;\n",
      "include \"qelib1.inc\";\n",
      "qreg q[2];\n",
      "creg c[2];\n",
      "h q[0];\n",
      "x q[1];\n",
      "cp(pi/4) q[0],q[1];\n",
      "h q[0];\n",
      "measure q[0] -> c[0];\n",
      "measure q[1] -> c[1];\n"
     ]
    },
    {
     "name": "stderr",
     "output_type": "stream",
     "text": [
      "2025-05-27 19:03:56,857 - QmioBackend/0.2.0 - DEBUG - Circuit to transform:\n",
      "OPENQASM 2.0;\n",
      "include \"qelib1.inc\";\n",
      "qreg q[2];\n",
      "creg c[2];\n",
      "h q[0];\n",
      "x q[1];\n",
      "cp(pi/4) q[0],q[1];\n",
      "h q[0];\n",
      "measure q[0] -> c[0];\n",
      "measure q[1] -> c[1];\n"
     ]
    },
    {
     "name": "stdout",
     "output_type": "stream",
     "text": [
      "2025-05-27 19:03:56,860 - QmioBackend/0.2.0 - INFO - QASM to execute OPENQASM 2.0;include \"qelib1.inc\";qreg q[2];creg c[2];h q[0];x q[1];cp(pi/4) q[0],q[1];h q[0];measure q[0] -> c[0];measure q[1] -> c[1];\n"
     ]
    },
    {
     "name": "stderr",
     "output_type": "stream",
     "text": [
      "2025-05-27 19:03:56,860 - QmioBackend/0.2.0 - INFO - QASM to execute OPENQASM 2.0;include \"qelib1.inc\";qreg q[2];creg c[2];h q[0];x q[1];cp(pi/4) q[0],q[1];h q[0];measure q[0] -> c[0];measure q[1] -> c[1];\n"
     ]
    },
    {
     "name": "stdout",
     "output_type": "stream",
     "text": [
      "2025-05-27 19:03:56,861 - QmioBackend/0.2.0 - INFO - Requesting SHOTS=10000\n"
     ]
    },
    {
     "name": "stderr",
     "output_type": "stream",
     "text": [
      "2025-05-27 19:03:56,861 - QmioBackend/0.2.0 - INFO - Requesting SHOTS=10000\n"
     ]
    },
    {
     "name": "stdout",
     "output_type": "stream",
     "text": [
      "2025-05-27 19:04:02,902 - QmioBackend/0.2.0 - DEBUG - Results:{'results': {'c': {'01': 2215, '11': 3536, '00': 1903, '10': 2346}}, 'execution_metrics': {'optimized_circuit': 'OPENQASM 2.0;include \"qelib1.inc\";qreg q[2];creg c[2];h q[0];x q[1];cp(pi/4) q[0],q[1];h q[0];measure q[0] -> c[0];measure q[1] -> c[1];', 'optimized_instruction_count': 70}}\n"
     ]
    },
    {
     "name": "stderr",
     "output_type": "stream",
     "text": [
      "2025-05-27 19:04:02,902 - QmioBackend/0.2.0 - DEBUG - Results:{'results': {'c': {'01': 2215, '11': 3536, '00': 1903, '10': 2346}}, 'execution_metrics': {'optimized_circuit': 'OPENQASM 2.0;include \"qelib1.inc\";qreg q[2];creg c[2];h q[0];x q[1];cp(pi/4) q[0],q[1];h q[0];measure q[0] -> c[0];measure q[1] -> c[1];', 'optimized_instruction_count': 70}}\n"
     ]
    },
    {
     "name": "stdout",
     "output_type": "stream",
     "text": [
      "2025-05-27 19:04:02,905 - QmioBackend/0.2.0 - DEBUG - Retorno counts: {'0x2': 2215, '0x3': 3536, '0x0': 1903, '0x1': 2346}\n"
     ]
    },
    {
     "name": "stderr",
     "output_type": "stream",
     "text": [
      "2025-05-27 19:04:02,905 - QmioBackend/0.2.0 - DEBUG - Retorno counts: {'0x2': 2215, '0x3': 3536, '0x0': 1903, '0x1': 2346}\n"
     ]
    },
    {
     "name": "stdout",
     "output_type": "stream",
     "text": [
      "2025-05-27 19:04:02,906 - QmioBackend/0.2.0 - DEBUG - Returning memory: []\n"
     ]
    },
    {
     "name": "stderr",
     "output_type": "stream",
     "text": [
      "2025-05-27 19:04:02,906 - QmioBackend/0.2.0 - DEBUG - Returning memory: []\n"
     ]
    },
    {
     "name": "stdout",
     "output_type": "stream",
     "text": [
      "2025-05-27 19:04:02,907 - QmioBackend/0.2.0 - DEBUG - Converting to OPENQASM 2.0\n"
     ]
    },
    {
     "name": "stderr",
     "output_type": "stream",
     "text": [
      "2025-05-27 19:04:02,907 - QmioBackend/0.2.0 - DEBUG - Converting to OPENQASM 2.0\n"
     ]
    },
    {
     "name": "stdout",
     "output_type": "stream",
     "text": [
      "2025-05-27 19:04:02,913 - QmioBackend/0.2.0 - DEBUG - Circuit to transform:\n",
      "OPENQASM 2.0;\n",
      "include \"qelib1.inc\";\n",
      "gate rzx(param0) q0,q1 { h q1; cx q0,q1; rz(param0) q1; cx q0,q1; h q1; }\n",
      "gate ecr q0,q1 { rzx(pi/4) q0,q1; x q0; rzx(-pi/4) q0,q1; }\n",
      "qreg q[32];\n",
      "creg c[2];\n",
      "rz(-pi/2) q[16];\n",
      "sx q[16];\n",
      "rz(2.845573239916966) q[16];\n",
      "rz(pi/2) q[25];\n",
      "ecr q[25],q[16];\n",
      "rz(-pi) q[16];\n",
      "sx q[16];\n",
      "rz(7*pi/8) q[16];\n",
      "sx q[16];\n",
      "ecr q[25],q[16];\n",
      "rz(-0.09667966802589634) q[16];\n",
      "sx q[16];\n",
      "rz(-pi/2) q[16];\n",
      "x q[25];\n",
      "rz(5*pi/8) q[25];\n",
      "measure q[16] -> c[0];\n",
      "measure q[25] -> c[1];\n"
     ]
    },
    {
     "name": "stderr",
     "output_type": "stream",
     "text": [
      "2025-05-27 19:04:02,913 - QmioBackend/0.2.0 - DEBUG - Circuit to transform:\n",
      "OPENQASM 2.0;\n",
      "include \"qelib1.inc\";\n",
      "gate rzx(param0) q0,q1 { h q1; cx q0,q1; rz(param0) q1; cx q0,q1; h q1; }\n",
      "gate ecr q0,q1 { rzx(pi/4) q0,q1; x q0; rzx(-pi/4) q0,q1; }\n",
      "qreg q[32];\n",
      "creg c[2];\n",
      "rz(-pi/2) q[16];\n",
      "sx q[16];\n",
      "rz(2.845573239916966) q[16];\n",
      "rz(pi/2) q[25];\n",
      "ecr q[25],q[16];\n",
      "rz(-pi) q[16];\n",
      "sx q[16];\n",
      "rz(7*pi/8) q[16];\n",
      "sx q[16];\n",
      "ecr q[25],q[16];\n",
      "rz(-0.09667966802589634) q[16];\n",
      "sx q[16];\n",
      "rz(-pi/2) q[16];\n",
      "x q[25];\n",
      "rz(5*pi/8) q[25];\n",
      "measure q[16] -> c[0];\n",
      "measure q[25] -> c[1];\n"
     ]
    },
    {
     "name": "stdout",
     "output_type": "stream",
     "text": [
      "2025-05-27 19:04:02,914 - QmioBackend/0.2.0 - INFO - QASM to execute OPENQASM 2.0;include \"qelib1.inc\";gate ecr q0, q1 {};qreg q[32];creg c[2];rz(-pi/2) q[16];sx q[16];rz(2.845573239916966) q[16];rz(pi/2) q[25];ecr q[25],q[16];rz(-pi) q[16];sx q[16];rz(7*pi/8) q[16];sx q[16];ecr q[25],q[16];rz(-0.09667966802589634) q[16];sx q[16];rz(-pi/2) q[16];x q[25];rz(5*pi/8) q[25];measure q[16] -> c[0];measure q[25] -> c[1];\n"
     ]
    },
    {
     "name": "stderr",
     "output_type": "stream",
     "text": [
      "2025-05-27 19:04:02,914 - QmioBackend/0.2.0 - INFO - QASM to execute OPENQASM 2.0;include \"qelib1.inc\";gate ecr q0, q1 {};qreg q[32];creg c[2];rz(-pi/2) q[16];sx q[16];rz(2.845573239916966) q[16];rz(pi/2) q[25];ecr q[25],q[16];rz(-pi) q[16];sx q[16];rz(7*pi/8) q[16];sx q[16];ecr q[25],q[16];rz(-0.09667966802589634) q[16];sx q[16];rz(-pi/2) q[16];x q[25];rz(5*pi/8) q[25];measure q[16] -> c[0];measure q[25] -> c[1];\n"
     ]
    },
    {
     "name": "stdout",
     "output_type": "stream",
     "text": [
      "2025-05-27 19:04:02,915 - QmioBackend/0.2.0 - INFO - Requesting SHOTS=10000\n"
     ]
    },
    {
     "name": "stderr",
     "output_type": "stream",
     "text": [
      "2025-05-27 19:04:02,915 - QmioBackend/0.2.0 - INFO - Requesting SHOTS=10000\n"
     ]
    },
    {
     "name": "stdout",
     "output_type": "stream",
     "text": [
      "2025-05-27 19:04:08,817 - QmioBackend/0.2.0 - DEBUG - Results:{'results': {'c': {'01': 7132, '11': 1640, '00': 973, '10': 255}}, 'execution_metrics': {'optimized_circuit': 'OPENQASM 2.0;include \"qelib1.inc\";gate ecr q0, q1 {};qreg q[32];creg c[2];rz(-pi/2) q[16];sx q[16];rz(2.845573239916966) q[16];rz(pi/2) q[25];ecr q[25],q[16];rz(-pi) q[16];sx q[16];rz(7*pi/8) q[16];sx q[16];ecr q[25],q[16];rz(-0.09667966802589634) q[16];sx q[16];rz(-pi/2) q[16];x q[25];rz(5*pi/8) q[25];measure q[16] -> c[0];measure q[25] -> c[1];', 'optimized_instruction_count': 62}}\n"
     ]
    },
    {
     "name": "stderr",
     "output_type": "stream",
     "text": [
      "2025-05-27 19:04:08,817 - QmioBackend/0.2.0 - DEBUG - Results:{'results': {'c': {'01': 7132, '11': 1640, '00': 973, '10': 255}}, 'execution_metrics': {'optimized_circuit': 'OPENQASM 2.0;include \"qelib1.inc\";gate ecr q0, q1 {};qreg q[32];creg c[2];rz(-pi/2) q[16];sx q[16];rz(2.845573239916966) q[16];rz(pi/2) q[25];ecr q[25],q[16];rz(-pi) q[16];sx q[16];rz(7*pi/8) q[16];sx q[16];ecr q[25],q[16];rz(-0.09667966802589634) q[16];sx q[16];rz(-pi/2) q[16];x q[25];rz(5*pi/8) q[25];measure q[16] -> c[0];measure q[25] -> c[1];', 'optimized_instruction_count': 62}}\n"
     ]
    },
    {
     "name": "stdout",
     "output_type": "stream",
     "text": [
      "2025-05-27 19:04:08,822 - QmioBackend/0.2.0 - DEBUG - Retorno counts: {'0x2': 7132, '0x3': 1640, '0x0': 973, '0x1': 255}\n"
     ]
    },
    {
     "name": "stderr",
     "output_type": "stream",
     "text": [
      "2025-05-27 19:04:08,822 - QmioBackend/0.2.0 - DEBUG - Retorno counts: {'0x2': 7132, '0x3': 1640, '0x0': 973, '0x1': 255}\n"
     ]
    },
    {
     "name": "stdout",
     "output_type": "stream",
     "text": [
      "2025-05-27 19:04:08,824 - QmioBackend/0.2.0 - DEBUG - Returning memory: []\n"
     ]
    },
    {
     "name": "stderr",
     "output_type": "stream",
     "text": [
      "2025-05-27 19:04:08,824 - QmioBackend/0.2.0 - DEBUG - Returning memory: []\n"
     ]
    },
    {
     "name": "stdout",
     "output_type": "stream",
     "text": [
      "2025-05-27 19:04:08,827 - QmioBackend/0.2.0 - DEBUG - Final Results returned: {'backend_name': 'Qmio', 'backend_version': '0.2.0', 'qobj_id': None, 'job_id': UUID('c2ad8368-f0c2-462b-a533-f0548361ad88'), 'success': True, 'results': [{'shots': 10000, 'success': True, 'header': {'name': 'circuit-167', 'creg_sizes': [['c', 2]], 'memory_slots': 2, 'n_qubits': 2, 'qreg_sizes': [['q', 2]], 'metadata': {'execution_metrics': {'optimized_circuit': 'OPENQASM 2.0;include \"qelib1.inc\";qreg q[2];creg c[2];h q[0];x q[1];cp(pi/4) q[0],q[1];h q[0];measure q[0] -> c[0];measure q[1] -> c[1];', 'optimized_instruction_count': 70}, 'repetition_period': None, 'res_format': 'binary_count'}}, 'data': {'counts': {'0x2': 2215, '0x3': 3536, '0x0': 1903, '0x1': 2346}, 'metadata': {'execution_metrics': {'optimized_circuit': 'OPENQASM 2.0;include \"qelib1.inc\";qreg q[2];creg c[2];h q[0];x q[1];cp(pi/4) q[0],q[1];h q[0];measure q[0] -> c[0];measure q[1] -> c[1];', 'optimized_instruction_count': 70}, 'repetition_period': None, 'res_format': 'binary_count'}}}, {'shots': 10000, 'success': True, 'header': {'name': 'circuit-162_opt', 'creg_sizes': [['c', 2]], 'memory_slots': 2, 'n_qubits': 32, 'qreg_sizes': [['q', 32]], 'metadata': {'execution_metrics': {'optimized_circuit': 'OPENQASM 2.0;include \"qelib1.inc\";gate ecr q0, q1 {};qreg q[32];creg c[2];rz(-pi/2) q[16];sx q[16];rz(2.845573239916966) q[16];rz(pi/2) q[25];ecr q[25],q[16];rz(-pi) q[16];sx q[16];rz(7*pi/8) q[16];sx q[16];ecr q[25],q[16];rz(-0.09667966802589634) q[16];sx q[16];rz(-pi/2) q[16];x q[25];rz(5*pi/8) q[25];measure q[16] -> c[0];measure q[25] -> c[1];', 'optimized_instruction_count': 62}, 'repetition_period': None, 'res_format': 'binary_count'}}, 'data': {'counts': {'0x2': 7132, '0x3': 1640, '0x0': 973, '0x1': 255}, 'metadata': {'execution_metrics': {'optimized_circuit': 'OPENQASM 2.0;include \"qelib1.inc\";gate ecr q0, q1 {};qreg q[32];creg c[2];rz(-pi/2) q[16];sx q[16];rz(2.845573239916966) q[16];rz(pi/2) q[25];ecr q[25],q[16];rz(-pi) q[16];sx q[16];rz(7*pi/8) q[16];sx q[16];ecr q[25],q[16];rz(-0.09667966802589634) q[16];sx q[16];rz(-pi/2) q[16];x q[25];rz(5*pi/8) q[25];measure q[16] -> c[0];measure q[25] -> c[1];', 'optimized_instruction_count': 62}, 'repetition_period': None, 'res_format': 'binary_count'}}}], 'date': '2025-05-27T19:04:08.827100'}\n"
     ]
    },
    {
     "name": "stderr",
     "output_type": "stream",
     "text": [
      "2025-05-27 19:04:08,827 - QmioBackend/0.2.0 - DEBUG - Final Results returned: {'backend_name': 'Qmio', 'backend_version': '0.2.0', 'qobj_id': None, 'job_id': UUID('c2ad8368-f0c2-462b-a533-f0548361ad88'), 'success': True, 'results': [{'shots': 10000, 'success': True, 'header': {'name': 'circuit-167', 'creg_sizes': [['c', 2]], 'memory_slots': 2, 'n_qubits': 2, 'qreg_sizes': [['q', 2]], 'metadata': {'execution_metrics': {'optimized_circuit': 'OPENQASM 2.0;include \"qelib1.inc\";qreg q[2];creg c[2];h q[0];x q[1];cp(pi/4) q[0],q[1];h q[0];measure q[0] -> c[0];measure q[1] -> c[1];', 'optimized_instruction_count': 70}, 'repetition_period': None, 'res_format': 'binary_count'}}, 'data': {'counts': {'0x2': 2215, '0x3': 3536, '0x0': 1903, '0x1': 2346}, 'metadata': {'execution_metrics': {'optimized_circuit': 'OPENQASM 2.0;include \"qelib1.inc\";qreg q[2];creg c[2];h q[0];x q[1];cp(pi/4) q[0],q[1];h q[0];measure q[0] -> c[0];measure q[1] -> c[1];', 'optimized_instruction_count': 70}, 'repetition_period': None, 'res_format': 'binary_count'}}}, {'shots': 10000, 'success': True, 'header': {'name': 'circuit-162_opt', 'creg_sizes': [['c', 2]], 'memory_slots': 2, 'n_qubits': 32, 'qreg_sizes': [['q', 32]], 'metadata': {'execution_metrics': {'optimized_circuit': 'OPENQASM 2.0;include \"qelib1.inc\";gate ecr q0, q1 {};qreg q[32];creg c[2];rz(-pi/2) q[16];sx q[16];rz(2.845573239916966) q[16];rz(pi/2) q[25];ecr q[25],q[16];rz(-pi) q[16];sx q[16];rz(7*pi/8) q[16];sx q[16];ecr q[25],q[16];rz(-0.09667966802589634) q[16];sx q[16];rz(-pi/2) q[16];x q[25];rz(5*pi/8) q[25];measure q[16] -> c[0];measure q[25] -> c[1];', 'optimized_instruction_count': 62}, 'repetition_period': None, 'res_format': 'binary_count'}}, 'data': {'counts': {'0x2': 7132, '0x3': 1640, '0x0': 973, '0x1': 255}, 'metadata': {'execution_metrics': {'optimized_circuit': 'OPENQASM 2.0;include \"qelib1.inc\";gate ecr q0, q1 {};qreg q[32];creg c[2];rz(-pi/2) q[16];sx q[16];rz(2.845573239916966) q[16];rz(pi/2) q[25];ecr q[25],q[16];rz(-pi) q[16];sx q[16];rz(7*pi/8) q[16];sx q[16];ecr q[25],q[16];rz(-0.09667966802589634) q[16];sx q[16];rz(-pi/2) q[16];x q[25];rz(5*pi/8) q[25];measure q[16] -> c[0];measure q[25] -> c[1];', 'optimized_instruction_count': 62}, 'repetition_period': None, 'res_format': 'binary_count'}}}], 'date': '2025-05-27T19:04:08.827100'}\n"
     ]
    },
    {
     "data": {
      "image/png": "[encoded data removed]",
      "text/plain": [
       "<Figure size 432x288 with 1 Axes>"
      ]
     },
     "execution_count": 13,
     "metadata": {},
     "output_type": "execute_result"
    }
   ],
   "source": [
    "job=backend.run([qc,qc_basis])\n",
    "job.result().get_counts(qc)\n",
    "from qiskit.visualization import plot_histogram\n",
    "plot_histogram(job.result().get_counts(), title=\"Comparing Optimisation\")"
   ]
  },
  {
   "cell_type": "code",
   "execution_count": 19,
   "id": "2cbbfbc4",
   "metadata": {},
   "outputs": [
    {
     "name": "stdout",
     "output_type": "stream",
     "text": [
      "2025-05-27 19:08:00,313 - QmioBackend/0.2.0 - INFO - Requested parameters: Shots 10000 - memory False - Repetition_period None - Res_format binary_count\n"
     ]
    },
    {
     "name": "stderr",
     "output_type": "stream",
     "text": [
      "2025-05-27 19:08:00,313 - QmioBackend/0.2.0 - INFO - Requested parameters: Shots 10000 - memory False - Repetition_period None - Res_format binary_count\n"
     ]
    },
    {
     "name": "stdout",
     "output_type": "stream",
     "text": [
      "2025-05-27 19:08:00,316 - QmioBackend/0.2.0 - DEBUG - Starting backend\n"
     ]
    },
    {
     "name": "stderr",
     "output_type": "stream",
     "text": [
      "2025-05-27 19:08:00,316 - QmioBackend/0.2.0 - DEBUG - Starting backend\n"
     ]
    },
    {
     "name": "stdout",
     "output_type": "stream",
     "text": [
      "2025-05-27 19:08:00,318 - QmioBackend/0.2.0 - DEBUG - Connecting backend\n"
     ]
    },
    {
     "name": "stderr",
     "output_type": "stream",
     "text": [
      "2025-05-27 19:08:00,318 - QmioBackend/0.2.0 - DEBUG - Connecting backend\n"
     ]
    },
    {
     "name": "stdout",
     "output_type": "stream",
     "text": [
      "2025-05-27 19:08:00,319 - QmioBackend/0.2.0 - INFO - Connecting with parameters - reservation_name None - tunnel_time_limit None\n"
     ]
    },
    {
     "name": "stderr",
     "output_type": "stream",
     "text": [
      "2025-05-27 19:08:00,319 - QmioBackend/0.2.0 - INFO - Connecting with parameters - reservation_name None - tunnel_time_limit None\n"
     ]
    },
    {
     "name": "stdout",
     "output_type": "stream",
     "text": [
      "Waiting for resources\n",
      "2025-05-27 19:08:01,405 - QmioBackend/0.2.0 - DEBUG - Job id 58177258-63ad-446f-87be-fff1cb87a6f9\n"
     ]
    },
    {
     "name": "stderr",
     "output_type": "stream",
     "text": [
      "2025-05-27 19:08:01,405 - QmioBackend/0.2.0 - DEBUG - Job id 58177258-63ad-446f-87be-fff1cb87a6f9\n"
     ]
    },
    {
     "name": "stdout",
     "output_type": "stream",
     "text": [
      "2025-05-27 19:08:01,409 - QmioBackend/0.2.0 - DEBUG - Converting to OPENQASM 2.0\n"
     ]
    },
    {
     "name": "stderr",
     "output_type": "stream",
     "text": [
      "2025-05-27 19:08:01,409 - QmioBackend/0.2.0 - DEBUG - Converting to OPENQASM 2.0\n"
     ]
    },
    {
     "name": "stdout",
     "output_type": "stream",
     "text": [
      "2025-05-27 19:08:01,415 - QmioBackend/0.2.0 - DEBUG - Circuit to transform:\n",
      "OPENQASM 2.0;\n",
      "include \"qelib1.inc\";\n",
      "gate rzx(param0) q0,q1 { h q1; cx q0,q1; rz(param0) q1; cx q0,q1; h q1; }\n",
      "gate ecr q0,q1 { rzx(pi/4) q0,q1; x q0; rzx(-pi/4) q0,q1; }\n",
      "qreg q[32];\n",
      "creg meas[3];\n",
      "rz(pi/2) q[0];\n",
      "sx q[0];\n",
      "rz(pi/2) q[0];\n",
      "rz(-pi/2) q[0];\n",
      "rz(pi/2) q[1];\n",
      "rz(pi/2) q[1];\n",
      "sx q[1];\n",
      "rz(pi/2) q[1];\n",
      "rz(pi/2) q[1];\n",
      "ecr q[0],q[1];\n",
      "x q[0];\n",
      "rz(-pi/2) q[0];\n",
      "sx q[1];\n",
      "rz(-pi/2) q[2];\n",
      "ecr q[2],q[1];\n",
      "rz(-pi/2) q[1];\n",
      "rz(pi/2) q[1];\n",
      "sx q[1];\n",
      "rz(-pi/2) q[1];\n",
      "sx q[2];\n",
      "rz(-pi/2) q[2];\n",
      "sx q[2];\n",
      "rz(pi/2) q[2];\n",
      "ecr q[2],q[1];\n",
      "rz(pi/2) q[1];\n",
      "sx q[1];\n",
      "rz(pi/2) q[1];\n",
      "sx q[1];\n",
      "rz(pi/2) q[2];\n",
      "sx q[2];\n",
      "rz(pi/2) q[2];\n",
      "rz(-pi/2) q[2];\n",
      "ecr q[2],q[1];\n",
      "rz(pi/2) q[1];\n",
      "rz(pi/2) q[1];\n",
      "sx q[1];\n",
      "rz(pi/2) q[1];\n",
      "rz(pi/2) q[1];\n",
      "ecr q[0],q[1];\n",
      "x q[0];\n",
      "barrier q[0],q[2],q[1];\n",
      "measure q[0] -> meas[0];\n",
      "measure q[2] -> meas[1];\n",
      "measure q[1] -> meas[2];\n"
     ]
    },
    {
     "name": "stderr",
     "output_type": "stream",
     "text": [
      "2025-05-27 19:08:01,415 - QmioBackend/0.2.0 - DEBUG - Circuit to transform:\n",
      "OPENQASM 2.0;\n",
      "include \"qelib1.inc\";\n",
      "gate rzx(param0) q0,q1 { h q1; cx q0,q1; rz(param0) q1; cx q0,q1; h q1; }\n",
      "gate ecr q0,q1 { rzx(pi/4) q0,q1; x q0; rzx(-pi/4) q0,q1; }\n",
      "qreg q[32];\n",
      "creg meas[3];\n",
      "rz(pi/2) q[0];\n",
      "sx q[0];\n",
      "rz(pi/2) q[0];\n",
      "rz(-pi/2) q[0];\n",
      "rz(pi/2) q[1];\n",
      "rz(pi/2) q[1];\n",
      "sx q[1];\n",
      "rz(pi/2) q[1];\n",
      "rz(pi/2) q[1];\n",
      "ecr q[0],q[1];\n",
      "x q[0];\n",
      "rz(-pi/2) q[0];\n",
      "sx q[1];\n",
      "rz(-pi/2) q[2];\n",
      "ecr q[2],q[1];\n",
      "rz(-pi/2) q[1];\n",
      "rz(pi/2) q[1];\n",
      "sx q[1];\n",
      "rz(-pi/2) q[1];\n",
      "sx q[2];\n",
      "rz(-pi/2) q[2];\n",
      "sx q[2];\n",
      "rz(pi/2) q[2];\n",
      "ecr q[2],q[1];\n",
      "rz(pi/2) q[1];\n",
      "sx q[1];\n",
      "rz(pi/2) q[1];\n",
      "sx q[1];\n",
      "rz(pi/2) q[2];\n",
      "sx q[2];\n",
      "rz(pi/2) q[2];\n",
      "rz(-pi/2) q[2];\n",
      "ecr q[2],q[1];\n",
      "rz(pi/2) q[1];\n",
      "rz(pi/2) q[1];\n",
      "sx q[1];\n",
      "rz(pi/2) q[1];\n",
      "rz(pi/2) q[1];\n",
      "ecr q[0],q[1];\n",
      "x q[0];\n",
      "barrier q[0],q[2],q[1];\n",
      "measure q[0] -> meas[0];\n",
      "measure q[2] -> meas[1];\n",
      "measure q[1] -> meas[2];\n"
     ]
    },
    {
     "name": "stdout",
     "output_type": "stream",
     "text": [
      "2025-05-27 19:08:01,417 - QmioBackend/0.2.0 - INFO - QASM to execute OPENQASM 2.0;include \"qelib1.inc\";gate ecr q0, q1 {};qreg q[32];creg meas[3];rz(pi/2) q[0];sx q[0];rz(pi/2) q[0];rz(-pi/2) q[0];rz(pi/2) q[1];rz(pi/2) q[1];sx q[1];rz(pi/2) q[1];rz(pi/2) q[1];ecr q[0],q[1];x q[0];rz(-pi/2) q[0];sx q[1];rz(-pi/2) q[2];ecr q[2],q[1];rz(-pi/2) q[1];rz(pi/2) q[1];sx q[1];rz(-pi/2) q[1];sx q[2];rz(-pi/2) q[2];sx q[2];rz(pi/2) q[2];ecr q[2],q[1];rz(pi/2) q[1];sx q[1];rz(pi/2) q[1];sx q[1];rz(pi/2) q[2];sx q[2];rz(pi/2) q[2];rz(-pi/2) q[2];ecr q[2],q[1];rz(pi/2) q[1];rz(pi/2) q[1];sx q[1];rz(pi/2) q[1];rz(pi/2) q[1];ecr q[0],q[1];x q[0];barrier q[0],q[2],q[1];measure q[0] -> meas[0];measure q[2] -> meas[1];measure q[1] -> meas[2];\n"
     ]
    },
    {
     "name": "stderr",
     "output_type": "stream",
     "text": [
      "2025-05-27 19:08:01,417 - QmioBackend/0.2.0 - INFO - QASM to execute OPENQASM 2.0;include \"qelib1.inc\";gate ecr q0, q1 {};qreg q[32];creg meas[3];rz(pi/2) q[0];sx q[0];rz(pi/2) q[0];rz(-pi/2) q[0];rz(pi/2) q[1];rz(pi/2) q[1];sx q[1];rz(pi/2) q[1];rz(pi/2) q[1];ecr q[0],q[1];x q[0];rz(-pi/2) q[0];sx q[1];rz(-pi/2) q[2];ecr q[2],q[1];rz(-pi/2) q[1];rz(pi/2) q[1];sx q[1];rz(-pi/2) q[1];sx q[2];rz(-pi/2) q[2];sx q[2];rz(pi/2) q[2];ecr q[2],q[1];rz(pi/2) q[1];sx q[1];rz(pi/2) q[1];sx q[1];rz(pi/2) q[2];sx q[2];rz(pi/2) q[2];rz(-pi/2) q[2];ecr q[2],q[1];rz(pi/2) q[1];rz(pi/2) q[1];sx q[1];rz(pi/2) q[1];rz(pi/2) q[1];ecr q[0],q[1];x q[0];barrier q[0],q[2],q[1];measure q[0] -> meas[0];measure q[2] -> meas[1];measure q[1] -> meas[2];\n"
     ]
    },
    {
     "name": "stdout",
     "output_type": "stream",
     "text": [
      "2025-05-27 19:08:01,419 - QmioBackend/0.2.0 - INFO - Requesting SHOTS=10000\n"
     ]
    },
    {
     "name": "stderr",
     "output_type": "stream",
     "text": [
      "2025-05-27 19:08:01,419 - QmioBackend/0.2.0 - INFO - Requesting SHOTS=10000\n"
     ]
    },
    {
     "name": "stdout",
     "output_type": "stream",
     "text": [
      "2025-05-27 19:08:07,572 - QmioBackend/0.2.0 - DEBUG - Results:{'results': {'meas': {'000': 4042, '110': 1168, '100': 910, '111': 2191, '011': 176, '101': 643, '010': 567, '001': 303}}, 'execution_metrics': {'optimized_circuit': 'OPENQASM 2.0;include \"qelib1.inc\";gate ecr q0, q1 {};qreg q[32];creg meas[3];rz(pi/2) q[0];sx q[0];rz(pi/2) q[0];rz(-pi/2) q[0];rz(pi/2) q[1];rz(pi/2) q[1];sx q[1];rz(pi/2) q[1];rz(pi/2) q[1];ecr q[0],q[1];x q[0];rz(-pi/2) q[0];sx q[1];rz(-pi/2) q[2];ecr q[2],q[1];rz(-pi/2) q[1];rz(pi/2) q[1];sx q[1];rz(-pi/2) q[1];sx q[2];rz(-pi/2) q[2];sx q[2];rz(pi/2) q[2];ecr q[2],q[1];rz(pi/2) q[1];sx q[1];rz(pi/2) q[1];sx q[1];rz(pi/2) q[2];sx q[2];rz(pi/2) q[2];rz(-pi/2) q[2];ecr q[2],q[1];rz(pi/2) q[1];rz(pi/2) q[1];sx q[1];rz(pi/2) q[1];rz(pi/2) q[1];ecr q[0],q[1];x q[0];barrier q[0],q[2],q[1];measure q[0] -> meas[0];measure q[2] -> meas[1];measure q[1] -> meas[2];', 'optimized_instruction_count': 172}}\n"
     ]
    },
    {
     "name": "stderr",
     "output_type": "stream",
     "text": [
      "2025-05-27 19:08:07,572 - QmioBackend/0.2.0 - DEBUG - Results:{'results': {'meas': {'000': 4042, '110': 1168, '100': 910, '111': 2191, '011': 176, '101': 643, '010': 567, '001': 303}}, 'execution_metrics': {'optimized_circuit': 'OPENQASM 2.0;include \"qelib1.inc\";gate ecr q0, q1 {};qreg q[32];creg meas[3];rz(pi/2) q[0];sx q[0];rz(pi/2) q[0];rz(-pi/2) q[0];rz(pi/2) q[1];rz(pi/2) q[1];sx q[1];rz(pi/2) q[1];rz(pi/2) q[1];ecr q[0],q[1];x q[0];rz(-pi/2) q[0];sx q[1];rz(-pi/2) q[2];ecr q[2],q[1];rz(-pi/2) q[1];rz(pi/2) q[1];sx q[1];rz(-pi/2) q[1];sx q[2];rz(-pi/2) q[2];sx q[2];rz(pi/2) q[2];ecr q[2],q[1];rz(pi/2) q[1];sx q[1];rz(pi/2) q[1];sx q[1];rz(pi/2) q[2];sx q[2];rz(pi/2) q[2];rz(-pi/2) q[2];ecr q[2],q[1];rz(pi/2) q[1];rz(pi/2) q[1];sx q[1];rz(pi/2) q[1];rz(pi/2) q[1];ecr q[0],q[1];x q[0];barrier q[0],q[2],q[1];measure q[0] -> meas[0];measure q[2] -> meas[1];measure q[1] -> meas[2];', 'optimized_instruction_count': 172}}\n"
     ]
    },
    {
     "name": "stdout",
     "output_type": "stream",
     "text": [
      "2025-05-27 19:08:07,576 - QmioBackend/0.2.0 - DEBUG - Retorno counts: {'0x0': 4042, '0x3': 1168, '0x1': 910, '0x7': 2191, '0x6': 176, '0x5': 643, '0x2': 567, '0x4': 303}\n"
     ]
    },
    {
     "name": "stderr",
     "output_type": "stream",
     "text": [
      "2025-05-27 19:08:07,576 - QmioBackend/0.2.0 - DEBUG - Retorno counts: {'0x0': 4042, '0x3': 1168, '0x1': 910, '0x7': 2191, '0x6': 176, '0x5': 643, '0x2': 567, '0x4': 303}\n"
     ]
    },
    {
     "name": "stdout",
     "output_type": "stream",
     "text": [
      "2025-05-27 19:08:07,578 - QmioBackend/0.2.0 - DEBUG - Returning memory: []\n"
     ]
    },
    {
     "name": "stderr",
     "output_type": "stream",
     "text": [
      "2025-05-27 19:08:07,578 - QmioBackend/0.2.0 - DEBUG - Returning memory: []\n"
     ]
    },
    {
     "name": "stdout",
     "output_type": "stream",
     "text": [
      "2025-05-27 19:08:07,580 - QmioBackend/0.2.0 - DEBUG - Final Results returned: {'backend_name': 'Qmio', 'backend_version': '0.2.0', 'qobj_id': None, 'job_id': UUID('58177258-63ad-446f-87be-fff1cb87a6f9'), 'success': True, 'results': [{'shots': 10000, 'success': True, 'header': {'name': 'circuit-177', 'creg_sizes': [['meas', 3]], 'memory_slots': 3, 'n_qubits': 32, 'qreg_sizes': [['q', 32]], 'metadata': {'execution_metrics': {'optimized_circuit': 'OPENQASM 2.0;include \"qelib1.inc\";gate ecr q0, q1 {};qreg q[32];creg meas[3];rz(pi/2) q[0];sx q[0];rz(pi/2) q[0];rz(-pi/2) q[0];rz(pi/2) q[1];rz(pi/2) q[1];sx q[1];rz(pi/2) q[1];rz(pi/2) q[1];ecr q[0],q[1];x q[0];rz(-pi/2) q[0];sx q[1];rz(-pi/2) q[2];ecr q[2],q[1];rz(-pi/2) q[1];rz(pi/2) q[1];sx q[1];rz(-pi/2) q[1];sx q[2];rz(-pi/2) q[2];sx q[2];rz(pi/2) q[2];ecr q[2],q[1];rz(pi/2) q[1];sx q[1];rz(pi/2) q[1];sx q[1];rz(pi/2) q[2];sx q[2];rz(pi/2) q[2];rz(-pi/2) q[2];ecr q[2],q[1];rz(pi/2) q[1];rz(pi/2) q[1];sx q[1];rz(pi/2) q[1];rz(pi/2) q[1];ecr q[0],q[1];x q[0];barrier q[0],q[2],q[1];measure q[0] -> meas[0];measure q[2] -> meas[1];measure q[1] -> meas[2];', 'optimized_instruction_count': 172}, 'repetition_period': None, 'res_format': 'binary_count'}}, 'data': {'counts': {'0x0': 4042, '0x3': 1168, '0x1': 910, '0x7': 2191, '0x6': 176, '0x5': 643, '0x2': 567, '0x4': 303}, 'metadata': {'execution_metrics': {'optimized_circuit': 'OPENQASM 2.0;include \"qelib1.inc\";gate ecr q0, q1 {};qreg q[32];creg meas[3];rz(pi/2) q[0];sx q[0];rz(pi/2) q[0];rz(-pi/2) q[0];rz(pi/2) q[1];rz(pi/2) q[1];sx q[1];rz(pi/2) q[1];rz(pi/2) q[1];ecr q[0],q[1];x q[0];rz(-pi/2) q[0];sx q[1];rz(-pi/2) q[2];ecr q[2],q[1];rz(-pi/2) q[1];rz(pi/2) q[1];sx q[1];rz(-pi/2) q[1];sx q[2];rz(-pi/2) q[2];sx q[2];rz(pi/2) q[2];ecr q[2],q[1];rz(pi/2) q[1];sx q[1];rz(pi/2) q[1];sx q[1];rz(pi/2) q[2];sx q[2];rz(pi/2) q[2];rz(-pi/2) q[2];ecr q[2],q[1];rz(pi/2) q[1];rz(pi/2) q[1];sx q[1];rz(pi/2) q[1];rz(pi/2) q[1];ecr q[0],q[1];x q[0];barrier q[0],q[2],q[1];measure q[0] -> meas[0];measure q[2] -> meas[1];measure q[1] -> meas[2];', 'optimized_instruction_count': 172}, 'repetition_period': None, 'res_format': 'binary_count'}}}], 'date': '2025-05-27T19:08:07.579926'}\n"
     ]
    },
    {
     "name": "stderr",
     "output_type": "stream",
     "text": [
      "2025-05-27 19:08:07,580 - QmioBackend/0.2.0 - DEBUG - Final Results returned: {'backend_name': 'Qmio', 'backend_version': '0.2.0', 'qobj_id': None, 'job_id': UUID('58177258-63ad-446f-87be-fff1cb87a6f9'), 'success': True, 'results': [{'shots': 10000, 'success': True, 'header': {'name': 'circuit-177', 'creg_sizes': [['meas', 3]], 'memory_slots': 3, 'n_qubits': 32, 'qreg_sizes': [['q', 32]], 'metadata': {'execution_metrics': {'optimized_circuit': 'OPENQASM 2.0;include \"qelib1.inc\";gate ecr q0, q1 {};qreg q[32];creg meas[3];rz(pi/2) q[0];sx q[0];rz(pi/2) q[0];rz(-pi/2) q[0];rz(pi/2) q[1];rz(pi/2) q[1];sx q[1];rz(pi/2) q[1];rz(pi/2) q[1];ecr q[0],q[1];x q[0];rz(-pi/2) q[0];sx q[1];rz(-pi/2) q[2];ecr q[2],q[1];rz(-pi/2) q[1];rz(pi/2) q[1];sx q[1];rz(-pi/2) q[1];sx q[2];rz(-pi/2) q[2];sx q[2];rz(pi/2) q[2];ecr q[2],q[1];rz(pi/2) q[1];sx q[1];rz(pi/2) q[1];sx q[1];rz(pi/2) q[2];sx q[2];rz(pi/2) q[2];rz(-pi/2) q[2];ecr q[2],q[1];rz(pi/2) q[1];rz(pi/2) q[1];sx q[1];rz(pi/2) q[1];rz(pi/2) q[1];ecr q[0],q[1];x q[0];barrier q[0],q[2],q[1];measure q[0] -> meas[0];measure q[2] -> meas[1];measure q[1] -> meas[2];', 'optimized_instruction_count': 172}, 'repetition_period': None, 'res_format': 'binary_count'}}, 'data': {'counts': {'0x0': 4042, '0x3': 1168, '0x1': 910, '0x7': 2191, '0x6': 176, '0x5': 643, '0x2': 567, '0x4': 303}, 'metadata': {'execution_metrics': {'optimized_circuit': 'OPENQASM 2.0;include \"qelib1.inc\";gate ecr q0, q1 {};qreg q[32];creg meas[3];rz(pi/2) q[0];sx q[0];rz(pi/2) q[0];rz(-pi/2) q[0];rz(pi/2) q[1];rz(pi/2) q[1];sx q[1];rz(pi/2) q[1];rz(pi/2) q[1];ecr q[0],q[1];x q[0];rz(-pi/2) q[0];sx q[1];rz(-pi/2) q[2];ecr q[2],q[1];rz(-pi/2) q[1];rz(pi/2) q[1];sx q[1];rz(-pi/2) q[1];sx q[2];rz(-pi/2) q[2];sx q[2];rz(pi/2) q[2];ecr q[2],q[1];rz(pi/2) q[1];sx q[1];rz(pi/2) q[1];sx q[1];rz(pi/2) q[2];sx q[2];rz(pi/2) q[2];rz(-pi/2) q[2];ecr q[2],q[1];rz(pi/2) q[1];rz(pi/2) q[1];sx q[1];rz(pi/2) q[1];rz(pi/2) q[1];ecr q[0],q[1];x q[0];barrier q[0],q[2],q[1];measure q[0] -> meas[0];measure q[2] -> meas[1];measure q[1] -> meas[2];', 'optimized_instruction_count': 172}, 'repetition_period': None, 'res_format': 'binary_count'}}}], 'date': '2025-05-27T19:08:07.579926'}\n"
     ]
    }
   ],
   "source": [
    "nqubits=3\n",
    "ghz = QuantumCircuit(nqubits)\n",
    "ghz.h(0)\n",
    "ghz.cx(0, range(1, nqubits))\n",
    "ghz.measure_all()\n",
    "try:\n",
    "    ghz_0=transpile(ghz,backend,optimization_level=0)\n",
    "    job=backend.run(ghz_0)\n",
    "    job.result().get_counts(ghz_0)\n",
    "    plot_histogram(job.result().get_counts(), title=\"Comparing Optimisation\")\n",
    "except:\n",
    "    print(\"ERROR: No está arreglado este punto\")"
   ]
  },
  {
   "cell_type": "code",
   "execution_count": 20,
   "id": "4e8276e3",
   "metadata": {},
   "outputs": [
    {
     "name": "stdout",
     "output_type": "stream",
     "text": [
      "2025-05-27 19:08:16,812 - QmioBackend/0.2.0 - INFO - Requested parameters: Shots 10000 - memory False - Repetition_period None - Res_format binary_count\n"
     ]
    },
    {
     "name": "stderr",
     "output_type": "stream",
     "text": [
      "2025-05-27 19:08:16,812 - QmioBackend/0.2.0 - INFO - Requested parameters: Shots 10000 - memory False - Repetition_period None - Res_format binary_count\n"
     ]
    },
    {
     "name": "stdout",
     "output_type": "stream",
     "text": [
      "2025-05-27 19:08:16,814 - QmioBackend/0.2.0 - DEBUG - Job id 708a7b0d-cbad-40cc-8197-fa8479a44c06\n"
     ]
    },
    {
     "name": "stderr",
     "output_type": "stream",
     "text": [
      "2025-05-27 19:08:16,814 - QmioBackend/0.2.0 - DEBUG - Job id 708a7b0d-cbad-40cc-8197-fa8479a44c06\n"
     ]
    },
    {
     "name": "stdout",
     "output_type": "stream",
     "text": [
      "2025-05-27 19:08:16,815 - QmioBackend/0.2.0 - DEBUG - Converting to OPENQASM 2.0\n"
     ]
    },
    {
     "name": "stderr",
     "output_type": "stream",
     "text": [
      "2025-05-27 19:08:16,815 - QmioBackend/0.2.0 - DEBUG - Converting to OPENQASM 2.0\n"
     ]
    },
    {
     "name": "stdout",
     "output_type": "stream",
     "text": [
      "2025-05-27 19:08:16,818 - QmioBackend/0.2.0 - DEBUG - Circuit to transform:\n",
      "OPENQASM 2.0;\n",
      "include \"qelib1.inc\";\n",
      "gate rzx(param0) q0,q1 { h q1; cx q0,q1; rz(param0) q1; cx q0,q1; h q1; }\n",
      "gate ecr q0,q1 { rzx(pi/4) q0,q1; x q0; rzx(-pi/4) q0,q1; }\n",
      "qreg q[32];\n",
      "creg meas[3];\n",
      "rz(pi/2) q[0];\n",
      "sx q[0];\n",
      "rz(pi/2) q[0];\n",
      "rz(-pi/2) q[0];\n",
      "rz(pi/2) q[1];\n",
      "rz(pi/2) q[1];\n",
      "sx q[1];\n",
      "rz(pi/2) q[1];\n",
      "rz(pi/2) q[1];\n",
      "ecr q[0],q[1];\n",
      "x q[0];\n",
      "rz(-pi/2) q[0];\n",
      "sx q[1];\n",
      "rz(-pi/2) q[2];\n",
      "ecr q[2],q[1];\n",
      "rz(-pi/2) q[1];\n",
      "rz(pi/2) q[1];\n",
      "sx q[1];\n",
      "rz(-pi/2) q[1];\n",
      "sx q[2];\n",
      "rz(-pi/2) q[2];\n",
      "sx q[2];\n",
      "rz(pi/2) q[2];\n",
      "ecr q[2],q[1];\n",
      "rz(pi/2) q[1];\n",
      "sx q[1];\n",
      "rz(pi/2) q[1];\n",
      "sx q[1];\n",
      "rz(pi/2) q[2];\n",
      "sx q[2];\n",
      "rz(pi/2) q[2];\n",
      "rz(-pi/2) q[2];\n",
      "ecr q[2],q[1];\n",
      "rz(pi/2) q[1];\n",
      "rz(pi/2) q[1];\n",
      "sx q[1];\n",
      "rz(pi/2) q[1];\n",
      "rz(pi/2) q[1];\n",
      "ecr q[0],q[1];\n",
      "x q[0];\n",
      "barrier q[0],q[2],q[1];\n",
      "measure q[0] -> meas[0];\n",
      "measure q[2] -> meas[1];\n",
      "measure q[1] -> meas[2];\n"
     ]
    },
    {
     "name": "stderr",
     "output_type": "stream",
     "text": [
      "2025-05-27 19:08:16,818 - QmioBackend/0.2.0 - DEBUG - Circuit to transform:\n",
      "OPENQASM 2.0;\n",
      "include \"qelib1.inc\";\n",
      "gate rzx(param0) q0,q1 { h q1; cx q0,q1; rz(param0) q1; cx q0,q1; h q1; }\n",
      "gate ecr q0,q1 { rzx(pi/4) q0,q1; x q0; rzx(-pi/4) q0,q1; }\n",
      "qreg q[32];\n",
      "creg meas[3];\n",
      "rz(pi/2) q[0];\n",
      "sx q[0];\n",
      "rz(pi/2) q[0];\n",
      "rz(-pi/2) q[0];\n",
      "rz(pi/2) q[1];\n",
      "rz(pi/2) q[1];\n",
      "sx q[1];\n",
      "rz(pi/2) q[1];\n",
      "rz(pi/2) q[1];\n",
      "ecr q[0],q[1];\n",
      "x q[0];\n",
      "rz(-pi/2) q[0];\n",
      "sx q[1];\n",
      "rz(-pi/2) q[2];\n",
      "ecr q[2],q[1];\n",
      "rz(-pi/2) q[1];\n",
      "rz(pi/2) q[1];\n",
      "sx q[1];\n",
      "rz(-pi/2) q[1];\n",
      "sx q[2];\n",
      "rz(-pi/2) q[2];\n",
      "sx q[2];\n",
      "rz(pi/2) q[2];\n",
      "ecr q[2],q[1];\n",
      "rz(pi/2) q[1];\n",
      "sx q[1];\n",
      "rz(pi/2) q[1];\n",
      "sx q[1];\n",
      "rz(pi/2) q[2];\n",
      "sx q[2];\n",
      "rz(pi/2) q[2];\n",
      "rz(-pi/2) q[2];\n",
      "ecr q[2],q[1];\n",
      "rz(pi/2) q[1];\n",
      "rz(pi/2) q[1];\n",
      "sx q[1];\n",
      "rz(pi/2) q[1];\n",
      "rz(pi/2) q[1];\n",
      "ecr q[0],q[1];\n",
      "x q[0];\n",
      "barrier q[0],q[2],q[1];\n",
      "measure q[0] -> meas[0];\n",
      "measure q[2] -> meas[1];\n",
      "measure q[1] -> meas[2];\n"
     ]
    },
    {
     "name": "stdout",
     "output_type": "stream",
     "text": [
      "2025-05-27 19:08:16,819 - QmioBackend/0.2.0 - INFO - QASM to execute OPENQASM 2.0;include \"qelib1.inc\";gate ecr q0, q1 {};qreg q[32];creg meas[3];rz(pi/2) q[0];sx q[0];rz(pi/2) q[0];rz(-pi/2) q[0];rz(pi/2) q[1];rz(pi/2) q[1];sx q[1];rz(pi/2) q[1];rz(pi/2) q[1];ecr q[0],q[1];x q[0];rz(-pi/2) q[0];sx q[1];rz(-pi/2) q[2];ecr q[2],q[1];rz(-pi/2) q[1];rz(pi/2) q[1];sx q[1];rz(-pi/2) q[1];sx q[2];rz(-pi/2) q[2];sx q[2];rz(pi/2) q[2];ecr q[2],q[1];rz(pi/2) q[1];sx q[1];rz(pi/2) q[1];sx q[1];rz(pi/2) q[2];sx q[2];rz(pi/2) q[2];rz(-pi/2) q[2];ecr q[2],q[1];rz(pi/2) q[1];rz(pi/2) q[1];sx q[1];rz(pi/2) q[1];rz(pi/2) q[1];ecr q[0],q[1];x q[0];barrier q[0],q[2],q[1];measure q[0] -> meas[0];measure q[2] -> meas[1];measure q[1] -> meas[2];\n"
     ]
    },
    {
     "name": "stderr",
     "output_type": "stream",
     "text": [
      "2025-05-27 19:08:16,819 - QmioBackend/0.2.0 - INFO - QASM to execute OPENQASM 2.0;include \"qelib1.inc\";gate ecr q0, q1 {};qreg q[32];creg meas[3];rz(pi/2) q[0];sx q[0];rz(pi/2) q[0];rz(-pi/2) q[0];rz(pi/2) q[1];rz(pi/2) q[1];sx q[1];rz(pi/2) q[1];rz(pi/2) q[1];ecr q[0],q[1];x q[0];rz(-pi/2) q[0];sx q[1];rz(-pi/2) q[2];ecr q[2],q[1];rz(-pi/2) q[1];rz(pi/2) q[1];sx q[1];rz(-pi/2) q[1];sx q[2];rz(-pi/2) q[2];sx q[2];rz(pi/2) q[2];ecr q[2],q[1];rz(pi/2) q[1];sx q[1];rz(pi/2) q[1];sx q[1];rz(pi/2) q[2];sx q[2];rz(pi/2) q[2];rz(-pi/2) q[2];ecr q[2],q[1];rz(pi/2) q[1];rz(pi/2) q[1];sx q[1];rz(pi/2) q[1];rz(pi/2) q[1];ecr q[0],q[1];x q[0];barrier q[0],q[2],q[1];measure q[0] -> meas[0];measure q[2] -> meas[1];measure q[1] -> meas[2];\n"
     ]
    },
    {
     "name": "stdout",
     "output_type": "stream",
     "text": [
      "2025-05-27 19:08:16,820 - QmioBackend/0.2.0 - INFO - Requesting SHOTS=10000\n"
     ]
    },
    {
     "name": "stderr",
     "output_type": "stream",
     "text": [
      "2025-05-27 19:08:16,820 - QmioBackend/0.2.0 - INFO - Requesting SHOTS=10000\n"
     ]
    },
    {
     "name": "stdout",
     "output_type": "stream",
     "text": [
      "2025-05-27 19:08:23,156 - QmioBackend/0.2.0 - DEBUG - Results:{'results': {'meas': {'011': 191, '010': 532, '111': 2218, '100': 927, '000': 4055, '110': 1042, '101': 742, '001': 293}}, 'execution_metrics': {'optimized_circuit': 'OPENQASM 2.0;include \"qelib1.inc\";gate ecr q0, q1 {};qreg q[32];creg meas[3];rz(pi/2) q[0];sx q[0];rz(pi/2) q[0];rz(-pi/2) q[0];rz(pi/2) q[1];rz(pi/2) q[1];sx q[1];rz(pi/2) q[1];rz(pi/2) q[1];ecr q[0],q[1];x q[0];rz(-pi/2) q[0];sx q[1];rz(-pi/2) q[2];ecr q[2],q[1];rz(-pi/2) q[1];rz(pi/2) q[1];sx q[1];rz(-pi/2) q[1];sx q[2];rz(-pi/2) q[2];sx q[2];rz(pi/2) q[2];ecr q[2],q[1];rz(pi/2) q[1];sx q[1];rz(pi/2) q[1];sx q[1];rz(pi/2) q[2];sx q[2];rz(pi/2) q[2];rz(-pi/2) q[2];ecr q[2],q[1];rz(pi/2) q[1];rz(pi/2) q[1];sx q[1];rz(pi/2) q[1];rz(pi/2) q[1];ecr q[0],q[1];x q[0];barrier q[0],q[2],q[1];measure q[0] -> meas[0];measure q[2] -> meas[1];measure q[1] -> meas[2];', 'optimized_instruction_count': 172}}\n"
     ]
    },
    {
     "name": "stderr",
     "output_type": "stream",
     "text": [
      "2025-05-27 19:08:23,156 - QmioBackend/0.2.0 - DEBUG - Results:{'results': {'meas': {'011': 191, '010': 532, '111': 2218, '100': 927, '000': 4055, '110': 1042, '101': 742, '001': 293}}, 'execution_metrics': {'optimized_circuit': 'OPENQASM 2.0;include \"qelib1.inc\";gate ecr q0, q1 {};qreg q[32];creg meas[3];rz(pi/2) q[0];sx q[0];rz(pi/2) q[0];rz(-pi/2) q[0];rz(pi/2) q[1];rz(pi/2) q[1];sx q[1];rz(pi/2) q[1];rz(pi/2) q[1];ecr q[0],q[1];x q[0];rz(-pi/2) q[0];sx q[1];rz(-pi/2) q[2];ecr q[2],q[1];rz(-pi/2) q[1];rz(pi/2) q[1];sx q[1];rz(-pi/2) q[1];sx q[2];rz(-pi/2) q[2];sx q[2];rz(pi/2) q[2];ecr q[2],q[1];rz(pi/2) q[1];sx q[1];rz(pi/2) q[1];sx q[1];rz(pi/2) q[2];sx q[2];rz(pi/2) q[2];rz(-pi/2) q[2];ecr q[2],q[1];rz(pi/2) q[1];rz(pi/2) q[1];sx q[1];rz(pi/2) q[1];rz(pi/2) q[1];ecr q[0],q[1];x q[0];barrier q[0],q[2],q[1];measure q[0] -> meas[0];measure q[2] -> meas[1];measure q[1] -> meas[2];', 'optimized_instruction_count': 172}}\n"
     ]
    },
    {
     "name": "stdout",
     "output_type": "stream",
     "text": [
      "2025-05-27 19:08:23,159 - QmioBackend/0.2.0 - DEBUG - Retorno counts: {'0x6': 191, '0x2': 532, '0x7': 2218, '0x1': 927, '0x0': 4055, '0x3': 1042, '0x5': 742, '0x4': 293}\n"
     ]
    },
    {
     "name": "stderr",
     "output_type": "stream",
     "text": [
      "2025-05-27 19:08:23,159 - QmioBackend/0.2.0 - DEBUG - Retorno counts: {'0x6': 191, '0x2': 532, '0x7': 2218, '0x1': 927, '0x0': 4055, '0x3': 1042, '0x5': 742, '0x4': 293}\n"
     ]
    },
    {
     "name": "stdout",
     "output_type": "stream",
     "text": [
      "2025-05-27 19:08:23,161 - QmioBackend/0.2.0 - DEBUG - Returning memory: []\n"
     ]
    },
    {
     "name": "stderr",
     "output_type": "stream",
     "text": [
      "2025-05-27 19:08:23,161 - QmioBackend/0.2.0 - DEBUG - Returning memory: []\n"
     ]
    },
    {
     "name": "stdout",
     "output_type": "stream",
     "text": [
      "2025-05-27 19:08:23,163 - QmioBackend/0.2.0 - DEBUG - Converting to OPENQASM 2.0\n"
     ]
    },
    {
     "name": "stderr",
     "output_type": "stream",
     "text": [
      "2025-05-27 19:08:23,163 - QmioBackend/0.2.0 - DEBUG - Converting to OPENQASM 2.0\n"
     ]
    },
    {
     "name": "stdout",
     "output_type": "stream",
     "text": [
      "2025-05-27 19:08:23,167 - QmioBackend/0.2.0 - DEBUG - Circuit to transform:\n",
      "OPENQASM 2.0;\n",
      "include \"qelib1.inc\";\n",
      "gate rzx(param0) q0,q1 { h q1; cx q0,q1; rz(param0) q1; cx q0,q1; h q1; }\n",
      "gate ecr q0,q1 { rzx(pi/4) q0,q1; x q0; rzx(-pi/4) q0,q1; }\n",
      "qreg q[32];\n",
      "creg meas[3];\n",
      "rz(-pi/2) q[15];\n",
      "sx q[15];\n",
      "rz(-pi) q[15];\n",
      "rz(-pi) q[16];\n",
      "sx q[16];\n",
      "rz(-pi/2) q[25];\n",
      "sx q[25];\n",
      "rz(-pi) q[25];\n",
      "ecr q[25],q[16];\n",
      "sx q[16];\n",
      "ecr q[15],q[16];\n",
      "rz(pi/2) q[15];\n",
      "sx q[15];\n",
      "rz(pi/2) q[15];\n",
      "rz(-pi/2) q[16];\n",
      "sx q[16];\n",
      "rz(pi/2) q[16];\n",
      "rz(pi/2) q[25];\n",
      "sx q[25];\n",
      "rz(pi/2) q[25];\n",
      "barrier q[16],q[25],q[15];\n",
      "measure q[16] -> meas[0];\n",
      "measure q[25] -> meas[1];\n",
      "measure q[15] -> meas[2];\n"
     ]
    },
    {
     "name": "stderr",
     "output_type": "stream",
     "text": [
      "2025-05-27 19:08:23,167 - QmioBackend/0.2.0 - DEBUG - Circuit to transform:\n",
      "OPENQASM 2.0;\n",
      "include \"qelib1.inc\";\n",
      "gate rzx(param0) q0,q1 { h q1; cx q0,q1; rz(param0) q1; cx q0,q1; h q1; }\n",
      "gate ecr q0,q1 { rzx(pi/4) q0,q1; x q0; rzx(-pi/4) q0,q1; }\n",
      "qreg q[32];\n",
      "creg meas[3];\n",
      "rz(-pi/2) q[15];\n",
      "sx q[15];\n",
      "rz(-pi) q[15];\n",
      "rz(-pi) q[16];\n",
      "sx q[16];\n",
      "rz(-pi/2) q[25];\n",
      "sx q[25];\n",
      "rz(-pi) q[25];\n",
      "ecr q[25],q[16];\n",
      "sx q[16];\n",
      "ecr q[15],q[16];\n",
      "rz(pi/2) q[15];\n",
      "sx q[15];\n",
      "rz(pi/2) q[15];\n",
      "rz(-pi/2) q[16];\n",
      "sx q[16];\n",
      "rz(pi/2) q[16];\n",
      "rz(pi/2) q[25];\n",
      "sx q[25];\n",
      "rz(pi/2) q[25];\n",
      "barrier q[16],q[25],q[15];\n",
      "measure q[16] -> meas[0];\n",
      "measure q[25] -> meas[1];\n",
      "measure q[15] -> meas[2];\n"
     ]
    },
    {
     "name": "stdout",
     "output_type": "stream",
     "text": [
      "2025-05-27 19:08:23,169 - QmioBackend/0.2.0 - INFO - QASM to execute OPENQASM 2.0;include \"qelib1.inc\";gate ecr q0, q1 {};qreg q[32];creg meas[3];rz(-pi/2) q[15];sx q[15];rz(-pi) q[15];rz(-pi) q[16];sx q[16];rz(-pi/2) q[25];sx q[25];rz(-pi) q[25];ecr q[25],q[16];sx q[16];ecr q[15],q[16];rz(pi/2) q[15];sx q[15];rz(pi/2) q[15];rz(-pi/2) q[16];sx q[16];rz(pi/2) q[16];rz(pi/2) q[25];sx q[25];rz(pi/2) q[25];barrier q[16],q[25],q[15];measure q[16] -> meas[0];measure q[25] -> meas[1];measure q[15] -> meas[2];\n"
     ]
    },
    {
     "name": "stderr",
     "output_type": "stream",
     "text": [
      "2025-05-27 19:08:23,169 - QmioBackend/0.2.0 - INFO - QASM to execute OPENQASM 2.0;include \"qelib1.inc\";gate ecr q0, q1 {};qreg q[32];creg meas[3];rz(-pi/2) q[15];sx q[15];rz(-pi) q[15];rz(-pi) q[16];sx q[16];rz(-pi/2) q[25];sx q[25];rz(-pi) q[25];ecr q[25],q[16];sx q[16];ecr q[15],q[16];rz(pi/2) q[15];sx q[15];rz(pi/2) q[15];rz(-pi/2) q[16];sx q[16];rz(pi/2) q[16];rz(pi/2) q[25];sx q[25];rz(pi/2) q[25];barrier q[16],q[25],q[15];measure q[16] -> meas[0];measure q[25] -> meas[1];measure q[15] -> meas[2];\n"
     ]
    },
    {
     "name": "stdout",
     "output_type": "stream",
     "text": [
      "2025-05-27 19:08:23,170 - QmioBackend/0.2.0 - INFO - Requesting SHOTS=10000\n"
     ]
    },
    {
     "name": "stderr",
     "output_type": "stream",
     "text": [
      "2025-05-27 19:08:23,170 - QmioBackend/0.2.0 - INFO - Requesting SHOTS=10000\n"
     ]
    },
    {
     "name": "stdout",
     "output_type": "stream",
     "text": [
      "2025-05-27 19:08:29,171 - QmioBackend/0.2.0 - DEBUG - Results:{'results': {'meas': {'000': 5067, '001': 439, '010': 1281, '100': 331, '111': 1515, '011': 497, '110': 585, '101': 285}}, 'execution_metrics': {'optimized_circuit': 'OPENQASM 2.0;include \"qelib1.inc\";gate ecr q0, q1 {};qreg q[32];creg meas[3];rz(-pi/2) q[15];sx q[15];rz(-pi) q[15];rz(-pi) q[16];sx q[16];rz(-pi/2) q[25];sx q[25];rz(-pi) q[25];ecr q[25],q[16];sx q[16];ecr q[15],q[16];rz(pi/2) q[15];sx q[15];rz(pi/2) q[15];rz(-pi/2) q[16];sx q[16];rz(pi/2) q[16];rz(pi/2) q[25];sx q[25];rz(pi/2) q[25];barrier q[16],q[25],q[15];measure q[16] -> meas[0];measure q[25] -> meas[1];measure q[15] -> meas[2];', 'optimized_instruction_count': 80}}\n"
     ]
    },
    {
     "name": "stderr",
     "output_type": "stream",
     "text": [
      "2025-05-27 19:08:29,171 - QmioBackend/0.2.0 - DEBUG - Results:{'results': {'meas': {'000': 5067, '001': 439, '010': 1281, '100': 331, '111': 1515, '011': 497, '110': 585, '101': 285}}, 'execution_metrics': {'optimized_circuit': 'OPENQASM 2.0;include \"qelib1.inc\";gate ecr q0, q1 {};qreg q[32];creg meas[3];rz(-pi/2) q[15];sx q[15];rz(-pi) q[15];rz(-pi) q[16];sx q[16];rz(-pi/2) q[25];sx q[25];rz(-pi) q[25];ecr q[25],q[16];sx q[16];ecr q[15],q[16];rz(pi/2) q[15];sx q[15];rz(pi/2) q[15];rz(-pi/2) q[16];sx q[16];rz(pi/2) q[16];rz(pi/2) q[25];sx q[25];rz(pi/2) q[25];barrier q[16],q[25],q[15];measure q[16] -> meas[0];measure q[25] -> meas[1];measure q[15] -> meas[2];', 'optimized_instruction_count': 80}}\n"
     ]
    },
    {
     "name": "stdout",
     "output_type": "stream",
     "text": [
      "2025-05-27 19:08:29,175 - QmioBackend/0.2.0 - DEBUG - Retorno counts: {'0x0': 5067, '0x4': 439, '0x2': 1281, '0x1': 331, '0x7': 1515, '0x6': 497, '0x3': 585, '0x5': 285}\n"
     ]
    },
    {
     "name": "stderr",
     "output_type": "stream",
     "text": [
      "2025-05-27 19:08:29,175 - QmioBackend/0.2.0 - DEBUG - Retorno counts: {'0x0': 5067, '0x4': 439, '0x2': 1281, '0x1': 331, '0x7': 1515, '0x6': 497, '0x3': 585, '0x5': 285}\n"
     ]
    },
    {
     "name": "stdout",
     "output_type": "stream",
     "text": [
      "2025-05-27 19:08:29,176 - QmioBackend/0.2.0 - DEBUG - Returning memory: []\n"
     ]
    },
    {
     "name": "stderr",
     "output_type": "stream",
     "text": [
      "2025-05-27 19:08:29,176 - QmioBackend/0.2.0 - DEBUG - Returning memory: []\n"
     ]
    },
    {
     "name": "stdout",
     "output_type": "stream",
     "text": [
      "2025-05-27 19:08:29,177 - QmioBackend/0.2.0 - DEBUG - Converting to OPENQASM 2.0\n"
     ]
    },
    {
     "name": "stderr",
     "output_type": "stream",
     "text": [
      "2025-05-27 19:08:29,177 - QmioBackend/0.2.0 - DEBUG - Converting to OPENQASM 2.0\n"
     ]
    },
    {
     "name": "stdout",
     "output_type": "stream",
     "text": [
      "2025-05-27 19:08:29,183 - QmioBackend/0.2.0 - DEBUG - Circuit to transform:\n",
      "OPENQASM 2.0;\n",
      "include \"qelib1.inc\";\n",
      "gate rzx(param0) q0,q1 { h q1; cx q0,q1; rz(param0) q1; cx q0,q1; h q1; }\n",
      "gate ecr q0,q1 { rzx(pi/4) q0,q1; x q0; rzx(-pi/4) q0,q1; }\n",
      "qreg q[32];\n",
      "creg meas[3];\n",
      "rz(-pi/2) q[15];\n",
      "sx q[15];\n",
      "rz(-pi) q[15];\n",
      "rz(-pi/2) q[16];\n",
      "sx q[16];\n",
      "rz(-0.5972446408684071) q[16];\n",
      "sx q[16];\n",
      "rz(-pi/2) q[16];\n",
      "rz(-pi/2) q[25];\n",
      "sx q[25];\n",
      "rz(3.0579999199330565) q[25];\n",
      "ecr q[25],q[16];\n",
      "rz(pi/2) q[16];\n",
      "sx q[16];\n",
      "rz(-0.5972446408684053) q[16];\n",
      "sx q[16];\n",
      "rz(-pi/2) q[16];\n",
      "ecr q[15],q[16];\n",
      "rz(pi/2) q[15];\n",
      "sx q[15];\n",
      "rz(pi/2) q[15];\n",
      "rz(-pi/2) q[16];\n",
      "sx q[16];\n",
      "rz(pi/2) q[16];\n",
      "rz(-1.6543890604516334) q[25];\n",
      "sx q[25];\n",
      "rz(pi/2) q[25];\n",
      "barrier q[16],q[25],q[15];\n",
      "measure q[16] -> meas[0];\n",
      "measure q[25] -> meas[1];\n",
      "measure q[15] -> meas[2];\n"
     ]
    },
    {
     "name": "stderr",
     "output_type": "stream",
     "text": [
      "2025-05-27 19:08:29,183 - QmioBackend/0.2.0 - DEBUG - Circuit to transform:\n",
      "OPENQASM 2.0;\n",
      "include \"qelib1.inc\";\n",
      "gate rzx(param0) q0,q1 { h q1; cx q0,q1; rz(param0) q1; cx q0,q1; h q1; }\n",
      "gate ecr q0,q1 { rzx(pi/4) q0,q1; x q0; rzx(-pi/4) q0,q1; }\n",
      "qreg q[32];\n",
      "creg meas[3];\n",
      "rz(-pi/2) q[15];\n",
      "sx q[15];\n",
      "rz(-pi) q[15];\n",
      "rz(-pi/2) q[16];\n",
      "sx q[16];\n",
      "rz(-0.5972446408684071) q[16];\n",
      "sx q[16];\n",
      "rz(-pi/2) q[16];\n",
      "rz(-pi/2) q[25];\n",
      "sx q[25];\n",
      "rz(3.0579999199330565) q[25];\n",
      "ecr q[25],q[16];\n",
      "rz(pi/2) q[16];\n",
      "sx q[16];\n",
      "rz(-0.5972446408684053) q[16];\n",
      "sx q[16];\n",
      "rz(-pi/2) q[16];\n",
      "ecr q[15],q[16];\n",
      "rz(pi/2) q[15];\n",
      "sx q[15];\n",
      "rz(pi/2) q[15];\n",
      "rz(-pi/2) q[16];\n",
      "sx q[16];\n",
      "rz(pi/2) q[16];\n",
      "rz(-1.6543890604516334) q[25];\n",
      "sx q[25];\n",
      "rz(pi/2) q[25];\n",
      "barrier q[16],q[25],q[15];\n",
      "measure q[16] -> meas[0];\n",
      "measure q[25] -> meas[1];\n",
      "measure q[15] -> meas[2];\n"
     ]
    },
    {
     "name": "stdout",
     "output_type": "stream",
     "text": [
      "2025-05-27 19:08:29,185 - QmioBackend/0.2.0 - INFO - QASM to execute OPENQASM 2.0;include \"qelib1.inc\";gate ecr q0, q1 {};qreg q[32];creg meas[3];rz(-pi/2) q[15];sx q[15];rz(-pi) q[15];rz(-pi/2) q[16];sx q[16];rz(-0.5972446408684071) q[16];sx q[16];rz(-pi/2) q[16];rz(-pi/2) q[25];sx q[25];rz(3.0579999199330565) q[25];ecr q[25],q[16];rz(pi/2) q[16];sx q[16];rz(-0.5972446408684053) q[16];sx q[16];rz(-pi/2) q[16];ecr q[15],q[16];rz(pi/2) q[15];sx q[15];rz(pi/2) q[15];rz(-pi/2) q[16];sx q[16];rz(pi/2) q[16];rz(-1.6543890604516334) q[25];sx q[25];rz(pi/2) q[25];barrier q[16],q[25],q[15];measure q[16] -> meas[0];measure q[25] -> meas[1];measure q[15] -> meas[2];\n"
     ]
    },
    {
     "name": "stderr",
     "output_type": "stream",
     "text": [
      "2025-05-27 19:08:29,185 - QmioBackend/0.2.0 - INFO - QASM to execute OPENQASM 2.0;include \"qelib1.inc\";gate ecr q0, q1 {};qreg q[32];creg meas[3];rz(-pi/2) q[15];sx q[15];rz(-pi) q[15];rz(-pi/2) q[16];sx q[16];rz(-0.5972446408684071) q[16];sx q[16];rz(-pi/2) q[16];rz(-pi/2) q[25];sx q[25];rz(3.0579999199330565) q[25];ecr q[25],q[16];rz(pi/2) q[16];sx q[16];rz(-0.5972446408684053) q[16];sx q[16];rz(-pi/2) q[16];ecr q[15],q[16];rz(pi/2) q[15];sx q[15];rz(pi/2) q[15];rz(-pi/2) q[16];sx q[16];rz(pi/2) q[16];rz(-1.6543890604516334) q[25];sx q[25];rz(pi/2) q[25];barrier q[16],q[25],q[15];measure q[16] -> meas[0];measure q[25] -> meas[1];measure q[15] -> meas[2];\n"
     ]
    },
    {
     "name": "stdout",
     "output_type": "stream",
     "text": [
      "2025-05-27 19:08:29,186 - QmioBackend/0.2.0 - INFO - Requesting SHOTS=10000\n"
     ]
    },
    {
     "name": "stderr",
     "output_type": "stream",
     "text": [
      "2025-05-27 19:08:29,186 - QmioBackend/0.2.0 - INFO - Requesting SHOTS=10000\n"
     ]
    },
    {
     "name": "stdout",
     "output_type": "stream",
     "text": [
      "2025-05-27 19:08:35,268 - QmioBackend/0.2.0 - DEBUG - Results:{'results': {'meas': {'111': 1767, '000': 4826, '101': 322, '010': 1001, '100': 476, '001': 551, '011': 343, '110': 714}}, 'execution_metrics': {'optimized_circuit': 'OPENQASM 2.0;include \"qelib1.inc\";gate ecr q0, q1 {};qreg q[32];creg meas[3];rz(-pi/2) q[15];sx q[15];rz(-pi) q[15];rz(-pi/2) q[16];sx q[16];rz(-0.5972446408684071) q[16];sx q[16];rz(-pi/2) q[16];rz(-pi/2) q[25];sx q[25];rz(3.0579999199330565) q[25];ecr q[25],q[16];rz(pi/2) q[16];sx q[16];rz(-0.5972446408684053) q[16];sx q[16];rz(-pi/2) q[16];ecr q[15],q[16];rz(pi/2) q[15];sx q[15];rz(pi/2) q[15];rz(-pi/2) q[16];sx q[16];rz(pi/2) q[16];rz(-1.6543890604516334) q[25];sx q[25];rz(pi/2) q[25];barrier q[16],q[25],q[15];measure q[16] -> meas[0];measure q[25] -> meas[1];measure q[15] -> meas[2];', 'optimized_instruction_count': 84}}\n"
     ]
    },
    {
     "name": "stderr",
     "output_type": "stream",
     "text": [
      "2025-05-27 19:08:35,268 - QmioBackend/0.2.0 - DEBUG - Results:{'results': {'meas': {'111': 1767, '000': 4826, '101': 322, '010': 1001, '100': 476, '001': 551, '011': 343, '110': 714}}, 'execution_metrics': {'optimized_circuit': 'OPENQASM 2.0;include \"qelib1.inc\";gate ecr q0, q1 {};qreg q[32];creg meas[3];rz(-pi/2) q[15];sx q[15];rz(-pi) q[15];rz(-pi/2) q[16];sx q[16];rz(-0.5972446408684071) q[16];sx q[16];rz(-pi/2) q[16];rz(-pi/2) q[25];sx q[25];rz(3.0579999199330565) q[25];ecr q[25],q[16];rz(pi/2) q[16];sx q[16];rz(-0.5972446408684053) q[16];sx q[16];rz(-pi/2) q[16];ecr q[15],q[16];rz(pi/2) q[15];sx q[15];rz(pi/2) q[15];rz(-pi/2) q[16];sx q[16];rz(pi/2) q[16];rz(-1.6543890604516334) q[25];sx q[25];rz(pi/2) q[25];barrier q[16],q[25],q[15];measure q[16] -> meas[0];measure q[25] -> meas[1];measure q[15] -> meas[2];', 'optimized_instruction_count': 84}}\n"
     ]
    },
    {
     "name": "stdout",
     "output_type": "stream",
     "text": [
      "2025-05-27 19:08:35,272 - QmioBackend/0.2.0 - DEBUG - Retorno counts: {'0x7': 1767, '0x0': 4826, '0x5': 322, '0x2': 1001, '0x1': 476, '0x4': 551, '0x6': 343, '0x3': 714}\n"
     ]
    },
    {
     "name": "stderr",
     "output_type": "stream",
     "text": [
      "2025-05-27 19:08:35,272 - QmioBackend/0.2.0 - DEBUG - Retorno counts: {'0x7': 1767, '0x0': 4826, '0x5': 322, '0x2': 1001, '0x1': 476, '0x4': 551, '0x6': 343, '0x3': 714}\n"
     ]
    },
    {
     "name": "stdout",
     "output_type": "stream",
     "text": [
      "2025-05-27 19:08:35,274 - QmioBackend/0.2.0 - DEBUG - Returning memory: []\n"
     ]
    },
    {
     "name": "stderr",
     "output_type": "stream",
     "text": [
      "2025-05-27 19:08:35,274 - QmioBackend/0.2.0 - DEBUG - Returning memory: []\n"
     ]
    },
    {
     "name": "stdout",
     "output_type": "stream",
     "text": [
      "2025-05-27 19:08:35,276 - QmioBackend/0.2.0 - DEBUG - Converting to OPENQASM 2.0\n"
     ]
    },
    {
     "name": "stderr",
     "output_type": "stream",
     "text": [
      "2025-05-27 19:08:35,276 - QmioBackend/0.2.0 - DEBUG - Converting to OPENQASM 2.0\n"
     ]
    },
    {
     "name": "stdout",
     "output_type": "stream",
     "text": [
      "2025-05-27 19:08:35,279 - QmioBackend/0.2.0 - DEBUG - Circuit to transform:\n",
      "OPENQASM 2.0;\n",
      "include \"qelib1.inc\";\n",
      "gate rzx(param0) q0,q1 { h q1; cx q0,q1; rz(param0) q1; cx q0,q1; h q1; }\n",
      "gate ecr q0,q1 { rzx(pi/4) q0,q1; x q0; rzx(-pi/4) q0,q1; }\n",
      "qreg q[32];\n",
      "creg meas[3];\n",
      "rz(-pi/2) q[15];\n",
      "sx q[15];\n",
      "rz(-pi) q[15];\n",
      "rz(-pi/2) q[16];\n",
      "sx q[16];\n",
      "rz(-0.5972446408684071) q[16];\n",
      "sx q[16];\n",
      "rz(-pi/2) q[16];\n",
      "rz(-pi/2) q[25];\n",
      "sx q[25];\n",
      "rz(3.0579999199330565) q[25];\n",
      "ecr q[25],q[16];\n",
      "rz(pi/2) q[16];\n",
      "sx q[16];\n",
      "rz(-0.5972446408684053) q[16];\n",
      "sx q[16];\n",
      "rz(-pi/2) q[16];\n",
      "ecr q[15],q[16];\n",
      "rz(pi/2) q[15];\n",
      "sx q[15];\n",
      "rz(pi/2) q[15];\n",
      "rz(-pi/2) q[16];\n",
      "sx q[16];\n",
      "rz(pi/2) q[16];\n",
      "rz(-1.6543890604516334) q[25];\n",
      "sx q[25];\n",
      "rz(pi/2) q[25];\n",
      "barrier q[16],q[25],q[15];\n",
      "measure q[16] -> meas[0];\n",
      "measure q[25] -> meas[1];\n",
      "measure q[15] -> meas[2];\n"
     ]
    },
    {
     "name": "stderr",
     "output_type": "stream",
     "text": [
      "2025-05-27 19:08:35,279 - QmioBackend/0.2.0 - DEBUG - Circuit to transform:\n",
      "OPENQASM 2.0;\n",
      "include \"qelib1.inc\";\n",
      "gate rzx(param0) q0,q1 { h q1; cx q0,q1; rz(param0) q1; cx q0,q1; h q1; }\n",
      "gate ecr q0,q1 { rzx(pi/4) q0,q1; x q0; rzx(-pi/4) q0,q1; }\n",
      "qreg q[32];\n",
      "creg meas[3];\n",
      "rz(-pi/2) q[15];\n",
      "sx q[15];\n",
      "rz(-pi) q[15];\n",
      "rz(-pi/2) q[16];\n",
      "sx q[16];\n",
      "rz(-0.5972446408684071) q[16];\n",
      "sx q[16];\n",
      "rz(-pi/2) q[16];\n",
      "rz(-pi/2) q[25];\n",
      "sx q[25];\n",
      "rz(3.0579999199330565) q[25];\n",
      "ecr q[25],q[16];\n",
      "rz(pi/2) q[16];\n",
      "sx q[16];\n",
      "rz(-0.5972446408684053) q[16];\n",
      "sx q[16];\n",
      "rz(-pi/2) q[16];\n",
      "ecr q[15],q[16];\n",
      "rz(pi/2) q[15];\n",
      "sx q[15];\n",
      "rz(pi/2) q[15];\n",
      "rz(-pi/2) q[16];\n",
      "sx q[16];\n",
      "rz(pi/2) q[16];\n",
      "rz(-1.6543890604516334) q[25];\n",
      "sx q[25];\n",
      "rz(pi/2) q[25];\n",
      "barrier q[16],q[25],q[15];\n",
      "measure q[16] -> meas[0];\n",
      "measure q[25] -> meas[1];\n",
      "measure q[15] -> meas[2];\n"
     ]
    },
    {
     "name": "stdout",
     "output_type": "stream",
     "text": [
      "2025-05-27 19:08:35,280 - QmioBackend/0.2.0 - INFO - QASM to execute OPENQASM 2.0;include \"qelib1.inc\";gate ecr q0, q1 {};qreg q[32];creg meas[3];rz(-pi/2) q[15];sx q[15];rz(-pi) q[15];rz(-pi/2) q[16];sx q[16];rz(-0.5972446408684071) q[16];sx q[16];rz(-pi/2) q[16];rz(-pi/2) q[25];sx q[25];rz(3.0579999199330565) q[25];ecr q[25],q[16];rz(pi/2) q[16];sx q[16];rz(-0.5972446408684053) q[16];sx q[16];rz(-pi/2) q[16];ecr q[15],q[16];rz(pi/2) q[15];sx q[15];rz(pi/2) q[15];rz(-pi/2) q[16];sx q[16];rz(pi/2) q[16];rz(-1.6543890604516334) q[25];sx q[25];rz(pi/2) q[25];barrier q[16],q[25],q[15];measure q[16] -> meas[0];measure q[25] -> meas[1];measure q[15] -> meas[2];\n"
     ]
    },
    {
     "name": "stderr",
     "output_type": "stream",
     "text": [
      "2025-05-27 19:08:35,280 - QmioBackend/0.2.0 - INFO - QASM to execute OPENQASM 2.0;include \"qelib1.inc\";gate ecr q0, q1 {};qreg q[32];creg meas[3];rz(-pi/2) q[15];sx q[15];rz(-pi) q[15];rz(-pi/2) q[16];sx q[16];rz(-0.5972446408684071) q[16];sx q[16];rz(-pi/2) q[16];rz(-pi/2) q[25];sx q[25];rz(3.0579999199330565) q[25];ecr q[25],q[16];rz(pi/2) q[16];sx q[16];rz(-0.5972446408684053) q[16];sx q[16];rz(-pi/2) q[16];ecr q[15],q[16];rz(pi/2) q[15];sx q[15];rz(pi/2) q[15];rz(-pi/2) q[16];sx q[16];rz(pi/2) q[16];rz(-1.6543890604516334) q[25];sx q[25];rz(pi/2) q[25];barrier q[16],q[25],q[15];measure q[16] -> meas[0];measure q[25] -> meas[1];measure q[15] -> meas[2];\n"
     ]
    },
    {
     "name": "stdout",
     "output_type": "stream",
     "text": [
      "2025-05-27 19:08:35,281 - QmioBackend/0.2.0 - INFO - Requesting SHOTS=10000\n"
     ]
    },
    {
     "name": "stderr",
     "output_type": "stream",
     "text": [
      "2025-05-27 19:08:35,281 - QmioBackend/0.2.0 - INFO - Requesting SHOTS=10000\n"
     ]
    },
    {
     "name": "stdout",
     "output_type": "stream",
     "text": [
      "2025-05-27 19:08:41,286 - QmioBackend/0.2.0 - DEBUG - Results:{'results': {'meas': {'110': 455, '100': 423, '000': 4717, '111': 2184, '101': 314, '010': 993, '001': 574, '011': 340}}, 'execution_metrics': {'optimized_circuit': 'OPENQASM 2.0;include \"qelib1.inc\";gate ecr q0, q1 {};qreg q[32];creg meas[3];rz(-pi/2) q[15];sx q[15];rz(-pi) q[15];rz(-pi/2) q[16];sx q[16];rz(-0.5972446408684071) q[16];sx q[16];rz(-pi/2) q[16];rz(-pi/2) q[25];sx q[25];rz(3.0579999199330565) q[25];ecr q[25],q[16];rz(pi/2) q[16];sx q[16];rz(-0.5972446408684053) q[16];sx q[16];rz(-pi/2) q[16];ecr q[15],q[16];rz(pi/2) q[15];sx q[15];rz(pi/2) q[15];rz(-pi/2) q[16];sx q[16];rz(pi/2) q[16];rz(-1.6543890604516334) q[25];sx q[25];rz(pi/2) q[25];barrier q[16],q[25],q[15];measure q[16] -> meas[0];measure q[25] -> meas[1];measure q[15] -> meas[2];', 'optimized_instruction_count': 84}}\n"
     ]
    },
    {
     "name": "stderr",
     "output_type": "stream",
     "text": [
      "2025-05-27 19:08:41,286 - QmioBackend/0.2.0 - DEBUG - Results:{'results': {'meas': {'110': 455, '100': 423, '000': 4717, '111': 2184, '101': 314, '010': 993, '001': 574, '011': 340}}, 'execution_metrics': {'optimized_circuit': 'OPENQASM 2.0;include \"qelib1.inc\";gate ecr q0, q1 {};qreg q[32];creg meas[3];rz(-pi/2) q[15];sx q[15];rz(-pi) q[15];rz(-pi/2) q[16];sx q[16];rz(-0.5972446408684071) q[16];sx q[16];rz(-pi/2) q[16];rz(-pi/2) q[25];sx q[25];rz(3.0579999199330565) q[25];ecr q[25],q[16];rz(pi/2) q[16];sx q[16];rz(-0.5972446408684053) q[16];sx q[16];rz(-pi/2) q[16];ecr q[15],q[16];rz(pi/2) q[15];sx q[15];rz(pi/2) q[15];rz(-pi/2) q[16];sx q[16];rz(pi/2) q[16];rz(-1.6543890604516334) q[25];sx q[25];rz(pi/2) q[25];barrier q[16],q[25],q[15];measure q[16] -> meas[0];measure q[25] -> meas[1];measure q[15] -> meas[2];', 'optimized_instruction_count': 84}}\n"
     ]
    },
    {
     "name": "stdout",
     "output_type": "stream",
     "text": [
      "2025-05-27 19:08:41,290 - QmioBackend/0.2.0 - DEBUG - Retorno counts: {'0x3': 455, '0x1': 423, '0x0': 4717, '0x7': 2184, '0x5': 314, '0x2': 993, '0x4': 574, '0x6': 340}\n"
     ]
    },
    {
     "name": "stderr",
     "output_type": "stream",
     "text": [
      "2025-05-27 19:08:41,290 - QmioBackend/0.2.0 - DEBUG - Retorno counts: {'0x3': 455, '0x1': 423, '0x0': 4717, '0x7': 2184, '0x5': 314, '0x2': 993, '0x4': 574, '0x6': 340}\n"
     ]
    },
    {
     "name": "stdout",
     "output_type": "stream",
     "text": [
      "2025-05-27 19:08:41,293 - QmioBackend/0.2.0 - DEBUG - Returning memory: []\n"
     ]
    },
    {
     "name": "stderr",
     "output_type": "stream",
     "text": [
      "2025-05-27 19:08:41,293 - QmioBackend/0.2.0 - DEBUG - Returning memory: []\n"
     ]
    },
    {
     "name": "stdout",
     "output_type": "stream",
     "text": [
      "2025-05-27 19:08:41,295 - QmioBackend/0.2.0 - DEBUG - Final Results returned: {'backend_name': 'Qmio', 'backend_version': '0.2.0', 'qobj_id': None, 'job_id': UUID('708a7b0d-cbad-40cc-8197-fa8479a44c06'), 'success': True, 'results': [{'shots': 10000, 'success': True, 'header': {'name': 'circuit-177', 'creg_sizes': [['meas', 3]], 'memory_slots': 3, 'n_qubits': 32, 'qreg_sizes': [['q', 32]], 'metadata': {'execution_metrics': {'optimized_circuit': 'OPENQASM 2.0;include \"qelib1.inc\";gate ecr q0, q1 {};qreg q[32];creg meas[3];rz(pi/2) q[0];sx q[0];rz(pi/2) q[0];rz(-pi/2) q[0];rz(pi/2) q[1];rz(pi/2) q[1];sx q[1];rz(pi/2) q[1];rz(pi/2) q[1];ecr q[0],q[1];x q[0];rz(-pi/2) q[0];sx q[1];rz(-pi/2) q[2];ecr q[2],q[1];rz(-pi/2) q[1];rz(pi/2) q[1];sx q[1];rz(-pi/2) q[1];sx q[2];rz(-pi/2) q[2];sx q[2];rz(pi/2) q[2];ecr q[2],q[1];rz(pi/2) q[1];sx q[1];rz(pi/2) q[1];sx q[1];rz(pi/2) q[2];sx q[2];rz(pi/2) q[2];rz(-pi/2) q[2];ecr q[2],q[1];rz(pi/2) q[1];rz(pi/2) q[1];sx q[1];rz(pi/2) q[1];rz(pi/2) q[1];ecr q[0],q[1];x q[0];barrier q[0],q[2],q[1];measure q[0] -> meas[0];measure q[2] -> meas[1];measure q[1] -> meas[2];', 'optimized_instruction_count': 172}, 'repetition_period': None, 'res_format': 'binary_count'}}, 'data': {'counts': {'0x6': 191, '0x2': 532, '0x7': 2218, '0x1': 927, '0x0': 4055, '0x3': 1042, '0x5': 742, '0x4': 293}, 'metadata': {'execution_metrics': {'optimized_circuit': 'OPENQASM 2.0;include \"qelib1.inc\";gate ecr q0, q1 {};qreg q[32];creg meas[3];rz(pi/2) q[0];sx q[0];rz(pi/2) q[0];rz(-pi/2) q[0];rz(pi/2) q[1];rz(pi/2) q[1];sx q[1];rz(pi/2) q[1];rz(pi/2) q[1];ecr q[0],q[1];x q[0];rz(-pi/2) q[0];sx q[1];rz(-pi/2) q[2];ecr q[2],q[1];rz(-pi/2) q[1];rz(pi/2) q[1];sx q[1];rz(-pi/2) q[1];sx q[2];rz(-pi/2) q[2];sx q[2];rz(pi/2) q[2];ecr q[2],q[1];rz(pi/2) q[1];sx q[1];rz(pi/2) q[1];sx q[1];rz(pi/2) q[2];sx q[2];rz(pi/2) q[2];rz(-pi/2) q[2];ecr q[2],q[1];rz(pi/2) q[1];rz(pi/2) q[1];sx q[1];rz(pi/2) q[1];rz(pi/2) q[1];ecr q[0],q[1];x q[0];barrier q[0],q[2],q[1];measure q[0] -> meas[0];measure q[2] -> meas[1];measure q[1] -> meas[2];', 'optimized_instruction_count': 172}, 'repetition_period': None, 'res_format': 'binary_count'}}}, {'shots': 10000, 'success': True, 'header': {'name': 'circuit-177_1', 'creg_sizes': [['meas', 3]], 'memory_slots': 3, 'n_qubits': 32, 'qreg_sizes': [['q', 32]], 'metadata': {'execution_metrics': {'optimized_circuit': 'OPENQASM 2.0;include \"qelib1.inc\";gate ecr q0, q1 {};qreg q[32];creg meas[3];rz(-pi/2) q[15];sx q[15];rz(-pi) q[15];rz(-pi) q[16];sx q[16];rz(-pi/2) q[25];sx q[25];rz(-pi) q[25];ecr q[25],q[16];sx q[16];ecr q[15],q[16];rz(pi/2) q[15];sx q[15];rz(pi/2) q[15];rz(-pi/2) q[16];sx q[16];rz(pi/2) q[16];rz(pi/2) q[25];sx q[25];rz(pi/2) q[25];barrier q[16],q[25],q[15];measure q[16] -> meas[0];measure q[25] -> meas[1];measure q[15] -> meas[2];', 'optimized_instruction_count': 80}, 'repetition_period': None, 'res_format': 'binary_count'}}, 'data': {'counts': {'0x0': 5067, '0x4': 439, '0x2': 1281, '0x1': 331, '0x7': 1515, '0x6': 497, '0x3': 585, '0x5': 285}, 'metadata': {'execution_metrics': {'optimized_circuit': 'OPENQASM 2.0;include \"qelib1.inc\";gate ecr q0, q1 {};qreg q[32];creg meas[3];rz(-pi/2) q[15];sx q[15];rz(-pi) q[15];rz(-pi) q[16];sx q[16];rz(-pi/2) q[25];sx q[25];rz(-pi) q[25];ecr q[25],q[16];sx q[16];ecr q[15],q[16];rz(pi/2) q[15];sx q[15];rz(pi/2) q[15];rz(-pi/2) q[16];sx q[16];rz(pi/2) q[16];rz(pi/2) q[25];sx q[25];rz(pi/2) q[25];barrier q[16],q[25],q[15];measure q[16] -> meas[0];measure q[25] -> meas[1];measure q[15] -> meas[2];', 'optimized_instruction_count': 80}, 'repetition_period': None, 'res_format': 'binary_count'}}}, {'shots': 10000, 'success': True, 'header': {'name': 'circuit-177_1_2', 'creg_sizes': [['meas', 3]], 'memory_slots': 3, 'n_qubits': 32, 'qreg_sizes': [['q', 32]], 'metadata': {'execution_metrics': {'optimized_circuit': 'OPENQASM 2.0;include \"qelib1.inc\";gate ecr q0, q1 {};qreg q[32];creg meas[3];rz(-pi/2) q[15];sx q[15];rz(-pi) q[15];rz(-pi/2) q[16];sx q[16];rz(-0.5972446408684071) q[16];sx q[16];rz(-pi/2) q[16];rz(-pi/2) q[25];sx q[25];rz(3.0579999199330565) q[25];ecr q[25],q[16];rz(pi/2) q[16];sx q[16];rz(-0.5972446408684053) q[16];sx q[16];rz(-pi/2) q[16];ecr q[15],q[16];rz(pi/2) q[15];sx q[15];rz(pi/2) q[15];rz(-pi/2) q[16];sx q[16];rz(pi/2) q[16];rz(-1.6543890604516334) q[25];sx q[25];rz(pi/2) q[25];barrier q[16],q[25],q[15];measure q[16] -> meas[0];measure q[25] -> meas[1];measure q[15] -> meas[2];', 'optimized_instruction_count': 84}, 'repetition_period': None, 'res_format': 'binary_count'}}, 'data': {'counts': {'0x7': 1767, '0x0': 4826, '0x5': 322, '0x2': 1001, '0x1': 476, '0x4': 551, '0x6': 343, '0x3': 714}, 'metadata': {'execution_metrics': {'optimized_circuit': 'OPENQASM 2.0;include \"qelib1.inc\";gate ecr q0, q1 {};qreg q[32];creg meas[3];rz(-pi/2) q[15];sx q[15];rz(-pi) q[15];rz(-pi/2) q[16];sx q[16];rz(-0.5972446408684071) q[16];sx q[16];rz(-pi/2) q[16];rz(-pi/2) q[25];sx q[25];rz(3.0579999199330565) q[25];ecr q[25],q[16];rz(pi/2) q[16];sx q[16];rz(-0.5972446408684053) q[16];sx q[16];rz(-pi/2) q[16];ecr q[15],q[16];rz(pi/2) q[15];sx q[15];rz(pi/2) q[15];rz(-pi/2) q[16];sx q[16];rz(pi/2) q[16];rz(-1.6543890604516334) q[25];sx q[25];rz(pi/2) q[25];barrier q[16],q[25],q[15];measure q[16] -> meas[0];measure q[25] -> meas[1];measure q[15] -> meas[2];', 'optimized_instruction_count': 84}, 'repetition_period': None, 'res_format': 'binary_count'}}}, {'shots': 10000, 'success': True, 'header': {'name': 'circuit-177_1_3', 'creg_sizes': [['meas', 3]], 'memory_slots': 3, 'n_qubits': 32, 'qreg_sizes': [['q', 32]], 'metadata': {'execution_metrics': {'optimized_circuit': 'OPENQASM 2.0;include \"qelib1.inc\";gate ecr q0, q1 {};qreg q[32];creg meas[3];rz(-pi/2) q[15];sx q[15];rz(-pi) q[15];rz(-pi/2) q[16];sx q[16];rz(-0.5972446408684071) q[16];sx q[16];rz(-pi/2) q[16];rz(-pi/2) q[25];sx q[25];rz(3.0579999199330565) q[25];ecr q[25],q[16];rz(pi/2) q[16];sx q[16];rz(-0.5972446408684053) q[16];sx q[16];rz(-pi/2) q[16];ecr q[15],q[16];rz(pi/2) q[15];sx q[15];rz(pi/2) q[15];rz(-pi/2) q[16];sx q[16];rz(pi/2) q[16];rz(-1.6543890604516334) q[25];sx q[25];rz(pi/2) q[25];barrier q[16],q[25],q[15];measure q[16] -> meas[0];measure q[25] -> meas[1];measure q[15] -> meas[2];', 'optimized_instruction_count': 84}, 'repetition_period': None, 'res_format': 'binary_count'}}, 'data': {'counts': {'0x3': 455, '0x1': 423, '0x0': 4717, '0x7': 2184, '0x5': 314, '0x2': 993, '0x4': 574, '0x6': 340}, 'metadata': {'execution_metrics': {'optimized_circuit': 'OPENQASM 2.0;include \"qelib1.inc\";gate ecr q0, q1 {};qreg q[32];creg meas[3];rz(-pi/2) q[15];sx q[15];rz(-pi) q[15];rz(-pi/2) q[16];sx q[16];rz(-0.5972446408684071) q[16];sx q[16];rz(-pi/2) q[16];rz(-pi/2) q[25];sx q[25];rz(3.0579999199330565) q[25];ecr q[25],q[16];rz(pi/2) q[16];sx q[16];rz(-0.5972446408684053) q[16];sx q[16];rz(-pi/2) q[16];ecr q[15],q[16];rz(pi/2) q[15];sx q[15];rz(pi/2) q[15];rz(-pi/2) q[16];sx q[16];rz(pi/2) q[16];rz(-1.6543890604516334) q[25];sx q[25];rz(pi/2) q[25];barrier q[16],q[25],q[15];measure q[16] -> meas[0];measure q[25] -> meas[1];measure q[15] -> meas[2];', 'optimized_instruction_count': 84}, 'repetition_period': None, 'res_format': 'binary_count'}}}], 'date': '2025-05-27T19:08:41.295108'}\n"
     ]
    },
    {
     "name": "stderr",
     "output_type": "stream",
     "text": [
      "2025-05-27 19:08:41,295 - QmioBackend/0.2.0 - DEBUG - Final Results returned: {'backend_name': 'Qmio', 'backend_version': '0.2.0', 'qobj_id': None, 'job_id': UUID('708a7b0d-cbad-40cc-8197-fa8479a44c06'), 'success': True, 'results': [{'shots': 10000, 'success': True, 'header': {'name': 'circuit-177', 'creg_sizes': [['meas', 3]], 'memory_slots': 3, 'n_qubits': 32, 'qreg_sizes': [['q', 32]], 'metadata': {'execution_metrics': {'optimized_circuit': 'OPENQASM 2.0;include \"qelib1.inc\";gate ecr q0, q1 {};qreg q[32];creg meas[3];rz(pi/2) q[0];sx q[0];rz(pi/2) q[0];rz(-pi/2) q[0];rz(pi/2) q[1];rz(pi/2) q[1];sx q[1];rz(pi/2) q[1];rz(pi/2) q[1];ecr q[0],q[1];x q[0];rz(-pi/2) q[0];sx q[1];rz(-pi/2) q[2];ecr q[2],q[1];rz(-pi/2) q[1];rz(pi/2) q[1];sx q[1];rz(-pi/2) q[1];sx q[2];rz(-pi/2) q[2];sx q[2];rz(pi/2) q[2];ecr q[2],q[1];rz(pi/2) q[1];sx q[1];rz(pi/2) q[1];sx q[1];rz(pi/2) q[2];sx q[2];rz(pi/2) q[2];rz(-pi/2) q[2];ecr q[2],q[1];rz(pi/2) q[1];rz(pi/2) q[1];sx q[1];rz(pi/2) q[1];rz(pi/2) q[1];ecr q[0],q[1];x q[0];barrier q[0],q[2],q[1];measure q[0] -> meas[0];measure q[2] -> meas[1];measure q[1] -> meas[2];', 'optimized_instruction_count': 172}, 'repetition_period': None, 'res_format': 'binary_count'}}, 'data': {'counts': {'0x6': 191, '0x2': 532, '0x7': 2218, '0x1': 927, '0x0': 4055, '0x3': 1042, '0x5': 742, '0x4': 293}, 'metadata': {'execution_metrics': {'optimized_circuit': 'OPENQASM 2.0;include \"qelib1.inc\";gate ecr q0, q1 {};qreg q[32];creg meas[3];rz(pi/2) q[0];sx q[0];rz(pi/2) q[0];rz(-pi/2) q[0];rz(pi/2) q[1];rz(pi/2) q[1];sx q[1];rz(pi/2) q[1];rz(pi/2) q[1];ecr q[0],q[1];x q[0];rz(-pi/2) q[0];sx q[1];rz(-pi/2) q[2];ecr q[2],q[1];rz(-pi/2) q[1];rz(pi/2) q[1];sx q[1];rz(-pi/2) q[1];sx q[2];rz(-pi/2) q[2];sx q[2];rz(pi/2) q[2];ecr q[2],q[1];rz(pi/2) q[1];sx q[1];rz(pi/2) q[1];sx q[1];rz(pi/2) q[2];sx q[2];rz(pi/2) q[2];rz(-pi/2) q[2];ecr q[2],q[1];rz(pi/2) q[1];rz(pi/2) q[1];sx q[1];rz(pi/2) q[1];rz(pi/2) q[1];ecr q[0],q[1];x q[0];barrier q[0],q[2],q[1];measure q[0] -> meas[0];measure q[2] -> meas[1];measure q[1] -> meas[2];', 'optimized_instruction_count': 172}, 'repetition_period': None, 'res_format': 'binary_count'}}}, {'shots': 10000, 'success': True, 'header': {'name': 'circuit-177_1', 'creg_sizes': [['meas', 3]], 'memory_slots': 3, 'n_qubits': 32, 'qreg_sizes': [['q', 32]], 'metadata': {'execution_metrics': {'optimized_circuit': 'OPENQASM 2.0;include \"qelib1.inc\";gate ecr q0, q1 {};qreg q[32];creg meas[3];rz(-pi/2) q[15];sx q[15];rz(-pi) q[15];rz(-pi) q[16];sx q[16];rz(-pi/2) q[25];sx q[25];rz(-pi) q[25];ecr q[25],q[16];sx q[16];ecr q[15],q[16];rz(pi/2) q[15];sx q[15];rz(pi/2) q[15];rz(-pi/2) q[16];sx q[16];rz(pi/2) q[16];rz(pi/2) q[25];sx q[25];rz(pi/2) q[25];barrier q[16],q[25],q[15];measure q[16] -> meas[0];measure q[25] -> meas[1];measure q[15] -> meas[2];', 'optimized_instruction_count': 80}, 'repetition_period': None, 'res_format': 'binary_count'}}, 'data': {'counts': {'0x0': 5067, '0x4': 439, '0x2': 1281, '0x1': 331, '0x7': 1515, '0x6': 497, '0x3': 585, '0x5': 285}, 'metadata': {'execution_metrics': {'optimized_circuit': 'OPENQASM 2.0;include \"qelib1.inc\";gate ecr q0, q1 {};qreg q[32];creg meas[3];rz(-pi/2) q[15];sx q[15];rz(-pi) q[15];rz(-pi) q[16];sx q[16];rz(-pi/2) q[25];sx q[25];rz(-pi) q[25];ecr q[25],q[16];sx q[16];ecr q[15],q[16];rz(pi/2) q[15];sx q[15];rz(pi/2) q[15];rz(-pi/2) q[16];sx q[16];rz(pi/2) q[16];rz(pi/2) q[25];sx q[25];rz(pi/2) q[25];barrier q[16],q[25],q[15];measure q[16] -> meas[0];measure q[25] -> meas[1];measure q[15] -> meas[2];', 'optimized_instruction_count': 80}, 'repetition_period': None, 'res_format': 'binary_count'}}}, {'shots': 10000, 'success': True, 'header': {'name': 'circuit-177_1_2', 'creg_sizes': [['meas', 3]], 'memory_slots': 3, 'n_qubits': 32, 'qreg_sizes': [['q', 32]], 'metadata': {'execution_metrics': {'optimized_circuit': 'OPENQASM 2.0;include \"qelib1.inc\";gate ecr q0, q1 {};qreg q[32];creg meas[3];rz(-pi/2) q[15];sx q[15];rz(-pi) q[15];rz(-pi/2) q[16];sx q[16];rz(-0.5972446408684071) q[16];sx q[16];rz(-pi/2) q[16];rz(-pi/2) q[25];sx q[25];rz(3.0579999199330565) q[25];ecr q[25],q[16];rz(pi/2) q[16];sx q[16];rz(-0.5972446408684053) q[16];sx q[16];rz(-pi/2) q[16];ecr q[15],q[16];rz(pi/2) q[15];sx q[15];rz(pi/2) q[15];rz(-pi/2) q[16];sx q[16];rz(pi/2) q[16];rz(-1.6543890604516334) q[25];sx q[25];rz(pi/2) q[25];barrier q[16],q[25],q[15];measure q[16] -> meas[0];measure q[25] -> meas[1];measure q[15] -> meas[2];', 'optimized_instruction_count': 84}, 'repetition_period': None, 'res_format': 'binary_count'}}, 'data': {'counts': {'0x7': 1767, '0x0': 4826, '0x5': 322, '0x2': 1001, '0x1': 476, '0x4': 551, '0x6': 343, '0x3': 714}, 'metadata': {'execution_metrics': {'optimized_circuit': 'OPENQASM 2.0;include \"qelib1.inc\";gate ecr q0, q1 {};qreg q[32];creg meas[3];rz(-pi/2) q[15];sx q[15];rz(-pi) q[15];rz(-pi/2) q[16];sx q[16];rz(-0.5972446408684071) q[16];sx q[16];rz(-pi/2) q[16];rz(-pi/2) q[25];sx q[25];rz(3.0579999199330565) q[25];ecr q[25],q[16];rz(pi/2) q[16];sx q[16];rz(-0.5972446408684053) q[16];sx q[16];rz(-pi/2) q[16];ecr q[15],q[16];rz(pi/2) q[15];sx q[15];rz(pi/2) q[15];rz(-pi/2) q[16];sx q[16];rz(pi/2) q[16];rz(-1.6543890604516334) q[25];sx q[25];rz(pi/2) q[25];barrier q[16],q[25],q[15];measure q[16] -> meas[0];measure q[25] -> meas[1];measure q[15] -> meas[2];', 'optimized_instruction_count': 84}, 'repetition_period': None, 'res_format': 'binary_count'}}}, {'shots': 10000, 'success': True, 'header': {'name': 'circuit-177_1_3', 'creg_sizes': [['meas', 3]], 'memory_slots': 3, 'n_qubits': 32, 'qreg_sizes': [['q', 32]], 'metadata': {'execution_metrics': {'optimized_circuit': 'OPENQASM 2.0;include \"qelib1.inc\";gate ecr q0, q1 {};qreg q[32];creg meas[3];rz(-pi/2) q[15];sx q[15];rz(-pi) q[15];rz(-pi/2) q[16];sx q[16];rz(-0.5972446408684071) q[16];sx q[16];rz(-pi/2) q[16];rz(-pi/2) q[25];sx q[25];rz(3.0579999199330565) q[25];ecr q[25],q[16];rz(pi/2) q[16];sx q[16];rz(-0.5972446408684053) q[16];sx q[16];rz(-pi/2) q[16];ecr q[15],q[16];rz(pi/2) q[15];sx q[15];rz(pi/2) q[15];rz(-pi/2) q[16];sx q[16];rz(pi/2) q[16];rz(-1.6543890604516334) q[25];sx q[25];rz(pi/2) q[25];barrier q[16],q[25],q[15];measure q[16] -> meas[0];measure q[25] -> meas[1];measure q[15] -> meas[2];', 'optimized_instruction_count': 84}, 'repetition_period': None, 'res_format': 'binary_count'}}, 'data': {'counts': {'0x3': 455, '0x1': 423, '0x0': 4717, '0x7': 2184, '0x5': 314, '0x2': 993, '0x4': 574, '0x6': 340}, 'metadata': {'execution_metrics': {'optimized_circuit': 'OPENQASM 2.0;include \"qelib1.inc\";gate ecr q0, q1 {};qreg q[32];creg meas[3];rz(-pi/2) q[15];sx q[15];rz(-pi) q[15];rz(-pi/2) q[16];sx q[16];rz(-0.5972446408684071) q[16];sx q[16];rz(-pi/2) q[16];rz(-pi/2) q[25];sx q[25];rz(3.0579999199330565) q[25];ecr q[25],q[16];rz(pi/2) q[16];sx q[16];rz(-0.5972446408684053) q[16];sx q[16];rz(-pi/2) q[16];ecr q[15],q[16];rz(pi/2) q[15];sx q[15];rz(pi/2) q[15];rz(-pi/2) q[16];sx q[16];rz(pi/2) q[16];rz(-1.6543890604516334) q[25];sx q[25];rz(pi/2) q[25];barrier q[16],q[25],q[15];measure q[16] -> meas[0];measure q[25] -> meas[1];measure q[15] -> meas[2];', 'optimized_instruction_count': 84}, 'repetition_period': None, 'res_format': 'binary_count'}}}], 'date': '2025-05-27T19:08:41.295108'}\n"
     ]
    },
    {
     "data": {
      "image/png": "[encoded data removed]",
      "text/plain": [
       "<Figure size 432x288 with 1 Axes>"
      ]
     },
     "execution_count": 20,
     "metadata": {},
     "output_type": "execute_result"
    }
   ],
   "source": [
    "ghz_1=transpile(ghz,backend,optimization_level=1)\n",
    "ghz_1.name=ghz_1.name+\"_1\"\n",
    "ghz_2=transpile(ghz,backend,optimization_level=2)\n",
    "ghz_2.name=ghz_1.name+\"_2\"\n",
    "ghz_3=transpile(ghz,backend,optimization_level=3)\n",
    "ghz_3.name=ghz_1.name+\"_3\"\n",
    "job=backend.run([ghz_0,ghz_1,ghz_2,ghz_3])\n",
    "plot_histogram(job.result().get_counts(), title=\"Comparing Optimisation\",legend=[ghz_0.name,ghz_1.name,ghz_2.name,ghz_3.name])"
   ]
  },
  {
   "cell_type": "code",
   "execution_count": 21,
   "id": "84eb3873",
   "metadata": {},
   "outputs": [
    {
     "name": "stdout",
     "output_type": "stream",
     "text": [
      "Importing calibrations from  /opt/cesga/qmio/hpc/calibrations/2025_05_27__12_00_02.json\n"
     ]
    },
    {
     "data": {
      "image/png": "[encoded data removed]",
      "text/plain": [
       "<Figure size 727.95x727.95 with 1 Axes>"
      ]
     },
     "execution_count": 21,
     "metadata": {},
     "output_type": "execute_result"
    }
   ],
   "source": [
    "from qmiotools.data import QUBIT_POSITIONS\n",
    "pos=QUBIT_POSITIONS\n",
    "backend=QmioBackend()\n",
    "def plot_t1_colors(backend):\n",
    "    import matplotlib as mpl\n",
    "    from matplotlib.cm import ScalarMappable as SC\n",
    "    from matplotlib import colors\n",
    "\n",
    "    cmap = mpl.colormaps['plasma']\n",
    "\n",
    "    sc=SC(cmap=cmap)\n",
    "\n",
    "    T1s=[backend.qubit_properties(i).t1*1e4 for i in range(32)]\n",
    "    \n",
    "    col=sc.to_rgba(T1s)\n",
    "    q=[colors.to_hex(i) for i in col]\n",
    "    return q\n",
    "\n",
    "    \n",
    "\n",
    "plot_gate_map(backend, qubit_coordinates=pos,plot_directed=True,line_width=1,qubit_color=plot_t1_colors(backend))"
   ]
  },
  {
   "cell_type": "code",
   "execution_count": 22,
   "id": "eabafe09",
   "metadata": {
    "scrolled": true
   },
   "outputs": [
    {
     "data": {
      "image/png": "[encoded data removed]",
      "text/plain": [
       "<Figure size 576x432 with 1 Axes>"
      ]
     },
     "metadata": {
      "needs_background": "light"
     },
     "output_type": "display_data"
    }
   ],
   "source": [
    "import matplotlib.pyplot as plt\n",
    "from qiskit import QuantumCircuit, transpile\n",
    "from qiskit.transpiler import CouplingMap\n",
    " \n",
    "#coupling_map = CouplingMap.from_heavy_hex(3)\n",
    "\n",
    " \n",
    "ghz = QuantumCircuit(15)\n",
    "ghz.h(0)\n",
    "ghz.cx(0, range(1, 15))\n",
    " \n",
    "depths = []\n",
    "for i in range(20):\n",
    "    depths.append(\n",
    "        transpile(\n",
    "            ghz,\n",
    "            backend,\n",
    "            seed_transpiler=i,\n",
    "            optimization_level=1,\n",
    "            #layout_method='trivial'  # Fixed layout mapped in circuit order\n",
    "        ).depth()\n",
    "    )\n",
    " \n",
    "plt.figure(figsize=(8, 6))\n",
    "plt.hist(depths, align='left', color='#AC557C')\n",
    "plt.xlabel('Depth', fontsize=14)\n",
    "plt.ylabel('Counts', fontsize=14);"
   ]
  },
  {
   "cell_type": "code",
   "execution_count": null,
   "id": "81dd5845-be40-4dec-b599-fb1c60f424f1",
   "metadata": {},
   "outputs": [],
   "source": []
  }
 ],
 "metadata": {
  "kernelspec": {
   "display_name": "Python 3 (ipykernel)",
   "language": "python",
   "name": "python3"
  },
  "language_info": {
   "codemirror_mode": {
    "name": "ipython",
    "version": 3
   },
   "file_extension": ".py",
   "mimetype": "text/x-python",
   "name": "python",
   "nbconvert_exporter": "python",
   "pygments_lexer": "ipython3",
   "version": "3.9.9"
  }
 },
 "nbformat": 4,
 "nbformat_minor": 5
}
